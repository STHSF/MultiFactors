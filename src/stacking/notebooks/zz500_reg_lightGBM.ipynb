{
 "cells": [
  {
   "cell_type": "code",
   "execution_count": 1,
   "metadata": {
    "pycharm": {
     "is_executing": false
    }
   },
   "outputs": [],
   "source": [
    "import math\n",
    "import matplotlib\n",
    "import numpy as np\n",
    "import pandas as pd\n",
    "import seaborn as sns\n",
    "import time\n",
    "\n",
    "from datetime import date\n",
    "from matplotlib import pyplot as plt\n",
    "from pylab import rcParams\n",
    "from sklearn.metrics import mean_squared_error\n",
    "from sklearn.preprocessing import StandardScaler\n",
    "from tqdm import tqdm_notebook\n",
    "\n",
    "%matplotlib inline\n",
    "\n",
    "#### Input params ##################\n",
    "stk_path = \"../../data/zz500.csv\"\n",
    "# stk_path = \"../../data/GSPC.csv\"\n",
    "\n",
    "test_size = 0.2                # proportion of dataset to be used as test set\n",
    "cv_size = 0.2                  # proportion of dataset to be used as cross-validation set\n",
    "N = 3                         # for feature at day t, we use lags from t-1, t-2, ..., t-N as features\n",
    "\n",
    "n_estimators = 100             # Number of boosted trees to fit. default = 100\n",
    "max_depth = 3                  # Maximum tree depth for base learners. default = 3\n",
    "learning_rate = 0.1            # Boosting learning rate (xgb’s “eta”). default = 0.1\n",
    "min_child_weight = 1           # Minimum sum of instance weight(hessian) needed in a child. default = 1\n",
    "subsample = 1                  # Subsample ratio of the training instance. default = 1\n",
    "colsample_bytree = 1           # Subsample ratio of columns when constructing each tree. default = 1\n",
    "colsample_bylevel = 1          # Subsample ratio of columns for each split, in each level. default = 1\n",
    "gamma = 0                      # Minimum loss reduction required to make a further partition on a leaf node of the tree. default=0\n",
    "\n",
    "model_seed = 100\n",
    "\n",
    "fontsize = 14\n",
    "ticklabelsize = 14\n",
    "####################################"
   ]
  },
  {
   "cell_type": "markdown",
   "metadata": {},
   "source": [
    "# Common functions"
   ]
  },
  {
   "cell_type": "code",
   "execution_count": 2,
   "metadata": {
    "code_folding": [],
    "pycharm": {
     "is_executing": false
    }
   },
   "outputs": [],
   "source": [
    "from xgboost import XGBRegressor\n",
    "\n",
    "def get_mov_avg_std(df, col, N):\n",
    "    \"\"\"\n",
    "    Given a dataframe, get mean and std dev at timestep t using values from t-1, t-2, ..., t-N.\n",
    "    Inputs\n",
    "        df         : dataframe. Can be of any length.\n",
    "        col        : name of the column you want to calculate mean and std dev\n",
    "        N          : get mean and std dev at timestep t using values from t-1, t-2, ..., t-N\n",
    "    Outputs\n",
    "        df_out     : same as df but with additional column containing mean and std dev\n",
    "    \"\"\"\n",
    "    mean_list = df[col].rolling(window = N, min_periods=1).mean() # len(mean_list) = len(df)\n",
    "    std_list = df[col].rolling(window = N, min_periods=1).std()   # first value will be NaN, because normalized by N-1\n",
    "    \n",
    "    # Add one timestep to the predictions\n",
    "    mean_list = np.concatenate((np.array([np.nan]), np.array(mean_list[:-1])))\n",
    "    std_list = np.concatenate((np.array([np.nan]), np.array(std_list[:-1])))\n",
    "    \n",
    "    # Append mean_list to df\n",
    "    df_out = df.copy()\n",
    "    df_out[col + '_mean'] = mean_list\n",
    "    df_out[col + '_std'] = std_list\n",
    "    \n",
    "    return df_out\n",
    "\n",
    "def scale_row(row, feat_mean, feat_std):\n",
    "    \"\"\"\n",
    "    Given a pandas series in row, scale it to have 0 mean and var 1 using feat_mean and feat_std\n",
    "    Inputs\n",
    "        row      : pandas series. Need to scale this.\n",
    "        feat_mean: mean  \n",
    "        feat_std : standard deviation\n",
    "    Outputs\n",
    "        row_scaled : pandas series with same length as row, but scaled\n",
    "    \"\"\"\n",
    "    # If feat_std = 0 (this happens if adj_close doesn't change over N days), \n",
    "    # set it to a small number to avoid division by zero\n",
    "    feat_std = 0.001 if feat_std == 0 else feat_std\n",
    "    \n",
    "    row_scaled = (row-feat_mean) / feat_std\n",
    "    \n",
    "    return row_scaled\n",
    "\n",
    "def get_mape(y_true, y_pred): \n",
    "    \"\"\"\n",
    "    Compute mean absolute percentage error (MAPE)\n",
    "    \"\"\"\n",
    "    y_true, y_pred = np.array(y_true), np.array(y_pred)\n",
    "    return np.mean(np.abs((y_true - y_pred) / y_true)) * 100\n"
   ]
  },
  {
   "cell_type": "markdown",
   "metadata": {},
   "source": [
    "# Load data"
   ]
  },
  {
   "cell_type": "code",
   "execution_count": 3,
   "metadata": {
    "pycharm": {
     "is_executing": false
    }
   },
   "outputs": [
    {
     "data": {
      "text/html": [
       "<div>\n",
       "<style scoped>\n",
       "    .dataframe tbody tr th:only-of-type {\n",
       "        vertical-align: middle;\n",
       "    }\n",
       "\n",
       "    .dataframe tbody tr th {\n",
       "        vertical-align: top;\n",
       "    }\n",
       "\n",
       "    .dataframe thead th {\n",
       "        text-align: right;\n",
       "    }\n",
       "</style>\n",
       "<table border=\"1\" class=\"dataframe\">\n",
       "  <thead>\n",
       "    <tr style=\"text-align: right;\">\n",
       "      <th></th>\n",
       "      <th>date</th>\n",
       "      <th>close</th>\n",
       "      <th>high</th>\n",
       "      <th>open</th>\n",
       "      <th>low</th>\n",
       "      <th>volume</th>\n",
       "      <th>adj_close</th>\n",
       "      <th>month</th>\n",
       "    </tr>\n",
       "  </thead>\n",
       "  <tbody>\n",
       "    <tr>\n",
       "      <th>2665</th>\n",
       "      <td>2007-01-04</td>\n",
       "      <td>1723.69</td>\n",
       "      <td>1748.091</td>\n",
       "      <td>1738.929</td>\n",
       "      <td>1719.498</td>\n",
       "      <td>3.212987e+09</td>\n",
       "      <td>1723.69</td>\n",
       "      <td>1</td>\n",
       "    </tr>\n",
       "    <tr>\n",
       "      <th>2666</th>\n",
       "      <td>2007-01-05</td>\n",
       "      <td>1770.47</td>\n",
       "      <td>1770.483</td>\n",
       "      <td>1719.283</td>\n",
       "      <td>1712.737</td>\n",
       "      <td>2.954547e+09</td>\n",
       "      <td>1770.47</td>\n",
       "      <td>1</td>\n",
       "    </tr>\n",
       "    <tr>\n",
       "      <th>1723</th>\n",
       "      <td>2007-01-08</td>\n",
       "      <td>1851.96</td>\n",
       "      <td>1851.964</td>\n",
       "      <td>1773.023</td>\n",
       "      <td>1773.023</td>\n",
       "      <td>3.971932e+09</td>\n",
       "      <td>1851.96</td>\n",
       "      <td>1</td>\n",
       "    </tr>\n",
       "    <tr>\n",
       "      <th>1724</th>\n",
       "      <td>2007-01-09</td>\n",
       "      <td>1891.87</td>\n",
       "      <td>1893.723</td>\n",
       "      <td>1855.347</td>\n",
       "      <td>1853.901</td>\n",
       "      <td>4.284591e+09</td>\n",
       "      <td>1891.87</td>\n",
       "      <td>1</td>\n",
       "    </tr>\n",
       "    <tr>\n",
       "      <th>2667</th>\n",
       "      <td>2007-01-10</td>\n",
       "      <td>1940.83</td>\n",
       "      <td>1940.832</td>\n",
       "      <td>1896.711</td>\n",
       "      <td>1884.619</td>\n",
       "      <td>4.540634e+09</td>\n",
       "      <td>1940.83</td>\n",
       "      <td>1</td>\n",
       "    </tr>\n",
       "  </tbody>\n",
       "</table>\n",
       "</div>"
      ],
      "text/plain": [
       "           date    close      high      open       low        volume  \\\n",
       "2665 2007-01-04  1723.69  1748.091  1738.929  1719.498  3.212987e+09   \n",
       "2666 2007-01-05  1770.47  1770.483  1719.283  1712.737  2.954547e+09   \n",
       "1723 2007-01-08  1851.96  1851.964  1773.023  1773.023  3.971932e+09   \n",
       "1724 2007-01-09  1891.87  1893.723  1855.347  1853.901  4.284591e+09   \n",
       "2667 2007-01-10  1940.83  1940.832  1896.711  1884.619  4.540634e+09   \n",
       "\n",
       "      adj_close  month  \n",
       "2665    1723.69      1  \n",
       "2666    1770.47      1  \n",
       "1723    1851.96      1  \n",
       "1724    1891.87      1  \n",
       "2667    1940.83      1  "
      ]
     },
     "execution_count": 3,
     "metadata": {},
     "output_type": "execute_result"
    }
   ],
   "source": [
    "df = pd.read_csv(stk_path, sep = \",\")\n",
    "\n",
    "# Convert Date column to datetime\n",
    "df.loc[:, 'Date'] = pd.to_datetime(df['Date'],format='%Y-%m-%d')\n",
    "\n",
    "# Change all column headings to be lower case, and remove spacing\n",
    "df.columns = [str(x).lower().replace(' ', '_') for x in df.columns]\n",
    "\n",
    "# Get month of each sample\n",
    "df['month'] = df['date'].dt.month\n",
    "\n",
    "# Sort by datetime\n",
    "df.sort_values(by='date', inplace=True, ascending=True)\n",
    "\n",
    "df.head()"
   ]
  },
  {
   "cell_type": "code",
   "execution_count": 4,
   "metadata": {
    "pycharm": {
     "is_executing": false
    }
   },
   "outputs": [
    {
     "data": {
      "text/plain": [
       "Text(0, 0.5, 'USD')"
      ]
     },
     "execution_count": 4,
     "metadata": {},
     "output_type": "execute_result"
    },
    {
     "data": {
      "image/png": "[encoded data removed]",
      "text/plain": [
       "<Figure size 720x576 with 1 Axes>"
      ]
     },
     "metadata": {
      "needs_background": "light"
     },
     "output_type": "display_data"
    }
   ],
   "source": [
    "# Plot adjusted close over time\n",
    "rcParams['figure.figsize'] = 10, 8 # width 10, height 8\n",
    "\n",
    "ax = df.plot(x='date', y='adj_close', style='b-', grid=True)\n",
    "ax.set_xlabel(\"date\")\n",
    "ax.set_ylabel(\"USD\")"
   ]
  },
  {
   "cell_type": "markdown",
   "metadata": {},
   "source": [
    "# Feature Engineering"
   ]
  },
  {
   "cell_type": "markdown",
   "metadata": {
    "collapsed": true
   },
   "source": [
    "We will generate the following features:\n",
    "* Mean 'adj_close' of each month\n",
    "* Difference between high and low of each day\n",
    "* Difference between open and close of each day\n",
    "* Mean volume of each month"
   ]
  },
  {
   "cell_type": "code",
   "execution_count": 5,
   "metadata": {
    "pycharm": {
     "is_executing": false
    },
    "scrolled": true
   },
   "outputs": [
    {
     "data": {
      "text/html": [
       "<div>\n",
       "<style scoped>\n",
       "    .dataframe tbody tr th:only-of-type {\n",
       "        vertical-align: middle;\n",
       "    }\n",
       "\n",
       "    .dataframe tbody tr th {\n",
       "        vertical-align: top;\n",
       "    }\n",
       "\n",
       "    .dataframe thead th {\n",
       "        text-align: right;\n",
       "    }\n",
       "</style>\n",
       "<table border=\"1\" class=\"dataframe\">\n",
       "  <thead>\n",
       "    <tr style=\"text-align: right;\">\n",
       "      <th></th>\n",
       "      <th>date</th>\n",
       "      <th>volume</th>\n",
       "      <th>adj_close</th>\n",
       "      <th>month</th>\n",
       "      <th>range_hl</th>\n",
       "      <th>range_oc</th>\n",
       "    </tr>\n",
       "  </thead>\n",
       "  <tbody>\n",
       "    <tr>\n",
       "      <th>2665</th>\n",
       "      <td>2007-01-04</td>\n",
       "      <td>3.212987e+09</td>\n",
       "      <td>1723.69</td>\n",
       "      <td>1</td>\n",
       "      <td>28.593</td>\n",
       "      <td>15.239</td>\n",
       "    </tr>\n",
       "    <tr>\n",
       "      <th>2666</th>\n",
       "      <td>2007-01-05</td>\n",
       "      <td>2.954547e+09</td>\n",
       "      <td>1770.47</td>\n",
       "      <td>1</td>\n",
       "      <td>57.746</td>\n",
       "      <td>-51.187</td>\n",
       "    </tr>\n",
       "    <tr>\n",
       "      <th>1723</th>\n",
       "      <td>2007-01-08</td>\n",
       "      <td>3.971932e+09</td>\n",
       "      <td>1851.96</td>\n",
       "      <td>1</td>\n",
       "      <td>78.941</td>\n",
       "      <td>-78.937</td>\n",
       "    </tr>\n",
       "    <tr>\n",
       "      <th>1724</th>\n",
       "      <td>2007-01-09</td>\n",
       "      <td>4.284591e+09</td>\n",
       "      <td>1891.87</td>\n",
       "      <td>1</td>\n",
       "      <td>39.822</td>\n",
       "      <td>-36.523</td>\n",
       "    </tr>\n",
       "    <tr>\n",
       "      <th>2667</th>\n",
       "      <td>2007-01-10</td>\n",
       "      <td>4.540634e+09</td>\n",
       "      <td>1940.83</td>\n",
       "      <td>1</td>\n",
       "      <td>56.213</td>\n",
       "      <td>-44.119</td>\n",
       "    </tr>\n",
       "  </tbody>\n",
       "</table>\n",
       "</div>"
      ],
      "text/plain": [
       "           date        volume  adj_close  month  range_hl  range_oc\n",
       "2665 2007-01-04  3.212987e+09    1723.69      1    28.593    15.239\n",
       "2666 2007-01-05  2.954547e+09    1770.47      1    57.746   -51.187\n",
       "1723 2007-01-08  3.971932e+09    1851.96      1    78.941   -78.937\n",
       "1724 2007-01-09  4.284591e+09    1891.87      1    39.822   -36.523\n",
       "2667 2007-01-10  4.540634e+09    1940.83      1    56.213   -44.119"
      ]
     },
     "execution_count": 5,
     "metadata": {},
     "output_type": "execute_result"
    }
   ],
   "source": [
    "# Get difference between high and low of each day\n",
    "df['range_hl'] = df['high'] - df['low']\n",
    "df.drop(['high', 'low'], axis=1, inplace=True)\n",
    "\n",
    "# Get difference between open and close of each day\n",
    "df['range_oc'] = df['open'] - df['close']\n",
    "df.drop(['open', 'close'], axis=1, inplace=True)\n",
    "\n",
    "df.head()"
   ]
  },
  {
   "cell_type": "markdown",
   "metadata": {},
   "source": [
    "Now we use lags up to N number of days to use as features."
   ]
  },
  {
   "cell_type": "code",
   "execution_count": 6,
   "metadata": {
    "pycharm": {
     "is_executing": false
    }
   },
   "outputs": [
    {
     "data": {
      "text/plain": [
       "['adj_close', 'range_hl', 'range_oc', 'volume']"
      ]
     },
     "execution_count": 6,
     "metadata": {},
     "output_type": "execute_result"
    }
   ],
   "source": [
    "# Add a column 'order_day' to indicate the order of the rows by date\n",
    "df['order_day'] = [x for x in list(range(len(df)))]\n",
    "\n",
    "# merging_keys\n",
    "merging_keys = ['order_day']\n",
    "\n",
    "# List of columns that we will use to create lags\n",
    "lag_cols = ['adj_close', 'range_hl', 'range_oc', 'volume']\n",
    "lag_cols"
   ]
  },
  {
   "cell_type": "code",
   "execution_count": 7,
   "metadata": {
    "pycharm": {
     "is_executing": false
    }
   },
   "outputs": [
    {
     "name": "stderr",
     "output_type": "stream",
     "text": [
      "/home/jerry/workshop/virtualenv/alpha-mind/lib/python3.6/site-packages/ipykernel_launcher.py:3: TqdmDeprecationWarning: This function will be removed in tqdm==5.0.0\n",
      "Please use `tqdm.notebook.tqdm` instead of `tqdm.tqdm_notebook`\n",
      "  This is separate from the ipykernel package so we can avoid doing imports until\n"
     ]
    },
    {
     "data": {
      "application/vnd.jupyter.widget-view+json": {
       "model_id": "4ede15f78e27467c864c48cdac4c6a33",
       "version_major": 2,
       "version_minor": 0
      },
      "text/plain": [
       "HBox(children=(IntProgress(value=0, max=3), HTML(value='')))"
      ]
     },
     "metadata": {},
     "output_type": "display_data"
    },
    {
     "name": "stdout",
     "output_type": "stream",
     "text": [
      "\n"
     ]
    },
    {
     "data": {
      "text/html": [
       "<div>\n",
       "<style scoped>\n",
       "    .dataframe tbody tr th:only-of-type {\n",
       "        vertical-align: middle;\n",
       "    }\n",
       "\n",
       "    .dataframe tbody tr th {\n",
       "        vertical-align: top;\n",
       "    }\n",
       "\n",
       "    .dataframe thead th {\n",
       "        text-align: right;\n",
       "    }\n",
       "</style>\n",
       "<table border=\"1\" class=\"dataframe\">\n",
       "  <thead>\n",
       "    <tr style=\"text-align: right;\">\n",
       "      <th></th>\n",
       "      <th>date</th>\n",
       "      <th>volume</th>\n",
       "      <th>adj_close</th>\n",
       "      <th>month</th>\n",
       "      <th>range_hl</th>\n",
       "      <th>range_oc</th>\n",
       "      <th>order_day</th>\n",
       "      <th>adj_close_lag_1</th>\n",
       "      <th>range_hl_lag_1</th>\n",
       "      <th>range_oc_lag_1</th>\n",
       "      <th>volume_lag_1</th>\n",
       "      <th>adj_close_lag_2</th>\n",
       "      <th>range_hl_lag_2</th>\n",
       "      <th>range_oc_lag_2</th>\n",
       "      <th>volume_lag_2</th>\n",
       "      <th>adj_close_lag_3</th>\n",
       "      <th>range_hl_lag_3</th>\n",
       "      <th>range_oc_lag_3</th>\n",
       "      <th>volume_lag_3</th>\n",
       "    </tr>\n",
       "  </thead>\n",
       "  <tbody>\n",
       "    <tr>\n",
       "      <th>3</th>\n",
       "      <td>2007-01-09</td>\n",
       "      <td>4.284591e+09</td>\n",
       "      <td>1891.870</td>\n",
       "      <td>1</td>\n",
       "      <td>39.822</td>\n",
       "      <td>-36.523</td>\n",
       "      <td>3</td>\n",
       "      <td>1851.96</td>\n",
       "      <td>78.941</td>\n",
       "      <td>-78.937</td>\n",
       "      <td>3.971932e+09</td>\n",
       "      <td>1770.47</td>\n",
       "      <td>57.746</td>\n",
       "      <td>-51.187</td>\n",
       "      <td>2.954547e+09</td>\n",
       "      <td>1723.69</td>\n",
       "      <td>28.593</td>\n",
       "      <td>15.239</td>\n",
       "      <td>3.212987e+09</td>\n",
       "    </tr>\n",
       "    <tr>\n",
       "      <th>4</th>\n",
       "      <td>2007-01-10</td>\n",
       "      <td>4.540634e+09</td>\n",
       "      <td>1940.830</td>\n",
       "      <td>1</td>\n",
       "      <td>56.213</td>\n",
       "      <td>-44.119</td>\n",
       "      <td>4</td>\n",
       "      <td>1891.87</td>\n",
       "      <td>39.822</td>\n",
       "      <td>-36.523</td>\n",
       "      <td>4.284591e+09</td>\n",
       "      <td>1851.96</td>\n",
       "      <td>78.941</td>\n",
       "      <td>-78.937</td>\n",
       "      <td>3.971932e+09</td>\n",
       "      <td>1770.47</td>\n",
       "      <td>57.746</td>\n",
       "      <td>-51.187</td>\n",
       "      <td>2.954547e+09</td>\n",
       "    </tr>\n",
       "    <tr>\n",
       "      <th>5</th>\n",
       "      <td>2007-01-11</td>\n",
       "      <td>5.388346e+09</td>\n",
       "      <td>1952.230</td>\n",
       "      <td>1</td>\n",
       "      <td>69.665</td>\n",
       "      <td>-5.729</td>\n",
       "      <td>5</td>\n",
       "      <td>1940.83</td>\n",
       "      <td>56.213</td>\n",
       "      <td>-44.119</td>\n",
       "      <td>4.540634e+09</td>\n",
       "      <td>1891.87</td>\n",
       "      <td>39.822</td>\n",
       "      <td>-36.523</td>\n",
       "      <td>4.284591e+09</td>\n",
       "      <td>1851.96</td>\n",
       "      <td>78.941</td>\n",
       "      <td>-78.937</td>\n",
       "      <td>3.971932e+09</td>\n",
       "    </tr>\n",
       "    <tr>\n",
       "      <th>6</th>\n",
       "      <td>2007-01-12</td>\n",
       "      <td>4.408009e+09</td>\n",
       "      <td>1881.750</td>\n",
       "      <td>1</td>\n",
       "      <td>93.275</td>\n",
       "      <td>59.595</td>\n",
       "      <td>6</td>\n",
       "      <td>1952.23</td>\n",
       "      <td>69.665</td>\n",
       "      <td>-5.729</td>\n",
       "      <td>5.388346e+09</td>\n",
       "      <td>1940.83</td>\n",
       "      <td>56.213</td>\n",
       "      <td>-44.119</td>\n",
       "      <td>4.540634e+09</td>\n",
       "      <td>1891.87</td>\n",
       "      <td>39.822</td>\n",
       "      <td>-36.523</td>\n",
       "      <td>4.284591e+09</td>\n",
       "    </tr>\n",
       "    <tr>\n",
       "      <th>7</th>\n",
       "      <td>2007-01-15</td>\n",
       "      <td>3.881263e+09</td>\n",
       "      <td>1986.539</td>\n",
       "      <td>1</td>\n",
       "      <td>105.072</td>\n",
       "      <td>-105.072</td>\n",
       "      <td>7</td>\n",
       "      <td>1881.75</td>\n",
       "      <td>93.275</td>\n",
       "      <td>59.595</td>\n",
       "      <td>4.408009e+09</td>\n",
       "      <td>1952.23</td>\n",
       "      <td>69.665</td>\n",
       "      <td>-5.729</td>\n",
       "      <td>5.388346e+09</td>\n",
       "      <td>1940.83</td>\n",
       "      <td>56.213</td>\n",
       "      <td>-44.119</td>\n",
       "      <td>4.540634e+09</td>\n",
       "    </tr>\n",
       "  </tbody>\n",
       "</table>\n",
       "</div>"
      ],
      "text/plain": [
       "        date        volume  adj_close  month  range_hl  range_oc  order_day  \\\n",
       "3 2007-01-09  4.284591e+09   1891.870      1    39.822   -36.523          3   \n",
       "4 2007-01-10  4.540634e+09   1940.830      1    56.213   -44.119          4   \n",
       "5 2007-01-11  5.388346e+09   1952.230      1    69.665    -5.729          5   \n",
       "6 2007-01-12  4.408009e+09   1881.750      1    93.275    59.595          6   \n",
       "7 2007-01-15  3.881263e+09   1986.539      1   105.072  -105.072          7   \n",
       "\n",
       "   adj_close_lag_1  range_hl_lag_1  range_oc_lag_1  volume_lag_1  \\\n",
       "3          1851.96          78.941         -78.937  3.971932e+09   \n",
       "4          1891.87          39.822         -36.523  4.284591e+09   \n",
       "5          1940.83          56.213         -44.119  4.540634e+09   \n",
       "6          1952.23          69.665          -5.729  5.388346e+09   \n",
       "7          1881.75          93.275          59.595  4.408009e+09   \n",
       "\n",
       "   adj_close_lag_2  range_hl_lag_2  range_oc_lag_2  volume_lag_2  \\\n",
       "3          1770.47          57.746         -51.187  2.954547e+09   \n",
       "4          1851.96          78.941         -78.937  3.971932e+09   \n",
       "5          1891.87          39.822         -36.523  4.284591e+09   \n",
       "6          1940.83          56.213         -44.119  4.540634e+09   \n",
       "7          1952.23          69.665          -5.729  5.388346e+09   \n",
       "\n",
       "   adj_close_lag_3  range_hl_lag_3  range_oc_lag_3  volume_lag_3  \n",
       "3          1723.69          28.593          15.239  3.212987e+09  \n",
       "4          1770.47          57.746         -51.187  2.954547e+09  \n",
       "5          1851.96          78.941         -78.937  3.971932e+09  \n",
       "6          1891.87          39.822         -36.523  4.284591e+09  \n",
       "7          1940.83          56.213         -44.119  4.540634e+09  "
      ]
     },
     "execution_count": 7,
     "metadata": {},
     "output_type": "execute_result"
    }
   ],
   "source": [
    "shift_range = [x+1 for x in range(N)]\n",
    "\n",
    "for shift in tqdm_notebook(shift_range):\n",
    "    train_shift = df[merging_keys + lag_cols].copy()\n",
    "    \n",
    "    # E.g. order_day of 0 becomes 1, for shift = 1.\n",
    "    # So when this is merged with order_day of 1 in df, this will represent lag of 1.\n",
    "    train_shift['order_day'] = train_shift['order_day'] + shift\n",
    "    \n",
    "    foo = lambda x: '{}_lag_{}'.format(x, shift) if x in lag_cols else x\n",
    "    train_shift = train_shift.rename(columns=foo)\n",
    "\n",
    "    df = pd.merge(df, train_shift, on=merging_keys, how='left') #.fillna(0)\n",
    "    \n",
    "del train_shift\n",
    "\n",
    "# Remove the first N rows which contain NaNs\n",
    "df = df[N:]\n",
    "    \n",
    "df.head()"
   ]
  },
  {
   "cell_type": "code",
   "execution_count": 8,
   "metadata": {
    "pycharm": {
     "is_executing": false
    }
   },
   "outputs": [
    {
     "name": "stdout",
     "output_type": "stream",
     "text": [
      "<class 'pandas.core.frame.DataFrame'>\n",
      "Int64Index: 3130 entries, 3 to 3132\n",
      "Data columns (total 19 columns):\n",
      "date               3130 non-null datetime64[ns]\n",
      "volume             3130 non-null float64\n",
      "adj_close          3130 non-null float64\n",
      "month              3130 non-null int64\n",
      "range_hl           3130 non-null float64\n",
      "range_oc           3130 non-null float64\n",
      "order_day          3130 non-null int64\n",
      "adj_close_lag_1    3130 non-null float64\n",
      "range_hl_lag_1     3130 non-null float64\n",
      "range_oc_lag_1     3130 non-null float64\n",
      "volume_lag_1       3130 non-null float64\n",
      "adj_close_lag_2    3130 non-null float64\n",
      "range_hl_lag_2     3130 non-null float64\n",
      "range_oc_lag_2     3130 non-null float64\n",
      "volume_lag_2       3130 non-null float64\n",
      "adj_close_lag_3    3130 non-null float64\n",
      "range_hl_lag_3     3130 non-null float64\n",
      "range_oc_lag_3     3130 non-null float64\n",
      "volume_lag_3       3130 non-null float64\n",
      "dtypes: datetime64[ns](1), float64(16), int64(2)\n",
      "memory usage: 489.1 KB\n"
     ]
    }
   ],
   "source": [
    "df.info()"
   ]
  },
  {
   "cell_type": "code",
   "execution_count": 9,
   "metadata": {
    "pycharm": {
     "is_executing": false
    }
   },
   "outputs": [],
   "source": [
    "# # Get mean of adj_close of each month\n",
    "# df_gb = df.groupby(['month'], as_index=False).agg({'adj_close':'mean'})\n",
    "# df_gb = df_gb.rename(columns={'adj_close':'adj_close_mean'})\n",
    "# df_gb\n",
    "\n",
    "# # Merge to main df\n",
    "# df = df.merge(df_gb, \n",
    "#               left_on=['month'], \n",
    "#               right_on=['month'],\n",
    "#               how='left').fillna(0)\n",
    "\n",
    "# # Merge to main df\n",
    "# shift_range = [x+1 for x in range(2)]\n",
    "\n",
    "# for shift in tqdm_notebook(shift_range):\n",
    "#     train_shift = df[merging_keys + lag_cols].copy()\n",
    "    \n",
    "#     # E.g. order_day of 0 becomes 1, for shift = 1.\n",
    "#     # So when this is merged with order_day of 1 in df, this will represent lag of 1.\n",
    "#     train_shift['order_day'] = train_shift['order_day'] + shift\n",
    "    \n",
    "#     foo = lambda x: '{}_lag_{}'.format(x, shift) if x in lag_cols else x\n",
    "#     train_shift = train_shift.rename(columns=foo)\n",
    "\n",
    "#     df = pd.merge(df, train_shift, on=merging_keys, how='left') #.fillna(0)\n",
    "    \n",
    "# del train_shift\n",
    "    \n",
    "# df"
   ]
  },
  {
   "cell_type": "code",
   "execution_count": 10,
   "metadata": {
    "pycharm": {
     "is_executing": false
    }
   },
   "outputs": [],
   "source": [
    "# # Get mean of volume of each month\n",
    "# df_gb = df.groupby(['month'], as_index=False).agg({'volume':'mean'})\n",
    "# df_gb = df_gb.rename(columns={'volume':'volume_mean'})\n",
    "# df_gb\n",
    "\n",
    "# # Merge to main df\n",
    "# df = df.merge(df_gb, \n",
    "#               left_on=['month'], \n",
    "#               right_on=['month'],\n",
    "#               how='left').fillna(0)\n",
    "\n",
    "# df.head()"
   ]
  },
  {
   "cell_type": "markdown",
   "metadata": {},
   "source": [
    "# Get mean and std dev at timestamp t using values from t-1, ..., t-N"
   ]
  },
  {
   "cell_type": "code",
   "execution_count": 11,
   "metadata": {
    "pycharm": {
     "is_executing": false
    }
   },
   "outputs": [
    {
     "data": {
      "text/html": [
       "<div>\n",
       "<style scoped>\n",
       "    .dataframe tbody tr th:only-of-type {\n",
       "        vertical-align: middle;\n",
       "    }\n",
       "\n",
       "    .dataframe tbody tr th {\n",
       "        vertical-align: top;\n",
       "    }\n",
       "\n",
       "    .dataframe thead th {\n",
       "        text-align: right;\n",
       "    }\n",
       "</style>\n",
       "<table border=\"1\" class=\"dataframe\">\n",
       "  <thead>\n",
       "    <tr style=\"text-align: right;\">\n",
       "      <th></th>\n",
       "      <th>date</th>\n",
       "      <th>volume</th>\n",
       "      <th>adj_close</th>\n",
       "      <th>month</th>\n",
       "      <th>range_hl</th>\n",
       "      <th>range_oc</th>\n",
       "      <th>order_day</th>\n",
       "      <th>adj_close_lag_1</th>\n",
       "      <th>range_hl_lag_1</th>\n",
       "      <th>range_oc_lag_1</th>\n",
       "      <th>...</th>\n",
       "      <th>range_oc_lag_3</th>\n",
       "      <th>volume_lag_3</th>\n",
       "      <th>adj_close_mean</th>\n",
       "      <th>adj_close_std</th>\n",
       "      <th>range_hl_mean</th>\n",
       "      <th>range_hl_std</th>\n",
       "      <th>range_oc_mean</th>\n",
       "      <th>range_oc_std</th>\n",
       "      <th>volume_mean</th>\n",
       "      <th>volume_std</th>\n",
       "    </tr>\n",
       "  </thead>\n",
       "  <tbody>\n",
       "    <tr>\n",
       "      <th>3</th>\n",
       "      <td>2007-01-09</td>\n",
       "      <td>4.284591e+09</td>\n",
       "      <td>1891.870</td>\n",
       "      <td>1</td>\n",
       "      <td>39.822</td>\n",
       "      <td>-36.523</td>\n",
       "      <td>3</td>\n",
       "      <td>1851.96</td>\n",
       "      <td>78.941</td>\n",
       "      <td>-78.937</td>\n",
       "      <td>...</td>\n",
       "      <td>15.239</td>\n",
       "      <td>3.212987e+09</td>\n",
       "      <td>NaN</td>\n",
       "      <td>NaN</td>\n",
       "      <td>NaN</td>\n",
       "      <td>NaN</td>\n",
       "      <td>NaN</td>\n",
       "      <td>NaN</td>\n",
       "      <td>NaN</td>\n",
       "      <td>NaN</td>\n",
       "    </tr>\n",
       "    <tr>\n",
       "      <th>4</th>\n",
       "      <td>2007-01-10</td>\n",
       "      <td>4.540634e+09</td>\n",
       "      <td>1940.830</td>\n",
       "      <td>1</td>\n",
       "      <td>56.213</td>\n",
       "      <td>-44.119</td>\n",
       "      <td>4</td>\n",
       "      <td>1891.87</td>\n",
       "      <td>39.822</td>\n",
       "      <td>-36.523</td>\n",
       "      <td>...</td>\n",
       "      <td>-51.187</td>\n",
       "      <td>2.954547e+09</td>\n",
       "      <td>1891.870000</td>\n",
       "      <td>NaN</td>\n",
       "      <td>39.822000</td>\n",
       "      <td>NaN</td>\n",
       "      <td>-36.523000</td>\n",
       "      <td>NaN</td>\n",
       "      <td>4.284591e+09</td>\n",
       "      <td>NaN</td>\n",
       "    </tr>\n",
       "    <tr>\n",
       "      <th>5</th>\n",
       "      <td>2007-01-11</td>\n",
       "      <td>5.388346e+09</td>\n",
       "      <td>1952.230</td>\n",
       "      <td>1</td>\n",
       "      <td>69.665</td>\n",
       "      <td>-5.729</td>\n",
       "      <td>5</td>\n",
       "      <td>1940.83</td>\n",
       "      <td>56.213</td>\n",
       "      <td>-44.119</td>\n",
       "      <td>...</td>\n",
       "      <td>-78.937</td>\n",
       "      <td>3.971932e+09</td>\n",
       "      <td>1916.350000</td>\n",
       "      <td>34.619948</td>\n",
       "      <td>48.017500</td>\n",
       "      <td>11.590187</td>\n",
       "      <td>-40.321000</td>\n",
       "      <td>5.371183</td>\n",
       "      <td>4.412612e+09</td>\n",
       "      <td>1.810496e+08</td>\n",
       "    </tr>\n",
       "    <tr>\n",
       "      <th>6</th>\n",
       "      <td>2007-01-12</td>\n",
       "      <td>4.408009e+09</td>\n",
       "      <td>1881.750</td>\n",
       "      <td>1</td>\n",
       "      <td>93.275</td>\n",
       "      <td>59.595</td>\n",
       "      <td>6</td>\n",
       "      <td>1952.23</td>\n",
       "      <td>69.665</td>\n",
       "      <td>-5.729</td>\n",
       "      <td>...</td>\n",
       "      <td>-36.523</td>\n",
       "      <td>4.284591e+09</td>\n",
       "      <td>1928.310000</td>\n",
       "      <td>32.068601</td>\n",
       "      <td>55.233333</td>\n",
       "      <td>14.945600</td>\n",
       "      <td>-28.790333</td>\n",
       "      <td>20.329624</td>\n",
       "      <td>4.737857e+09</td>\n",
       "      <td>5.777040e+08</td>\n",
       "    </tr>\n",
       "    <tr>\n",
       "      <th>7</th>\n",
       "      <td>2007-01-15</td>\n",
       "      <td>3.881263e+09</td>\n",
       "      <td>1986.539</td>\n",
       "      <td>1</td>\n",
       "      <td>105.072</td>\n",
       "      <td>-105.072</td>\n",
       "      <td>7</td>\n",
       "      <td>1881.75</td>\n",
       "      <td>93.275</td>\n",
       "      <td>59.595</td>\n",
       "      <td>...</td>\n",
       "      <td>-44.119</td>\n",
       "      <td>4.540634e+09</td>\n",
       "      <td>1924.936667</td>\n",
       "      <td>37.832607</td>\n",
       "      <td>73.051000</td>\n",
       "      <td>18.761575</td>\n",
       "      <td>3.249000</td>\n",
       "      <td>52.436646</td>\n",
       "      <td>4.778997e+09</td>\n",
       "      <td>5.318626e+08</td>\n",
       "    </tr>\n",
       "  </tbody>\n",
       "</table>\n",
       "<p>5 rows × 27 columns</p>\n",
       "</div>"
      ],
      "text/plain": [
       "        date        volume  adj_close  month  range_hl  range_oc  order_day  \\\n",
       "3 2007-01-09  4.284591e+09   1891.870      1    39.822   -36.523          3   \n",
       "4 2007-01-10  4.540634e+09   1940.830      1    56.213   -44.119          4   \n",
       "5 2007-01-11  5.388346e+09   1952.230      1    69.665    -5.729          5   \n",
       "6 2007-01-12  4.408009e+09   1881.750      1    93.275    59.595          6   \n",
       "7 2007-01-15  3.881263e+09   1986.539      1   105.072  -105.072          7   \n",
       "\n",
       "   adj_close_lag_1  range_hl_lag_1  range_oc_lag_1  ...  range_oc_lag_3  \\\n",
       "3          1851.96          78.941         -78.937  ...          15.239   \n",
       "4          1891.87          39.822         -36.523  ...         -51.187   \n",
       "5          1940.83          56.213         -44.119  ...         -78.937   \n",
       "6          1952.23          69.665          -5.729  ...         -36.523   \n",
       "7          1881.75          93.275          59.595  ...         -44.119   \n",
       "\n",
       "   volume_lag_3  adj_close_mean  adj_close_std  range_hl_mean  range_hl_std  \\\n",
       "3  3.212987e+09             NaN            NaN            NaN           NaN   \n",
       "4  2.954547e+09     1891.870000            NaN      39.822000           NaN   \n",
       "5  3.971932e+09     1916.350000      34.619948      48.017500     11.590187   \n",
       "6  4.284591e+09     1928.310000      32.068601      55.233333     14.945600   \n",
       "7  4.540634e+09     1924.936667      37.832607      73.051000     18.761575   \n",
       "\n",
       "   range_oc_mean  range_oc_std   volume_mean    volume_std  \n",
       "3            NaN           NaN           NaN           NaN  \n",
       "4     -36.523000           NaN  4.284591e+09           NaN  \n",
       "5     -40.321000      5.371183  4.412612e+09  1.810496e+08  \n",
       "6     -28.790333     20.329624  4.737857e+09  5.777040e+08  \n",
       "7       3.249000     52.436646  4.778997e+09  5.318626e+08  \n",
       "\n",
       "[5 rows x 27 columns]"
      ]
     },
     "execution_count": 11,
     "metadata": {},
     "output_type": "execute_result"
    }
   ],
   "source": [
    "cols_list = [\n",
    "\"adj_close\",\n",
    "\"range_hl\",\n",
    "\"range_oc\",\n",
    "\"volume\"\n",
    "]\n",
    "\n",
    "for col in cols_list:\n",
    "    df = get_mov_avg_std(df, col, N)\n",
    "df.head()"
   ]
  },
  {
   "cell_type": "markdown",
   "metadata": {},
   "source": [
    "# Split into train, dev and test set"
   ]
  },
  {
   "cell_type": "code",
   "execution_count": 12,
   "metadata": {
    "pycharm": {
     "is_executing": false
    }
   },
   "outputs": [
    {
     "name": "stdout",
     "output_type": "stream",
     "text": [
      "num_train = 1878\n",
      "num_cv = 626\n",
      "num_test = 626\n",
      "train.shape = (1878, 27)\n",
      "cv.shape = (626, 27)\n",
      "train_cv.shape = (2504, 27)\n",
      "test.shape = (626, 27)\n"
     ]
    }
   ],
   "source": [
    "# Get sizes of each of the datasets\n",
    "num_cv = int(cv_size*len(df))\n",
    "num_test = int(test_size*len(df))\n",
    "num_train = len(df) - num_cv - num_test\n",
    "print(\"num_train = \" + str(num_train))\n",
    "print(\"num_cv = \" + str(num_cv))\n",
    "print(\"num_test = \" + str(num_test))\n",
    "\n",
    "# Split into train, cv, and test\n",
    "train = df[:num_train]\n",
    "cv = df[num_train:num_train+num_cv]\n",
    "train_cv = df[:num_train+num_cv]\n",
    "test = df[num_train+num_cv:]\n",
    "print(\"train.shape = \" + str(train.shape))\n",
    "print(\"cv.shape = \" + str(cv.shape))\n",
    "print(\"train_cv.shape = \" + str(train_cv.shape))\n",
    "print(\"test.shape = \" + str(test.shape))"
   ]
  },
  {
   "cell_type": "markdown",
   "metadata": {},
   "source": [
    "# Scale the train, dev and test set"
   ]
  },
  {
   "cell_type": "code",
   "execution_count": 13,
   "metadata": {
    "pycharm": {
     "is_executing": false
    }
   },
   "outputs": [
    {
     "name": "stdout",
     "output_type": "stream",
     "text": [
      "scaler.mean_ = [ 3.81976240e+03  3.81815139e+03  8.99206550e+01 -5.79761235e+00\n",
      "  4.28182906e+09  3.81652228e+03  8.99266486e+01 -5.81075772e+00\n",
      "  4.27951687e+09  3.81487635e+03  8.99075149e+01 -5.80916613e+00\n",
      "  4.27631082e+09]\n",
      "scaler.var_ = [6.51257445e+05 6.52721072e+05 3.19519759e+03 5.54040873e+03\n",
      " 3.27992428e+18 6.54406002e+05 3.19474441e+03 5.54127736e+03\n",
      " 3.27601655e+18 6.56204953e+05 3.19640359e+03 5.54133960e+03\n",
      " 3.26354151e+18]\n",
      "train_scaled.shape = (1878, 13)\n",
      "train_scaled.shape = (1878, 15)\n"
     ]
    },
    {
     "data": {
      "text/html": [
       "<div>\n",
       "<style scoped>\n",
       "    .dataframe tbody tr th:only-of-type {\n",
       "        vertical-align: middle;\n",
       "    }\n",
       "\n",
       "    .dataframe tbody tr th {\n",
       "        vertical-align: top;\n",
       "    }\n",
       "\n",
       "    .dataframe thead th {\n",
       "        text-align: right;\n",
       "    }\n",
       "</style>\n",
       "<table border=\"1\" class=\"dataframe\">\n",
       "  <thead>\n",
       "    <tr style=\"text-align: right;\">\n",
       "      <th></th>\n",
       "      <th>adj_close</th>\n",
       "      <th>adj_close_lag_1</th>\n",
       "      <th>range_hl_lag_1</th>\n",
       "      <th>range_oc_lag_1</th>\n",
       "      <th>volume_lag_1</th>\n",
       "      <th>adj_close_lag_2</th>\n",
       "      <th>range_hl_lag_2</th>\n",
       "      <th>range_oc_lag_2</th>\n",
       "      <th>volume_lag_2</th>\n",
       "      <th>adj_close_lag_3</th>\n",
       "      <th>range_hl_lag_3</th>\n",
       "      <th>range_oc_lag_3</th>\n",
       "      <th>volume_lag_3</th>\n",
       "      <th>date</th>\n",
       "      <th>month</th>\n",
       "    </tr>\n",
       "  </thead>\n",
       "  <tbody>\n",
       "    <tr>\n",
       "      <th>0</th>\n",
       "      <td>-2.388947</td>\n",
       "      <td>-2.433672</td>\n",
       "      <td>-0.194241</td>\n",
       "      <td>-0.982608</td>\n",
       "      <td>-0.171114</td>\n",
       "      <td>-2.529258</td>\n",
       "      <td>-0.569347</td>\n",
       "      <td>-0.609570</td>\n",
       "      <td>-0.732037</td>\n",
       "      <td>-2.581505</td>\n",
       "      <td>-1.084507</td>\n",
       "      <td>0.282753</td>\n",
       "      <td>-0.588601</td>\n",
       "      <td>2007-01-09</td>\n",
       "      <td>1</td>\n",
       "    </tr>\n",
       "    <tr>\n",
       "      <th>1</th>\n",
       "      <td>-2.328278</td>\n",
       "      <td>-2.384273</td>\n",
       "      <td>-0.886293</td>\n",
       "      <td>-0.412787</td>\n",
       "      <td>0.001525</td>\n",
       "      <td>-2.428523</td>\n",
       "      <td>-0.194360</td>\n",
       "      <td>-0.982355</td>\n",
       "      <td>-0.169939</td>\n",
       "      <td>-2.523757</td>\n",
       "      <td>-0.568860</td>\n",
       "      <td>-0.609588</td>\n",
       "      <td>-0.731660</td>\n",
       "      <td>2007-01-10</td>\n",
       "      <td>1</td>\n",
       "    </tr>\n",
       "    <tr>\n",
       "      <th>2</th>\n",
       "      <td>-2.314152</td>\n",
       "      <td>-2.323672</td>\n",
       "      <td>-0.596320</td>\n",
       "      <td>-0.514838</td>\n",
       "      <td>0.142903</td>\n",
       "      <td>-2.379187</td>\n",
       "      <td>-0.886462</td>\n",
       "      <td>-0.412578</td>\n",
       "      <td>0.002803</td>\n",
       "      <td>-2.423160</td>\n",
       "      <td>-0.193971</td>\n",
       "      <td>-0.982371</td>\n",
       "      <td>-0.168488</td>\n",
       "      <td>2007-01-11</td>\n",
       "      <td>1</td>\n",
       "    </tr>\n",
       "    <tr>\n",
       "      <th>3</th>\n",
       "      <td>-2.401487</td>\n",
       "      <td>-2.309561</td>\n",
       "      <td>-0.358342</td>\n",
       "      <td>0.000922</td>\n",
       "      <td>0.610979</td>\n",
       "      <td>-2.318665</td>\n",
       "      <td>-0.596469</td>\n",
       "      <td>-0.514621</td>\n",
       "      <td>0.144265</td>\n",
       "      <td>-2.373892</td>\n",
       "      <td>-0.885893</td>\n",
       "      <td>-0.412598</td>\n",
       "      <td>0.004583</td>\n",
       "      <td>2007-01-12</td>\n",
       "      <td>1</td>\n",
       "    </tr>\n",
       "    <tr>\n",
       "      <th>4</th>\n",
       "      <td>-2.271638</td>\n",
       "      <td>-2.396799</td>\n",
       "      <td>0.059342</td>\n",
       "      <td>0.878532</td>\n",
       "      <td>0.069672</td>\n",
       "      <td>-2.304572</td>\n",
       "      <td>-0.358473</td>\n",
       "      <td>0.001098</td>\n",
       "      <td>0.612621</td>\n",
       "      <td>-2.313452</td>\n",
       "      <td>-0.595975</td>\n",
       "      <td>-0.514639</td>\n",
       "      <td>0.146315</td>\n",
       "      <td>2007-01-15</td>\n",
       "      <td>1</td>\n",
       "    </tr>\n",
       "  </tbody>\n",
       "</table>\n",
       "</div>"
      ],
      "text/plain": [
       "   adj_close  adj_close_lag_1  range_hl_lag_1  range_oc_lag_1  volume_lag_1  \\\n",
       "0  -2.388947        -2.433672       -0.194241       -0.982608     -0.171114   \n",
       "1  -2.328278        -2.384273       -0.886293       -0.412787      0.001525   \n",
       "2  -2.314152        -2.323672       -0.596320       -0.514838      0.142903   \n",
       "3  -2.401487        -2.309561       -0.358342        0.000922      0.610979   \n",
       "4  -2.271638        -2.396799        0.059342        0.878532      0.069672   \n",
       "\n",
       "   adj_close_lag_2  range_hl_lag_2  range_oc_lag_2  volume_lag_2  \\\n",
       "0        -2.529258       -0.569347       -0.609570     -0.732037   \n",
       "1        -2.428523       -0.194360       -0.982355     -0.169939   \n",
       "2        -2.379187       -0.886462       -0.412578      0.002803   \n",
       "3        -2.318665       -0.596469       -0.514621      0.144265   \n",
       "4        -2.304572       -0.358473        0.001098      0.612621   \n",
       "\n",
       "   adj_close_lag_3  range_hl_lag_3  range_oc_lag_3  volume_lag_3       date  \\\n",
       "0        -2.581505       -1.084507        0.282753     -0.588601 2007-01-09   \n",
       "1        -2.523757       -0.568860       -0.609588     -0.731660 2007-01-10   \n",
       "2        -2.423160       -0.193971       -0.982371     -0.168488 2007-01-11   \n",
       "3        -2.373892       -0.885893       -0.412598      0.004583 2007-01-12   \n",
       "4        -2.313452       -0.595975       -0.514639      0.146315 2007-01-15   \n",
       "\n",
       "   month  \n",
       "0      1  \n",
       "1      1  \n",
       "2      1  \n",
       "3      1  \n",
       "4      1  "
      ]
     },
     "execution_count": 13,
     "metadata": {},
     "output_type": "execute_result"
    }
   ],
   "source": [
    "cols_to_scale = [\n",
    "\"adj_close\"\n",
    "]\n",
    "\n",
    "for i in range(1,N+1):\n",
    "    cols_to_scale.append(\"adj_close_lag_\"+str(i))\n",
    "    cols_to_scale.append(\"range_hl_lag_\"+str(i))\n",
    "    cols_to_scale.append(\"range_oc_lag_\"+str(i))\n",
    "    cols_to_scale.append(\"volume_lag_\"+str(i))\n",
    "\n",
    "# Do scaling for train set\n",
    "# Here we only scale the train dataset, and not the entire dataset to prevent information leak\n",
    "scaler = StandardScaler()\n",
    "train_scaled = scaler.fit_transform(train[cols_to_scale])\n",
    "print(\"scaler.mean_ = \" + str(scaler.mean_))\n",
    "print(\"scaler.var_ = \" + str(scaler.var_))\n",
    "print(\"train_scaled.shape = \" + str(train_scaled.shape))\n",
    "\n",
    "# Convert the numpy array back into pandas dataframe\n",
    "train_scaled = pd.DataFrame(train_scaled, columns=cols_to_scale)\n",
    "train_scaled[['date', 'month']] = train.reset_index()[['date', 'month']]\n",
    "print(\"train_scaled.shape = \" + str(train_scaled.shape))\n",
    "train_scaled.head()"
   ]
  },
  {
   "cell_type": "code",
   "execution_count": 14,
   "metadata": {
    "pycharm": {
     "is_executing": false
    }
   },
   "outputs": [
    {
     "name": "stdout",
     "output_type": "stream",
     "text": [
      "scaler_train_cv.mean_ = [ 4.51835110e+03  4.51661774e+03  1.06909889e+02 -6.53767508e+00\n",
      "  5.76561587e+09  4.51485818e+03  1.06917805e+02 -6.55152552e+00\n",
      "  5.76401042e+09  4.51308631e+03  1.06900577e+02 -6.53706226e+00\n",
      "  5.76271139e+09]\n",
      "scaler_train_cv.var_ = [2.31018034e+06 2.31189759e+06 8.79333890e+03 9.41134546e+03\n",
      " 1.34266533e+19 2.31380602e+06 8.79240364e+03 9.41210174e+03\n",
      " 1.34292228e+19 2.31583268e+06 8.79435887e+03 9.41220805e+03\n",
      " 1.34316234e+19]\n",
      "train_cv_scaled.shape = (2504, 13)\n",
      "train_cv_scaled.shape = (2504, 15)\n"
     ]
    },
    {
     "data": {
      "text/html": [
       "<div>\n",
       "<style scoped>\n",
       "    .dataframe tbody tr th:only-of-type {\n",
       "        vertical-align: middle;\n",
       "    }\n",
       "\n",
       "    .dataframe tbody tr th {\n",
       "        vertical-align: top;\n",
       "    }\n",
       "\n",
       "    .dataframe thead th {\n",
       "        text-align: right;\n",
       "    }\n",
       "</style>\n",
       "<table border=\"1\" class=\"dataframe\">\n",
       "  <thead>\n",
       "    <tr style=\"text-align: right;\">\n",
       "      <th></th>\n",
       "      <th>adj_close</th>\n",
       "      <th>adj_close_lag_1</th>\n",
       "      <th>range_hl_lag_1</th>\n",
       "      <th>range_oc_lag_1</th>\n",
       "      <th>volume_lag_1</th>\n",
       "      <th>adj_close_lag_2</th>\n",
       "      <th>range_hl_lag_2</th>\n",
       "      <th>range_oc_lag_2</th>\n",
       "      <th>volume_lag_2</th>\n",
       "      <th>adj_close_lag_3</th>\n",
       "      <th>range_hl_lag_3</th>\n",
       "      <th>range_oc_lag_3</th>\n",
       "      <th>volume_lag_3</th>\n",
       "      <th>date</th>\n",
       "      <th>month</th>\n",
       "    </tr>\n",
       "  </thead>\n",
       "  <tbody>\n",
       "    <tr>\n",
       "      <th>0</th>\n",
       "      <td>-1.728030</td>\n",
       "      <td>-1.752496</td>\n",
       "      <td>-0.298262</td>\n",
       "      <td>-0.746292</td>\n",
       "      <td>-0.489510</td>\n",
       "      <td>-1.804189</td>\n",
       "      <td>-0.524400</td>\n",
       "      <td>-0.460084</td>\n",
       "      <td>-0.766651</td>\n",
       "      <td>-1.832975</td>\n",
       "      <td>-0.835029</td>\n",
       "      <td>0.224457</td>\n",
       "      <td>-0.695711</td>\n",
       "      <td>2007-01-09</td>\n",
       "      <td>1</td>\n",
       "    </tr>\n",
       "    <tr>\n",
       "      <th>1</th>\n",
       "      <td>-1.695818</td>\n",
       "      <td>-1.726248</td>\n",
       "      <td>-0.715430</td>\n",
       "      <td>-0.309089</td>\n",
       "      <td>-0.404183</td>\n",
       "      <td>-1.750617</td>\n",
       "      <td>-0.298363</td>\n",
       "      <td>-0.746119</td>\n",
       "      <td>-0.489026</td>\n",
       "      <td>-1.802235</td>\n",
       "      <td>-0.524158</td>\n",
       "      <td>-0.460230</td>\n",
       "      <td>-0.766228</td>\n",
       "      <td>2007-01-10</td>\n",
       "      <td>1</td>\n",
       "    </tr>\n",
       "    <tr>\n",
       "      <th>2</th>\n",
       "      <td>-1.688318</td>\n",
       "      <td>-1.694048</td>\n",
       "      <td>-0.540635</td>\n",
       "      <td>-0.387388</td>\n",
       "      <td>-0.334307</td>\n",
       "      <td>-1.724380</td>\n",
       "      <td>-0.715553</td>\n",
       "      <td>-0.308933</td>\n",
       "      <td>-0.403707</td>\n",
       "      <td>-1.748686</td>\n",
       "      <td>-0.298146</td>\n",
       "      <td>-0.746264</td>\n",
       "      <td>-0.488627</td>\n",
       "      <td>2007-01-11</td>\n",
       "      <td>1</td>\n",
       "    </tr>\n",
       "    <tr>\n",
       "      <th>3</th>\n",
       "      <td>-1.734688</td>\n",
       "      <td>-1.686551</td>\n",
       "      <td>-0.397182</td>\n",
       "      <td>0.008336</td>\n",
       "      <td>-0.102960</td>\n",
       "      <td>-1.692193</td>\n",
       "      <td>-0.540748</td>\n",
       "      <td>-0.387230</td>\n",
       "      <td>-0.333837</td>\n",
       "      <td>-1.722461</td>\n",
       "      <td>-0.715289</td>\n",
       "      <td>-0.309081</td>\n",
       "      <td>-0.403316</td>\n",
       "      <td>2007-01-12</td>\n",
       "      <td>1</td>\n",
       "    </tr>\n",
       "    <tr>\n",
       "      <th>4</th>\n",
       "      <td>-1.665745</td>\n",
       "      <td>-1.732904</td>\n",
       "      <td>-0.145403</td>\n",
       "      <td>0.681695</td>\n",
       "      <td>-0.370502</td>\n",
       "      <td>-1.684698</td>\n",
       "      <td>-0.397288</td>\n",
       "      <td>0.008478</td>\n",
       "      <td>-0.102512</td>\n",
       "      <td>-1.690288</td>\n",
       "      <td>-0.540505</td>\n",
       "      <td>-0.387377</td>\n",
       "      <td>-0.333453</td>\n",
       "      <td>2007-01-15</td>\n",
       "      <td>1</td>\n",
       "    </tr>\n",
       "  </tbody>\n",
       "</table>\n",
       "</div>"
      ],
      "text/plain": [
       "   adj_close  adj_close_lag_1  range_hl_lag_1  range_oc_lag_1  volume_lag_1  \\\n",
       "0  -1.728030        -1.752496       -0.298262       -0.746292     -0.489510   \n",
       "1  -1.695818        -1.726248       -0.715430       -0.309089     -0.404183   \n",
       "2  -1.688318        -1.694048       -0.540635       -0.387388     -0.334307   \n",
       "3  -1.734688        -1.686551       -0.397182        0.008336     -0.102960   \n",
       "4  -1.665745        -1.732904       -0.145403        0.681695     -0.370502   \n",
       "\n",
       "   adj_close_lag_2  range_hl_lag_2  range_oc_lag_2  volume_lag_2  \\\n",
       "0        -1.804189       -0.524400       -0.460084     -0.766651   \n",
       "1        -1.750617       -0.298363       -0.746119     -0.489026   \n",
       "2        -1.724380       -0.715553       -0.308933     -0.403707   \n",
       "3        -1.692193       -0.540748       -0.387230     -0.333837   \n",
       "4        -1.684698       -0.397288        0.008478     -0.102512   \n",
       "\n",
       "   adj_close_lag_3  range_hl_lag_3  range_oc_lag_3  volume_lag_3       date  \\\n",
       "0        -1.832975       -0.835029        0.224457     -0.695711 2007-01-09   \n",
       "1        -1.802235       -0.524158       -0.460230     -0.766228 2007-01-10   \n",
       "2        -1.748686       -0.298146       -0.746264     -0.488627 2007-01-11   \n",
       "3        -1.722461       -0.715289       -0.309081     -0.403316 2007-01-12   \n",
       "4        -1.690288       -0.540505       -0.387377     -0.333453 2007-01-15   \n",
       "\n",
       "   month  \n",
       "0      1  \n",
       "1      1  \n",
       "2      1  \n",
       "3      1  \n",
       "4      1  "
      ]
     },
     "execution_count": 14,
     "metadata": {},
     "output_type": "execute_result"
    }
   ],
   "source": [
    "# Do scaling for train+dev set\n",
    "scaler_train_cv = StandardScaler()\n",
    "train_cv_scaled = scaler_train_cv.fit_transform(train_cv[cols_to_scale])\n",
    "print(\"scaler_train_cv.mean_ = \" + str(scaler_train_cv.mean_))\n",
    "print(\"scaler_train_cv.var_ = \" + str(scaler_train_cv.var_))\n",
    "print(\"train_cv_scaled.shape = \" + str(train_cv_scaled.shape))\n",
    "\n",
    "# Convert the numpy array back into pandas dataframe\n",
    "train_cv_scaled = pd.DataFrame(train_cv_scaled, columns=cols_to_scale)\n",
    "train_cv_scaled[['date', 'month']] = train_cv.reset_index()[['date', 'month']]\n",
    "print(\"train_cv_scaled.shape = \" + str(train_cv_scaled.shape))\n",
    "train_cv_scaled.head()"
   ]
  },
  {
   "cell_type": "code",
   "execution_count": 15,
   "metadata": {
    "pycharm": {
     "is_executing": false
    }
   },
   "outputs": [
    {
     "name": "stderr",
     "output_type": "stream",
     "text": [
      "/home/jerry/workshop/virtualenv/alpha-mind/lib/python3.6/site-packages/ipykernel_launcher.py:3: TqdmDeprecationWarning: This function will be removed in tqdm==5.0.0\n",
      "Please use `tqdm.notebook.tqdm` instead of `tqdm.tqdm_notebook`\n",
      "  This is separate from the ipykernel package so we can avoid doing imports until\n"
     ]
    },
    {
     "data": {
      "application/vnd.jupyter.widget-view+json": {
       "model_id": "b008ccac29164d16b0efb03ea9ce1ef0",
       "version_major": 2,
       "version_minor": 0
      },
      "text/plain": [
       "HBox(children=(IntProgress(value=0, max=4), HTML(value='')))"
      ]
     },
     "metadata": {},
     "output_type": "display_data"
    },
    {
     "name": "stdout",
     "output_type": "stream",
     "text": [
      "\n"
     ]
    },
    {
     "data": {
      "text/html": [
       "<div>\n",
       "<style scoped>\n",
       "    .dataframe tbody tr th:only-of-type {\n",
       "        vertical-align: middle;\n",
       "    }\n",
       "\n",
       "    .dataframe tbody tr th {\n",
       "        vertical-align: top;\n",
       "    }\n",
       "\n",
       "    .dataframe thead th {\n",
       "        text-align: right;\n",
       "    }\n",
       "</style>\n",
       "<table border=\"1\" class=\"dataframe\">\n",
       "  <thead>\n",
       "    <tr style=\"text-align: right;\">\n",
       "      <th></th>\n",
       "      <th>date</th>\n",
       "      <th>adj_close_lag_1</th>\n",
       "      <th>adj_close_lag_2</th>\n",
       "      <th>adj_close_lag_3</th>\n",
       "      <th>range_hl_lag_1</th>\n",
       "      <th>range_hl_lag_2</th>\n",
       "      <th>range_hl_lag_3</th>\n",
       "      <th>range_oc_lag_1</th>\n",
       "      <th>range_oc_lag_2</th>\n",
       "      <th>range_oc_lag_3</th>\n",
       "      <th>volume_lag_1</th>\n",
       "      <th>volume_lag_2</th>\n",
       "      <th>volume_lag_3</th>\n",
       "    </tr>\n",
       "  </thead>\n",
       "  <tbody>\n",
       "    <tr>\n",
       "      <th>1881</th>\n",
       "      <td>2014-09-30</td>\n",
       "      <td>1.123078</td>\n",
       "      <td>-0.329112</td>\n",
       "      <td>-0.793966</td>\n",
       "      <td>-0.957431</td>\n",
       "      <td>-0.080296</td>\n",
       "      <td>1.037727</td>\n",
       "      <td>-0.642938</td>\n",
       "      <td>-0.509177</td>\n",
       "      <td>1.152115</td>\n",
       "      <td>-0.118848</td>\n",
       "      <td>-0.935265</td>\n",
       "      <td>1.054113</td>\n",
       "    </tr>\n",
       "    <tr>\n",
       "      <th>1882</th>\n",
       "      <td>2014-10-08</td>\n",
       "      <td>0.964204</td>\n",
       "      <td>0.068110</td>\n",
       "      <td>-1.032314</td>\n",
       "      <td>0.340770</td>\n",
       "      <td>-1.125847</td>\n",
       "      <td>0.785077</td>\n",
       "      <td>-0.560455</td>\n",
       "      <td>-0.594082</td>\n",
       "      <td>1.154537</td>\n",
       "      <td>0.661492</td>\n",
       "      <td>0.488901</td>\n",
       "      <td>-1.150393</td>\n",
       "    </tr>\n",
       "    <tr>\n",
       "      <th>1883</th>\n",
       "      <td>2014-10-09</td>\n",
       "      <td>1.091150</td>\n",
       "      <td>-0.218399</td>\n",
       "      <td>-0.872751</td>\n",
       "      <td>1.126999</td>\n",
       "      <td>-0.345772</td>\n",
       "      <td>-0.781227</td>\n",
       "      <td>-1.154699</td>\n",
       "      <td>0.579148</td>\n",
       "      <td>0.575551</td>\n",
       "      <td>1.150992</td>\n",
       "      <td>-0.495414</td>\n",
       "      <td>-0.655578</td>\n",
       "    </tr>\n",
       "    <tr>\n",
       "      <th>1884</th>\n",
       "      <td>2014-10-10</td>\n",
       "      <td>0.682966</td>\n",
       "      <td>0.464847</td>\n",
       "      <td>-1.147813</td>\n",
       "      <td>0.423347</td>\n",
       "      <td>0.718694</td>\n",
       "      <td>-1.142041</td>\n",
       "      <td>0.953605</td>\n",
       "      <td>-1.040698</td>\n",
       "      <td>0.087093</td>\n",
       "      <td>1.069010</td>\n",
       "      <td>-0.156466</td>\n",
       "      <td>-0.912544</td>\n",
       "    </tr>\n",
       "    <tr>\n",
       "      <th>1885</th>\n",
       "      <td>2014-10-13</td>\n",
       "      <td>-1.017703</td>\n",
       "      <td>0.981303</td>\n",
       "      <td>0.036400</td>\n",
       "      <td>-1.125634</td>\n",
       "      <td>0.339857</td>\n",
       "      <td>0.785777</td>\n",
       "      <td>0.753045</td>\n",
       "      <td>0.381562</td>\n",
       "      <td>-1.134607</td>\n",
       "      <td>-0.114833</td>\n",
       "      <td>1.052459</td>\n",
       "      <td>-0.937626</td>\n",
       "    </tr>\n",
       "  </tbody>\n",
       "</table>\n",
       "</div>"
      ],
      "text/plain": [
       "           date  adj_close_lag_1  adj_close_lag_2  adj_close_lag_3  \\\n",
       "1881 2014-09-30         1.123078        -0.329112        -0.793966   \n",
       "1882 2014-10-08         0.964204         0.068110        -1.032314   \n",
       "1883 2014-10-09         1.091150        -0.218399        -0.872751   \n",
       "1884 2014-10-10         0.682966         0.464847        -1.147813   \n",
       "1885 2014-10-13        -1.017703         0.981303         0.036400   \n",
       "\n",
       "      range_hl_lag_1  range_hl_lag_2  range_hl_lag_3  range_oc_lag_1  \\\n",
       "1881       -0.957431       -0.080296        1.037727       -0.642938   \n",
       "1882        0.340770       -1.125847        0.785077       -0.560455   \n",
       "1883        1.126999       -0.345772       -0.781227       -1.154699   \n",
       "1884        0.423347        0.718694       -1.142041        0.953605   \n",
       "1885       -1.125634        0.339857        0.785777        0.753045   \n",
       "\n",
       "      range_oc_lag_2  range_oc_lag_3  volume_lag_1  volume_lag_2  volume_lag_3  \n",
       "1881       -0.509177        1.152115     -0.118848     -0.935265      1.054113  \n",
       "1882       -0.594082        1.154537      0.661492      0.488901     -1.150393  \n",
       "1883        0.579148        0.575551      1.150992     -0.495414     -0.655578  \n",
       "1884       -1.040698        0.087093      1.069010     -0.156466     -0.912544  \n",
       "1885        0.381562       -1.134607     -0.114833      1.052459     -0.937626  "
      ]
     },
     "execution_count": 15,
     "metadata": {},
     "output_type": "execute_result"
    }
   ],
   "source": [
    "# Do scaling for dev set\n",
    "cv_scaled = cv[['date']]\n",
    "for col in tqdm_notebook(cols_list):\n",
    "    feat_list = [col + '_lag_' + str(shift) for shift in range(1, N+1)]\n",
    "    temp = cv.apply(lambda row: scale_row(row[feat_list], row[col+'_mean'], row[col+'_std']), axis=1)\n",
    "    cv_scaled = pd.concat([cv_scaled, temp], axis=1)\n",
    "    \n",
    "# Now the entire dev set is scaled\n",
    "cv_scaled.head()"
   ]
  },
  {
   "cell_type": "code",
   "execution_count": 16,
   "metadata": {
    "pycharm": {
     "is_executing": false
    }
   },
   "outputs": [
    {
     "name": "stderr",
     "output_type": "stream",
     "text": [
      "/home/jerry/workshop/virtualenv/alpha-mind/lib/python3.6/site-packages/ipykernel_launcher.py:3: TqdmDeprecationWarning: This function will be removed in tqdm==5.0.0\n",
      "Please use `tqdm.notebook.tqdm` instead of `tqdm.tqdm_notebook`\n",
      "  This is separate from the ipykernel package so we can avoid doing imports until\n"
     ]
    },
    {
     "data": {
      "application/vnd.jupyter.widget-view+json": {
       "model_id": "7e02fb5b63044c5ba975c7c574dec1dc",
       "version_major": 2,
       "version_minor": 0
      },
      "text/plain": [
       "HBox(children=(IntProgress(value=0, max=4), HTML(value='')))"
      ]
     },
     "metadata": {},
     "output_type": "display_data"
    },
    {
     "name": "stdout",
     "output_type": "stream",
     "text": [
      "\n"
     ]
    },
    {
     "data": {
      "text/html": [
       "<div>\n",
       "<style scoped>\n",
       "    .dataframe tbody tr th:only-of-type {\n",
       "        vertical-align: middle;\n",
       "    }\n",
       "\n",
       "    .dataframe tbody tr th {\n",
       "        vertical-align: top;\n",
       "    }\n",
       "\n",
       "    .dataframe thead th {\n",
       "        text-align: right;\n",
       "    }\n",
       "</style>\n",
       "<table border=\"1\" class=\"dataframe\">\n",
       "  <thead>\n",
       "    <tr style=\"text-align: right;\">\n",
       "      <th></th>\n",
       "      <th>date</th>\n",
       "      <th>adj_close_lag_1</th>\n",
       "      <th>adj_close_lag_2</th>\n",
       "      <th>adj_close_lag_3</th>\n",
       "      <th>range_hl_lag_1</th>\n",
       "      <th>range_hl_lag_2</th>\n",
       "      <th>range_hl_lag_3</th>\n",
       "      <th>range_oc_lag_1</th>\n",
       "      <th>range_oc_lag_2</th>\n",
       "      <th>range_oc_lag_3</th>\n",
       "      <th>volume_lag_1</th>\n",
       "      <th>volume_lag_2</th>\n",
       "      <th>volume_lag_3</th>\n",
       "    </tr>\n",
       "  </thead>\n",
       "  <tbody>\n",
       "    <tr>\n",
       "      <th>2507</th>\n",
       "      <td>2017-04-28</td>\n",
       "      <td>0.999680</td>\n",
       "      <td>0.000641</td>\n",
       "      <td>-1.000320</td>\n",
       "      <td>1.105941</td>\n",
       "      <td>-0.840497</td>\n",
       "      <td>-0.265444</td>\n",
       "      <td>-1.122471</td>\n",
       "      <td>0.795851</td>\n",
       "      <td>0.326620</td>\n",
       "      <td>1.132518</td>\n",
       "      <td>-0.371189</td>\n",
       "      <td>-0.761329</td>\n",
       "    </tr>\n",
       "    <tr>\n",
       "      <th>2508</th>\n",
       "      <td>2017-05-02</td>\n",
       "      <td>1.032500</td>\n",
       "      <td>-0.068525</td>\n",
       "      <td>-0.963975</td>\n",
       "      <td>-0.501453</td>\n",
       "      <td>1.151509</td>\n",
       "      <td>-0.650055</td>\n",
       "      <td>-0.700262</td>\n",
       "      <td>-0.444994</td>\n",
       "      <td>1.145257</td>\n",
       "      <td>-0.694367</td>\n",
       "      <td>1.146177</td>\n",
       "      <td>-0.451810</td>\n",
       "    </tr>\n",
       "    <tr>\n",
       "      <th>2509</th>\n",
       "      <td>2017-05-03</td>\n",
       "      <td>0.736641</td>\n",
       "      <td>0.401757</td>\n",
       "      <td>-1.138398</td>\n",
       "      <td>-0.701438</td>\n",
       "      <td>-0.443629</td>\n",
       "      <td>1.145067</td>\n",
       "      <td>1.148891</td>\n",
       "      <td>-0.674628</td>\n",
       "      <td>-0.474263</td>\n",
       "      <td>-0.426458</td>\n",
       "      <td>-0.716072</td>\n",
       "      <td>1.142530</td>\n",
       "    </tr>\n",
       "    <tr>\n",
       "      <th>2510</th>\n",
       "      <td>2017-05-04</td>\n",
       "      <td>-1.127004</td>\n",
       "      <td>0.781209</td>\n",
       "      <td>0.345795</td>\n",
       "      <td>0.731839</td>\n",
       "      <td>-1.139424</td>\n",
       "      <td>0.407585</td>\n",
       "      <td>0.941490</td>\n",
       "      <td>0.108217</td>\n",
       "      <td>-1.049707</td>\n",
       "      <td>0.913831</td>\n",
       "      <td>0.154382</td>\n",
       "      <td>-1.068213</td>\n",
       "    </tr>\n",
       "    <tr>\n",
       "      <th>2511</th>\n",
       "      <td>2017-05-05</td>\n",
       "      <td>-1.020540</td>\n",
       "      <td>0.042432</td>\n",
       "      <td>0.978109</td>\n",
       "      <td>1.071546</td>\n",
       "      <td>-0.163159</td>\n",
       "      <td>-0.908387</td>\n",
       "      <td>0.340075</td>\n",
       "      <td>0.785609</td>\n",
       "      <td>-1.125685</td>\n",
       "      <td>1.101683</td>\n",
       "      <td>-0.251307</td>\n",
       "      <td>-0.850376</td>\n",
       "    </tr>\n",
       "  </tbody>\n",
       "</table>\n",
       "</div>"
      ],
      "text/plain": [
       "           date  adj_close_lag_1  adj_close_lag_2  adj_close_lag_3  \\\n",
       "2507 2017-04-28         0.999680         0.000641        -1.000320   \n",
       "2508 2017-05-02         1.032500        -0.068525        -0.963975   \n",
       "2509 2017-05-03         0.736641         0.401757        -1.138398   \n",
       "2510 2017-05-04        -1.127004         0.781209         0.345795   \n",
       "2511 2017-05-05        -1.020540         0.042432         0.978109   \n",
       "\n",
       "      range_hl_lag_1  range_hl_lag_2  range_hl_lag_3  range_oc_lag_1  \\\n",
       "2507        1.105941       -0.840497       -0.265444       -1.122471   \n",
       "2508       -0.501453        1.151509       -0.650055       -0.700262   \n",
       "2509       -0.701438       -0.443629        1.145067        1.148891   \n",
       "2510        0.731839       -1.139424        0.407585        0.941490   \n",
       "2511        1.071546       -0.163159       -0.908387        0.340075   \n",
       "\n",
       "      range_oc_lag_2  range_oc_lag_3  volume_lag_1  volume_lag_2  volume_lag_3  \n",
       "2507        0.795851        0.326620      1.132518     -0.371189     -0.761329  \n",
       "2508       -0.444994        1.145257     -0.694367      1.146177     -0.451810  \n",
       "2509       -0.674628       -0.474263     -0.426458     -0.716072      1.142530  \n",
       "2510        0.108217       -1.049707      0.913831      0.154382     -1.068213  \n",
       "2511        0.785609       -1.125685      1.101683     -0.251307     -0.850376  "
      ]
     },
     "execution_count": 16,
     "metadata": {},
     "output_type": "execute_result"
    }
   ],
   "source": [
    "# Do scaling for test set\n",
    "test_scaled = test[['date']]\n",
    "for col in tqdm_notebook(cols_list):\n",
    "    feat_list = [col + '_lag_' + str(shift) for shift in range(1, N+1)]\n",
    "    temp = test.apply(lambda row: scale_row(row[feat_list], row[col+'_mean'], row[col+'_std']), axis=1)\n",
    "    test_scaled = pd.concat([test_scaled, temp], axis=1)\n",
    "    \n",
    "# Now the entire test set is scaled\n",
    "test_scaled.head()"
   ]
  },
  {
   "cell_type": "markdown",
   "metadata": {},
   "source": [
    "# Split into X and y"
   ]
  },
  {
   "cell_type": "code",
   "execution_count": 17,
   "metadata": {
    "pycharm": {
     "is_executing": false
    }
   },
   "outputs": [
    {
     "name": "stdout",
     "output_type": "stream",
     "text": [
      "X_train.shape = (1878, 12)\n",
      "y_train.shape = (1878,)\n",
      "X_cv.shape = (626, 12)\n",
      "y_cv.shape = (626,)\n",
      "X_train_cv.shape = (2504, 12)\n",
      "y_train_cv.shape = (2504,)\n",
      "X_sample.shape = (626, 12)\n",
      "y_sample.shape = (626,)\n"
     ]
    }
   ],
   "source": [
    "features = []\n",
    "for i in range(1,N+1):\n",
    "    features.append(\"adj_close_lag_\"+str(i))\n",
    "    features.append(\"range_hl_lag_\"+str(i))\n",
    "    features.append(\"range_oc_lag_\"+str(i))\n",
    "    features.append(\"volume_lag_\"+str(i))\n",
    "\n",
    "target = \"adj_close\"\n",
    "\n",
    "\n",
    "# Split into X and y\n",
    "X_train = train[features]\n",
    "y_train = train[target]\n",
    "X_cv = cv[features]\n",
    "y_cv = cv[target]\n",
    "X_train_cv = train_cv[features]\n",
    "y_train_cv = train_cv[target]\n",
    "X_sample = test[features]\n",
    "y_sample = test[target]\n",
    "print(\"X_train.shape = \" + str(X_train.shape))\n",
    "print(\"y_train.shape = \" + str(y_train.shape))\n",
    "print(\"X_cv.shape = \" + str(X_cv.shape))\n",
    "print(\"y_cv.shape = \" + str(y_cv.shape))\n",
    "print(\"X_train_cv.shape = \" + str(X_train_cv.shape))\n",
    "print(\"y_train_cv.shape = \" + str(y_train_cv.shape))\n",
    "print(\"X_sample.shape = \" + str(X_sample.shape))\n",
    "print(\"y_sample.shape = \" + str(y_sample.shape))"
   ]
  },
  {
   "cell_type": "code",
   "execution_count": 18,
   "metadata": {
    "pycharm": {
     "is_executing": false
    }
   },
   "outputs": [
    {
     "name": "stdout",
     "output_type": "stream",
     "text": [
      "X_train_scaled.shape = (1878, 12)\n",
      "y_train_scaled.shape = (1878,)\n",
      "X_cv_scaled.shape = (626, 12)\n",
      "X_train_cv_scaled.shape = (2504, 12)\n",
      "y_train_cv_scaled.shape = (2504,)\n",
      "X_sample_scaled.shape = (626, 12)\n"
     ]
    }
   ],
   "source": [
    "# Split into X and y\n",
    "X_train_scaled = train_scaled[features]\n",
    "y_train_scaled = train_scaled[target]\n",
    "X_cv_scaled = cv_scaled[features]\n",
    "X_train_cv_scaled = train_cv_scaled[features]\n",
    "y_train_cv_scaled = train_cv_scaled[target]\n",
    "X_sample_scaled = test_scaled[features]\n",
    "print(\"X_train_scaled.shape = \" + str(X_train_scaled.shape))\n",
    "print(\"y_train_scaled.shape = \" + str(y_train_scaled.shape))\n",
    "print(\"X_cv_scaled.shape = \" + str(X_cv_scaled.shape))\n",
    "print(\"X_train_cv_scaled.shape = \" + str(X_train_cv_scaled.shape))\n",
    "print(\"y_train_cv_scaled.shape = \" + str(y_train_cv_scaled.shape))\n",
    "print(\"X_sample_scaled.shape = \" + str(X_sample_scaled.shape))"
   ]
  },
  {
   "cell_type": "markdown",
   "metadata": {},
   "source": [
    "# EDA"
   ]
  },
  {
   "cell_type": "code",
   "execution_count": 19,
   "metadata": {
    "code_folding": [
     0
    ],
    "pycharm": {
     "is_executing": false
    }
   },
   "outputs": [
    {
     "data": {
      "text/plain": [
       "Text(0.5, 1.0, 'Without scaling')"
      ]
     },
     "execution_count": 19,
     "metadata": {},
     "output_type": "execute_result"
    },
    {
     "data": {
      "image/png": "[encoded data removed]",
      "text/plain": [
       "<Figure size 720x576 with 1 Axes>"
      ]
     },
     "metadata": {
      "needs_background": "light"
     },
     "output_type": "display_data"
    }
   ],
   "source": [
    "# Plot adjusted close over time\n",
    "rcParams['figure.figsize'] = 10, 8 # width 10, height 8\n",
    "\n",
    "ax = train.plot(x='date', y='adj_close', style='b-', grid=True)\n",
    "ax = cv.plot(x='date', y='adj_close', style='y-', grid=True, ax=ax)\n",
    "ax = test.plot(x='date', y='adj_close', style='g-', grid=True, ax=ax)\n",
    "ax.legend(['train', 'dev', 'test'])\n",
    "ax.set_xlabel(\"date\")\n",
    "ax.set_ylabel(\"USD\")\n",
    "ax.set_title(\"Without scaling\")"
   ]
  },
  {
   "cell_type": "code",
   "execution_count": 20,
   "metadata": {
    "code_folding": [
     0
    ],
    "pycharm": {
     "is_executing": false
    }
   },
   "outputs": [
    {
     "data": {
      "text/plain": [
       "Text(0.5, 1.0, 'With scaling')"
      ]
     },
     "execution_count": 20,
     "metadata": {},
     "output_type": "execute_result"
    },
    {
     "data": {
      "image/png": "[encoded data removed]",
      "text/plain": [
       "<Figure size 720x576 with 1 Axes>"
      ]
     },
     "metadata": {
      "needs_background": "light"
     },
     "output_type": "display_data"
    }
   ],
   "source": [
    "# Plot adjusted close over time\n",
    "rcParams['figure.figsize'] = 10, 8 # width 10, height 8\n",
    "\n",
    "ax = train_scaled.plot(x='date', y='adj_close', style='b-', grid=True)\n",
    "ax.legend(['train_scaled'])\n",
    "ax.set_xlabel(\"date\")\n",
    "ax.set_ylabel(\"USD (scaled)\")\n",
    "ax.set_title(\"With scaling\")"
   ]
  },
  {
   "cell_type": "markdown",
   "metadata": {
    "collapsed": true
   },
   "source": [
    "# Train the model using lightGBM"
   ]
  },
  {
   "cell_type": "code",
   "execution_count": 23,
   "metadata": {
    "code_folding": []
   },
   "outputs": [
    {
     "name": "stderr",
     "output_type": "stream",
     "text": [
      "2019-12-02 16:39:03,934 - ../../../src/stacking/models/m2_lgb.py[line:41] - INFO: NonCrossValidation。。。。\n",
      "2019-12-02 16:39:04,489 - ../../../src/stacking/models/m2_lgb.py[line:61] - INFO: best_score: \n",
      "defaultdict(<class 'dict'>, {'training': {'auc': 0.9966841149601384, 'l2': 0.008736502840468363}, 'valid_1': {'auc': 0.9958690546925841, 'l2': 0.012583977526360948}})\n"
     ]
    }
   ],
   "source": [
    "import sys\n",
    "sys.path.append('../')\n",
    "sys.path.append('../../')\n",
    "sys.path.append('../../../')\n",
    "from src.stacking.models.m2_lgb import *\n",
    "from src.conf.configuration import regress_conf\n",
    "\n",
    "# load xgboost regression configuration\n",
    "regress_conf.lgb_config_r()\n",
    "regress_conf.cv_folds = None\n",
    "regress_conf.early_stop_round = 1000\n",
    "regress_conf.max_round = 10000\n",
    "\n",
    "params = {'task': 'train',\n",
    "          'boosting': 'gbdt',  # 设置提升类型\n",
    "          'objective': 'regression',  # 目标函数\n",
    "          'metric': {'l2', 'auc'},  # 评估函数\n",
    "          'num_leaves': 31,  # 叶子节点数\n",
    "          'learning_rate': 0.05,  # 学习速率\n",
    "          'feature_fraction': 0.9,  # 建树的特征选择比例 # 样本列采样\n",
    "          'bagging_fraction': 0.8,  # 建树的样本采样比例\n",
    "          'bagging_freq': 5,  # k 意味着每 k 次迭代执行bagging\n",
    "          'lambda_l1': 0.90,  # L1 正则化\n",
    "          'lambda_l2': 0.95,  # L2 正则化\n",
    "          'bagging_seed': 100,  # 随机种子,light中默认为100\n",
    "          'verbosity': 1  # <0 显示致命的, =0 显示错误 (警告), >0 显示信息\n",
    "}\n",
    "regress_conf.params.update(params)\n",
    "\n",
    "lgb_m = LightGBM(regress_conf)\n",
    "best_score, best_round, best_model = lgb_m.fit(X_train_scaled.values, y_train_scaled.values)\n"
   ]
  },
  {
   "cell_type": "code",
   "execution_count": 26,
   "metadata": {
    "scrolled": true
   },
   "outputs": [
    {
     "ename": "AttributeError",
     "evalue": "'int' object has no attribute 'predit'",
     "output_type": "error",
     "traceback": [
      "\u001b[0;31m---------------------------------------------------------------------------\u001b[0m",
      "\u001b[0;31mAttributeError\u001b[0m                            Traceback (most recent call last)",
      "\u001b[0;32m<ipython-input-26-e6f07636e0ab>\u001b[0m in \u001b[0;36m<module>\u001b[0;34m\u001b[0m\n\u001b[1;32m      1\u001b[0m \u001b[0;31m# Do prediction on train set\u001b[0m\u001b[0;34m\u001b[0m\u001b[0;34m\u001b[0m\u001b[0;34m\u001b[0m\u001b[0m\n\u001b[0;32m----> 2\u001b[0;31m \u001b[0mest_scaled\u001b[0m \u001b[0;34m=\u001b[0m \u001b[0mlgb_m\u001b[0m\u001b[0;34m.\u001b[0m\u001b[0mpredict\u001b[0m\u001b[0;34m(\u001b[0m\u001b[0mbest_model\u001b[0m \u001b[0;34m,\u001b[0m\u001b[0mX_train_scaled\u001b[0m\u001b[0;34m)\u001b[0m\u001b[0;34m\u001b[0m\u001b[0;34m\u001b[0m\u001b[0m\n\u001b[0m\u001b[1;32m      3\u001b[0m \u001b[0mest\u001b[0m \u001b[0;34m=\u001b[0m \u001b[0mest_scaled\u001b[0m \u001b[0;34m*\u001b[0m \u001b[0mmath\u001b[0m\u001b[0;34m.\u001b[0m\u001b[0msqrt\u001b[0m\u001b[0;34m(\u001b[0m\u001b[0mscaler\u001b[0m\u001b[0;34m.\u001b[0m\u001b[0mvar_\u001b[0m\u001b[0;34m[\u001b[0m\u001b[0;36m0\u001b[0m\u001b[0;34m]\u001b[0m\u001b[0;34m)\u001b[0m \u001b[0;34m+\u001b[0m \u001b[0mscaler\u001b[0m\u001b[0;34m.\u001b[0m\u001b[0mmean_\u001b[0m\u001b[0;34m[\u001b[0m\u001b[0;36m0\u001b[0m\u001b[0;34m]\u001b[0m\u001b[0;34m\u001b[0m\u001b[0;34m\u001b[0m\u001b[0m\n\u001b[1;32m      4\u001b[0m \u001b[0;34m\u001b[0m\u001b[0m\n\u001b[1;32m      5\u001b[0m \u001b[0;31m# Calculate RMSE\u001b[0m\u001b[0;34m\u001b[0m\u001b[0;34m\u001b[0m\u001b[0;34m\u001b[0m\u001b[0m\n",
      "\u001b[0;32m~/workshop/projects/MultiFactors/src/stacking/models/m2_lgb.py\u001b[0m in \u001b[0;36mpredict\u001b[0;34m(self, bst_model, x_test, save_result_path)\u001b[0m\n\u001b[1;32m    107\u001b[0m             \u001b[0mpre_data\u001b[0m \u001b[0;34m=\u001b[0m \u001b[0mbst_model\u001b[0m\u001b[0;34m.\u001b[0m\u001b[0mpredit\u001b[0m\u001b[0;34m(\u001b[0m\u001b[0mx_test\u001b[0m\u001b[0;34m)\u001b[0m\u001b[0;34m.\u001b[0m\u001b[0margmax\u001b[0m\u001b[0;34m(\u001b[0m\u001b[0maxis\u001b[0m\u001b[0;34m=\u001b[0m\u001b[0;36m1\u001b[0m\u001b[0;34m)\u001b[0m\u001b[0;34m\u001b[0m\u001b[0;34m\u001b[0m\u001b[0m\n\u001b[1;32m    108\u001b[0m         \u001b[0;32melse\u001b[0m\u001b[0;34m:\u001b[0m\u001b[0;34m\u001b[0m\u001b[0;34m\u001b[0m\u001b[0m\n\u001b[0;32m--> 109\u001b[0;31m             \u001b[0mpre_data\u001b[0m \u001b[0;34m=\u001b[0m \u001b[0mbst_model\u001b[0m\u001b[0;34m.\u001b[0m\u001b[0mpredit\u001b[0m\u001b[0;34m(\u001b[0m\u001b[0mx_test\u001b[0m\u001b[0;34m)\u001b[0m\u001b[0;34m\u001b[0m\u001b[0;34m\u001b[0m\u001b[0m\n\u001b[0m\u001b[1;32m    110\u001b[0m \u001b[0;34m\u001b[0m\u001b[0m\n\u001b[1;32m    111\u001b[0m         \u001b[0;32mif\u001b[0m \u001b[0msave_result_path\u001b[0m\u001b[0;34m:\u001b[0m\u001b[0;34m\u001b[0m\u001b[0;34m\u001b[0m\u001b[0m\n",
      "\u001b[0;31mAttributeError\u001b[0m: 'int' object has no attribute 'predit'"
     ]
    }
   ],
   "source": [
    "# Do prediction on train set\n",
    "est_scaled = lgb_m.predict(best_model ,X_train_scaled.values)\n",
    "est = est_scaled * math.sqrt(scaler.var_[0]) + scaler.mean_[0]\n",
    "\n",
    "# Calculate RMSE\n",
    "print(\"RMSE on train set = %0.3f\" % math.sqrt(mean_squared_error(y_train, est)))\n",
    "\n",
    "# Calculate MAPE\n",
    "print(\"MAPE on train set = %0.3f%%\" % get_mape(y_train, est))"
   ]
  },
  {
   "cell_type": "code",
   "execution_count": null,
   "metadata": {
    "code_folding": [
     0
    ],
    "pycharm": {
     "is_executing": false
    }
   },
   "outputs": [],
   "source": [
    "# # Create the model\n",
    "# from xgboost import XGBRegressor\n",
    "\n",
    "# model = XGBRegressor(seed=model_seed,\n",
    "#                      n_estimators=n_estimators,\n",
    "#                      max_depth=max_depth,\n",
    "#                      learning_rate=learning_rate,\n",
    "#                      min_child_weight=min_child_weight,\n",
    "#                      subsample=subsample,\n",
    "#                      colsample_bytree=colsample_bytree,\n",
    "#                      colsample_bylevel=colsample_bylevel,\n",
    "#                      gamma=gamma)\n",
    "\n",
    "# # Train the regressor\n",
    "# model.fit(X_train_scaled, y_train_scaled)\n"
   ]
  },
  {
   "cell_type": "markdown",
   "metadata": {},
   "source": [
    "# Predict on train set"
   ]
  },
  {
   "cell_type": "code",
   "execution_count": null,
   "metadata": {
    "code_folding": [
     0
    ],
    "pycharm": {
     "is_executing": false
    }
   },
   "outputs": [],
   "source": [
    "# # Do prediction on train set\n",
    "# est_scaled = model.predict(X_train_scaled)\n",
    "# est = est_scaled * math.sqrt(scaler.var_[0]) + scaler.mean_[0]\n",
    "\n",
    "# # Calculate RMSE\n",
    "# print(\"RMSE on train set = %0.3f\" % math.sqrt(mean_squared_error(y_train, est)))\n",
    "\n",
    "# # Calculate MAPE\n",
    "# print(\"MAPE on train set = %0.3f%%\" % get_mape(y_train, est))"
   ]
  },
  {
   "cell_type": "code",
   "execution_count": null,
   "metadata": {
    "code_folding": [],
    "pycharm": {
     "is_executing": false
    }
   },
   "outputs": [],
   "source": [
    "# Plot adjusted close over time\n",
    "rcParams['figure.figsize'] = 10, 8 # width 10, height 8\n",
    "\n",
    "est_df = pd.DataFrame({'est': est, \n",
    "                       'date': train['date']})\n",
    "\n",
    "ax = train.plot(x='date', y='adj_close', style='b-', grid=True)\n",
    "ax = cv.plot(x='date', y='adj_close', style='y-', grid=True, ax=ax)\n",
    "ax = test.plot(x='date', y='adj_close', style='g-', grid=True, ax=ax)\n",
    "ax = est_df.plot(x='date', y='est', style='r-', grid=True, ax=ax)\n",
    "ax.legend(['train', 'dev', 'test', 'predictions'])\n",
    "ax.set_xlabel(\"date\")\n",
    "ax.set_ylabel(\"USD\")\n",
    "ax.set_title('Without scaling')"
   ]
  },
  {
   "cell_type": "markdown",
   "metadata": {},
   "source": [
    "# Predict on dev set"
   ]
  },
  {
   "cell_type": "code",
   "execution_count": null,
   "metadata": {
    "pycharm": {
     "is_executing": false
    }
   },
   "outputs": [],
   "source": [
    "# Do prediction on test set\n",
    "est_scaled = xgb_m.predict(best_model, X_cv_scaled.values)\n",
    "cv['est_scaled'] = est_scaled\n",
    "cv['est'] = cv['est_scaled'] * cv['adj_close_std'] + cv['adj_close_mean']\n",
    "\n",
    "# Calculate RMSE\n",
    "rmse_bef_tuning = math.sqrt(mean_squared_error(y_cv, cv['est']))\n",
    "print(\"RMSE on dev set = %0.3f\" % rmse_bef_tuning)\n",
    "\n",
    "# Calculate MAPE\n",
    "mape_bef_tuning = get_mape(y_cv, cv['est'])\n",
    "print(\"MAPE on dev set = %0.3f%%\" % mape_bef_tuning)"
   ]
  },
  {
   "cell_type": "code",
   "execution_count": null,
   "metadata": {
    "pycharm": {
     "is_executing": false
    },
    "scrolled": false
   },
   "outputs": [],
   "source": [
    "# Plot adjusted close over time\n",
    "rcParams['figure.figsize'] = 10, 8 # width 10, height 8\n",
    "\n",
    "est_df = pd.DataFrame({'est': cv['est'], \n",
    "                       'y_cv': y_cv,\n",
    "                       'date': cv['date']})\n",
    "\n",
    "ax = train.plot(x='date', y='adj_close', style='b-', grid=True)\n",
    "ax = cv.plot(x='date', y='adj_close', style='y-', grid=True, ax=ax)\n",
    "ax = test.plot(x='date', y='adj_close', style='g-', grid=True, ax=ax)\n",
    "ax = est_df.plot(x='date', y='est', style='r-', grid=True, ax=ax)\n",
    "ax.legend(['train', 'dev', 'test', 'predictions'])\n",
    "ax.set_xlabel(\"date\")\n",
    "ax.set_ylabel(\"USD\")"
   ]
  },
  {
   "cell_type": "code",
   "execution_count": null,
   "metadata": {
    "pycharm": {
     "is_executing": false
    },
    "scrolled": false
   },
   "outputs": [],
   "source": [
    "# Plot adjusted close over time, for dev set only\n",
    "rcParams['figure.figsize'] = 10, 8 # width 10, height 8\n",
    "ax = train.plot(x='date', y='adj_close', style='b-', grid=True)\n",
    "ax = cv.plot(x='date', y='adj_close', style='y-', grid=True, ax=ax)\n",
    "ax = test.plot(x='date', y='adj_close', style='g-', grid=True, ax=ax)\n",
    "ax = est_df.plot(x='date', y='est', style='r-', grid=True, ax=ax)\n",
    "ax.legend(['train', 'dev', 'test', 'predictions'])\n",
    "ax.set_xlabel(\"date\")\n",
    "ax.set_ylabel(\"USD\")\n",
    "ax.set_xlim([date(2018, 4, 20), date(2019, 2, 20)])\n",
    "\n",
    "# ax.set_xlim([date(2014, 9, 20), date(2017, 5, 10)])\n",
    "ax.set_title(\"Zoom in to dev set\")"
   ]
  },
  {
   "cell_type": "markdown",
   "metadata": {},
   "source": [
    "The predictions capture the turn in directions with a slight lag"
   ]
  },
  {
   "cell_type": "markdown",
   "metadata": {},
   "source": [
    "Importance features dominated by adj_close and volume"
   ]
  },
  {
   "cell_type": "markdown",
   "metadata": {},
   "source": [
    "# Final model"
   ]
  },
  {
   "cell_type": "code",
   "execution_count": null,
   "metadata": {},
   "outputs": [],
   "source": [
    "# load xgboost regression configuration\n",
    "regress_conf.xgb_config_r()\n",
    "regress_conf.cv_folds = None\n",
    "regress_conf.early_stop_round = 1000\n",
    "regress_conf.max_round = 10000\n",
    "\n",
    "param = {'base_score':0.5, \n",
    "         'booster':'gbtree', \n",
    "         'colsample_bylevel':1,\n",
    "         'colsample_bynode':1, \n",
    "         'colsample_bytree':1, \n",
    "         'gamma':0,\n",
    "         'importance_type':'gain',\n",
    "         'learning_rate':0.1,\n",
    "         'max_delta_step':0,\n",
    "         'max_depth':3,\n",
    "         'min_child_weight':1,\n",
    "         'missing':None,\n",
    "         'n_estimators':100,\n",
    "         'n_jobs':1,\n",
    "         'nthread':4,\n",
    "         'objective':'reg:linear',\n",
    "         'random_state':0,\n",
    "         'reg_alpha':0,\n",
    "         'reg_lambda':1,\n",
    "         'scale_pos_weight':1,\n",
    "         'seed':100,\n",
    "         'subsample':1, \n",
    "         'verbosity':1\n",
    "        }\n",
    "regress_conf.params.update(param)\n",
    "\n",
    "xgb_m = XGBooster(regress_conf)\n",
    "best_score, best_round, best_model = xgb_m.fit(X_train_cv_scaled.values, y_train_cv_scaled.values )"
   ]
  },
  {
   "cell_type": "code",
   "execution_count": null,
   "metadata": {},
   "outputs": [],
   "source": [
    "# Do prediction on train set\n",
    "est_scaled = xgb_m.predict(best_model ,X_train_cv_scaled.values)\n",
    "est = est_scaled * math.sqrt(scaler_train_cv.var_[0]) + scaler_train_cv.mean_[0]\n",
    "\n",
    "# Calculate RMSE\n",
    "print(\"RMSE on train set = %0.3f\" % math.sqrt(mean_squared_error(X_train_cv, est)))\n",
    "\n",
    "# Calculate MAPE\n",
    "print(\"MAPE on train set = %0.3f%%\" % get_mape(y_train_cv, est))"
   ]
  },
  {
   "cell_type": "code",
   "execution_count": null,
   "metadata": {},
   "outputs": [],
   "source": [
    "# Plot adjusted close over time\n",
    "rcParams['figure.figsize'] = 10, 8 # width 10, height 8\n",
    "\n",
    "est_df = pd.DataFrame({'est': est, \n",
    "                       'date': train_cv['date']})\n",
    "\n",
    "ax = train.plot(x='date', y='adj_close', style='b-', grid=True)\n",
    "ax = cv.plot(x='date', y='adj_close', style='y-', grid=True, ax=ax)\n",
    "ax = test.plot(x='date', y='adj_close', style='g-', grid=True, ax=ax)\n",
    "ax = est_df.plot(x='date', y='est', style='r-', grid=True, ax=ax)\n",
    "ax.legend(['train', 'dev', 'test', 'predictions'])\n",
    "ax.set_xlabel(\"date\")\n",
    "ax.set_ylabel(\"USD\")\n",
    "ax.set_title('Without scaling')"
   ]
  },
  {
   "cell_type": "code",
   "execution_count": null,
   "metadata": {
    "pycharm": {
     "is_executing": false
    }
   },
   "outputs": [],
   "source": [
    "# Do prediction on test set\n",
    "est_scaled = xgb_m.predict(best_model, X_sample_scaled.values)\n",
    "test['est_scaled'] = est_scaled\n",
    "test['est'] = test['est_scaled'] * test['adj_close_std'] + test['adj_close_mean']\n",
    "\n",
    "# Calculate RMSE\n",
    "rmse_bef_tuning = math.sqrt(mean_squared_error(y_sample, test['est']))\n",
    "print(\"RMSE on test set = %0.3f\" % rmse_bef_tuning)\n",
    "\n",
    "# Calculate MAPE\n",
    "mape_bef_tuning = get_mape(y_cv, cv['est'])\n",
    "print(\"MAPE on test set = %0.3f%%\" % mape_bef_tuning)"
   ]
  },
  {
   "cell_type": "code",
   "execution_count": null,
   "metadata": {
    "pycharm": {
     "is_executing": false
    }
   },
   "outputs": [],
   "source": [
    "# Plot adjusted close over time\n",
    "rcParams['figure.figsize'] = 10, 8 # width 10, height 8\n",
    "\n",
    "est_df = pd.DataFrame({'est': test['est'], \n",
    "                       'y_sample': y_sample,\n",
    "                       'date': test['date']})\n",
    "\n",
    "ax = train.plot(x='date', y='adj_close', style='b-', grid=True)\n",
    "ax = cv.plot(x='date', y='adj_close', style='y-', grid=True, ax=ax)\n",
    "ax = test.plot(x='date', y='adj_close', style='g-', grid=True, ax=ax)\n",
    "ax = est_df.plot(x='date', y='est', style='r-', grid=True, ax=ax)\n",
    "ax.legend(['train', 'dev', 'test', 'predictions'])\n",
    "ax.set_xlabel(\"date\")\n",
    "ax.set_ylabel(\"USD\")"
   ]
  },
  {
   "cell_type": "code",
   "execution_count": null,
   "metadata": {
    "pycharm": {
     "is_executing": false
    }
   },
   "outputs": [],
   "source": [
    "# Plot adjusted close over time, for test set only\n",
    "rcParams['figure.figsize'] = 10, 8 # width 10, height 8\n",
    "ax = train.plot(x='date', y='adj_close', style='b-', grid=True)\n",
    "ax = cv.plot(x='date', y='adj_close', style='y-', grid=True, ax=ax)\n",
    "ax = test.plot(x='date', y='adj_close', style='g-', grid=True, ax=ax)\n",
    "ax = est_df.plot(x='date', y='est', style='r-', grid=True, ax=ax)\n",
    "ax.legend(['train', 'dev', 'test', 'predictions'])\n",
    "ax.set_xlabel(\"date\")\n",
    "ax.set_ylabel(\"USD\")\n",
    "ax.set_xlim([date(2017, 4, 20), date(2019, 11, 29)])\n",
    "ax.set_ylim([4000, 6800])\n",
    "ax.set_title(\"Zoom in to test set\")"
   ]
  },
  {
   "cell_type": "markdown",
   "metadata": {},
   "source": [
    "Similar to dev set, the predictions capture turns in direction with a slight lag"
   ]
  },
  {
   "cell_type": "code",
   "execution_count": null,
   "metadata": {
    "pycharm": {
     "is_executing": false
    }
   },
   "outputs": [],
   "source": [
    "# Plot adjusted close over time, only for test set\n",
    "rcParams['figure.figsize'] = 50, 40 # width 10, height 8\n",
    "matplotlib.rcParams.update({'font.size': 14})\n",
    "\n",
    "ax = test.plot(x='date', y='adj_close', style='gx-', grid=True)\n",
    "ax = est_df.plot(x='date', y='est', style='rx-', grid=True, ax=ax)\n",
    "ax.legend(['test', 'predictions using xgboost'], loc='upper left')\n",
    "ax.set_xlabel(\"date\")\n",
    "ax.set_ylabel(\"USD\")\n",
    "ax.set_xlim([date(2017, 4, 20), date(2019, 11, 29)])\n",
    "ax.set_ylim([3944, 6730])"
   ]
  },
  {
   "cell_type": "code",
   "execution_count": null,
   "metadata": {
    "pycharm": {
     "is_executing": false
    }
   },
   "outputs": [],
   "source": [
    "# # Save as csv\n",
    "# test_xgboost = est_df\n",
    "# test_xgboost.to_csv(\"./out/test_xgboost.csv\")"
   ]
  },
  {
   "cell_type": "markdown",
   "metadata": {
    "collapsed": true
   },
   "source": [
    "# Findings\n",
    "* By scaling the features properly, we can get good results for our predictions\n",
    "* RMSE and MAPE changed very little with hyperparameter tuning\n",
    "* The final RMSE and MAPE for test set are 1.162 and 0.58% respectively"
   ]
  },
  {
   "cell_type": "code",
   "execution_count": null,
   "metadata": {
    "pycharm": {
     "is_executing": false
    }
   },
   "outputs": [],
   "source": []
  }
 ],
 "metadata": {
  "kernelspec": {
   "display_name": "Python 3",
   "language": "python",
   "name": "python3"
  },
  "language_info": {
   "codemirror_mode": {
    "name": "ipython",
    "version": 3
   },
   "file_extension": ".py",
   "mimetype": "text/x-python",
   "name": "python",
   "nbconvert_exporter": "python",
   "pygments_lexer": "ipython3",
   "version": "3.6.7"
  },
  "latex_envs": {
   "LaTeX_envs_menu_present": true,
   "autoclose": false,
   "autocomplete": true,
   "bibliofile": "biblio.bib",
   "cite_by": "apalike",
   "current_citInitial": 1,
   "eqLabelWithNumbers": true,
   "eqNumInitial": 1,
   "hotkeys": {
    "equation": "Ctrl-E",
    "itemize": "Ctrl-I"
   },
   "labels_anchors": false,
   "latex_user_defs": false,
   "report_style_numbering": false,
   "user_envs_cfg": false
  }
 },
 "nbformat": 4,
 "nbformat_minor": 2
}
