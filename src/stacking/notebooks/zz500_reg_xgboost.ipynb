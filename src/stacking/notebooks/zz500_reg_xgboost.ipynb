{
 "cells": [
  {
   "cell_type": "code",
   "execution_count": 1,
   "metadata": {
    "pycharm": {
     "is_executing": false
    }
   },
   "outputs": [],
   "source": [
    "import math\n",
    "import matplotlib\n",
    "import numpy as np\n",
    "import pandas as pd\n",
    "import seaborn as sns\n",
    "import time\n",
    "\n",
    "from datetime import date\n",
    "from matplotlib import pyplot as plt\n",
    "from pylab import rcParams\n",
    "from sklearn.metrics import mean_squared_error\n",
    "from sklearn.preprocessing import StandardScaler\n",
    "from tqdm import tqdm_notebook\n",
    "# pandas\n",
    "#显示所有列\n",
    "pd.set_option('display.max_columns', None)\n",
    "#显示所有行\n",
    "pd.set_option('display.max_rows', None)\n",
    "#设置value的显示长度为100，默认为50\n",
    "pd.set_option('max_colwidth',100)\n",
    "\n",
    "\n",
    "%matplotlib inline\n",
    "\n",
    "#### Input params ##################\n",
    "# stk_path = \"../../data/zz500.csv\"\n",
    "stk_path = \"../../data/GSPC.csv\"\n",
    "\n",
    "test_size = 0.2                # proportion of dataset to be used as test set\n",
    "cv_size = 0.2                  # proportion of dataset to be used as cross-validation set\n",
    "N = 3                         # for feature at day t, we use lags from t-1, t-2, ..., t-N as features\n",
    "\n",
    "n_estimators = 100             # Number of boosted trees to fit. default = 100\n",
    "max_depth = 3                  # Maximum tree depth for base learners. default = 3\n",
    "learning_rate = 0.1            # Boosting learning rate (xgb’s “eta”). default = 0.1\n",
    "min_child_weight = 1           # Minimum sum of instance weight(hessian) needed in a child. default = 1\n",
    "subsample = 1                  # Subsample ratio of the training instance. default = 1\n",
    "colsample_bytree = 1           # Subsample ratio of columns when constructing each tree. default = 1\n",
    "colsample_bylevel = 1          # Subsample ratio of columns for each split, in each level. default = 1\n",
    "gamma = 0                      # Minimum loss reduction required to make a further partition on a leaf node of the tree. default=0\n",
    "\n",
    "model_seed = 100\n",
    "\n",
    "fontsize = 14\n",
    "ticklabelsize = 14\n",
    "####################################"
   ]
  },
  {
   "cell_type": "markdown",
   "metadata": {},
   "source": [
    "# Common functions"
   ]
  },
  {
   "cell_type": "code",
   "execution_count": 2,
   "metadata": {
    "code_folding": [],
    "pycharm": {
     "is_executing": false
    }
   },
   "outputs": [],
   "source": [
    "from xgboost import XGBRegressor\n",
    "\n",
    "def get_mov_avg_std(df, col, N):\n",
    "    \"\"\"\n",
    "    Given a dataframe, get mean and std dev at timestep t using values from t-1, t-2, ..., t-N.\n",
    "    Inputs\n",
    "        df         : dataframe. Can be of any length.\n",
    "        col        : name of the column you want to calculate mean and std dev\n",
    "        N          : get mean and std dev at timestep t using values from t-1, t-2, ..., t-N\n",
    "    Outputs\n",
    "        df_out     : same as df but with additional column containing mean and std dev\n",
    "    \"\"\"\n",
    "    mean_list = df[col].rolling(window = N, min_periods=1).mean() # len(mean_list) = len(df)\n",
    "    std_list = df[col].rolling(window = N, min_periods=1).std()   # first value will be NaN, because normalized by N-1\n",
    "    \n",
    "    # Add one timestep to the predictions\n",
    "    mean_list = np.concatenate((np.array([np.nan]), np.array(mean_list[:-1])))\n",
    "    std_list = np.concatenate((np.array([np.nan]), np.array(std_list[:-1])))\n",
    "    \n",
    "    # Append mean_list to df\n",
    "    df_out = df.copy()\n",
    "    df_out[col + '_mean'] = mean_list\n",
    "    df_out[col + '_std'] = std_list\n",
    "    \n",
    "    return df_out\n",
    "\n",
    "def scale_row(row, feat_mean, feat_std):\n",
    "    \"\"\"\n",
    "    Given a pandas series in row, scale it to have 0 mean and var 1 using feat_mean and feat_std\n",
    "    Inputs\n",
    "        row      : pandas series. Need to scale this.\n",
    "        feat_mean: mean  \n",
    "        feat_std : standard deviation\n",
    "    Outputs\n",
    "        row_scaled : pandas series with same length as row, but scaled\n",
    "    \"\"\"\n",
    "    # If feat_std = 0 (this happens if adj_close doesn't change over N days), \n",
    "    # set it to a small number to avoid division by zero\n",
    "    feat_std = 0.001 if feat_std == 0 else feat_std\n",
    "    \n",
    "    row_scaled = (row-feat_mean) / feat_std\n",
    "    \n",
    "    return row_scaled\n",
    "\n",
    "def get_mape(y_true, y_pred): \n",
    "    \"\"\"\n",
    "    Compute mean absolute percentage error (MAPE)\n",
    "    \"\"\"\n",
    "    y_true, y_pred = np.array(y_true), np.array(y_pred)\n",
    "    return np.mean(np.abs((y_true - y_pred) / y_true)) * 100\n"
   ]
  },
  {
   "cell_type": "markdown",
   "metadata": {},
   "source": [
    "# Load data"
   ]
  },
  {
   "cell_type": "code",
   "execution_count": 3,
   "metadata": {
    "pycharm": {
     "is_executing": false
    }
   },
   "outputs": [
    {
     "data": {
      "text/html": [
       "<div>\n",
       "<style scoped>\n",
       "    .dataframe tbody tr th:only-of-type {\n",
       "        vertical-align: middle;\n",
       "    }\n",
       "\n",
       "    .dataframe tbody tr th {\n",
       "        vertical-align: top;\n",
       "    }\n",
       "\n",
       "    .dataframe thead th {\n",
       "        text-align: right;\n",
       "    }\n",
       "</style>\n",
       "<table border=\"1\" class=\"dataframe\">\n",
       "  <thead>\n",
       "    <tr style=\"text-align: right;\">\n",
       "      <th></th>\n",
       "      <th>date</th>\n",
       "      <th>open</th>\n",
       "      <th>high</th>\n",
       "      <th>low</th>\n",
       "      <th>close</th>\n",
       "      <th>adj_close</th>\n",
       "      <th>volume</th>\n",
       "      <th>month</th>\n",
       "    </tr>\n",
       "  </thead>\n",
       "  <tbody>\n",
       "    <tr>\n",
       "      <th>0</th>\n",
       "      <td>2015-11-27</td>\n",
       "      <td>2088.820068</td>\n",
       "      <td>2093.290039</td>\n",
       "      <td>2084.129883</td>\n",
       "      <td>2090.110107</td>\n",
       "      <td>2090.110107</td>\n",
       "      <td>1466840000</td>\n",
       "      <td>11</td>\n",
       "    </tr>\n",
       "    <tr>\n",
       "      <th>1</th>\n",
       "      <td>2015-11-30</td>\n",
       "      <td>2090.949951</td>\n",
       "      <td>2093.810059</td>\n",
       "      <td>2080.409912</td>\n",
       "      <td>2080.409912</td>\n",
       "      <td>2080.409912</td>\n",
       "      <td>4275030000</td>\n",
       "      <td>11</td>\n",
       "    </tr>\n",
       "    <tr>\n",
       "      <th>2</th>\n",
       "      <td>2015-12-01</td>\n",
       "      <td>2082.929932</td>\n",
       "      <td>2103.370117</td>\n",
       "      <td>2082.929932</td>\n",
       "      <td>2102.629883</td>\n",
       "      <td>2102.629883</td>\n",
       "      <td>3712120000</td>\n",
       "      <td>12</td>\n",
       "    </tr>\n",
       "    <tr>\n",
       "      <th>3</th>\n",
       "      <td>2015-12-02</td>\n",
       "      <td>2101.709961</td>\n",
       "      <td>2104.270020</td>\n",
       "      <td>2077.110107</td>\n",
       "      <td>2079.510010</td>\n",
       "      <td>2079.510010</td>\n",
       "      <td>3950640000</td>\n",
       "      <td>12</td>\n",
       "    </tr>\n",
       "    <tr>\n",
       "      <th>4</th>\n",
       "      <td>2015-12-03</td>\n",
       "      <td>2080.709961</td>\n",
       "      <td>2085.000000</td>\n",
       "      <td>2042.349976</td>\n",
       "      <td>2049.620117</td>\n",
       "      <td>2049.620117</td>\n",
       "      <td>4306490000</td>\n",
       "      <td>12</td>\n",
       "    </tr>\n",
       "  </tbody>\n",
       "</table>\n",
       "</div>"
      ],
      "text/plain": [
       "        date         open         high          low        close    adj_close  \\\n",
       "0 2015-11-27  2088.820068  2093.290039  2084.129883  2090.110107  2090.110107   \n",
       "1 2015-11-30  2090.949951  2093.810059  2080.409912  2080.409912  2080.409912   \n",
       "2 2015-12-01  2082.929932  2103.370117  2082.929932  2102.629883  2102.629883   \n",
       "3 2015-12-02  2101.709961  2104.270020  2077.110107  2079.510010  2079.510010   \n",
       "4 2015-12-03  2080.709961  2085.000000  2042.349976  2049.620117  2049.620117   \n",
       "\n",
       "       volume  month  \n",
       "0  1466840000     11  \n",
       "1  4275030000     11  \n",
       "2  3712120000     12  \n",
       "3  3950640000     12  \n",
       "4  4306490000     12  "
      ]
     },
     "execution_count": 3,
     "metadata": {},
     "output_type": "execute_result"
    }
   ],
   "source": [
    "df = pd.read_csv(stk_path, sep = \",\")\n",
    "\n",
    "# Convert Date column to datetime\n",
    "df.loc[:, 'Date'] = pd.to_datetime(df['Date'],format='%Y-%m-%d')\n",
    "\n",
    "# Change all column headings to be lower case, and remove spacing\n",
    "df.columns = [str(x).lower().replace(' ', '_') for x in df.columns]\n",
    "\n",
    "# Get month of each sample\n",
    "df['month'] = df['date'].dt.month\n",
    "\n",
    "# Sort by datetime\n",
    "df.sort_values(by='date', inplace=True, ascending=True)\n",
    "\n",
    "df.head()"
   ]
  },
  {
   "cell_type": "code",
   "execution_count": 4,
   "metadata": {
    "pycharm": {
     "is_executing": false
    }
   },
   "outputs": [
    {
     "data": {
      "text/plain": [
       "Text(0, 0.5, 'USD')"
      ]
     },
     "execution_count": 4,
     "metadata": {},
     "output_type": "execute_result"
    },
    {
     "data": {
      "image/png": "[encoded data removed]",
      "text/plain": [
       "<Figure size 720x576 with 1 Axes>"
      ]
     },
     "metadata": {
      "needs_background": "light"
     },
     "output_type": "display_data"
    }
   ],
   "source": [
    "# Plot adjusted close over time\n",
    "rcParams['figure.figsize'] = 10, 8 # width 10, height 8\n",
    "\n",
    "ax = df.plot(x='date', y='adj_close', style='b-', grid=True)\n",
    "ax.set_xlabel(\"date\")\n",
    "ax.set_ylabel(\"USD\")"
   ]
  },
  {
   "cell_type": "markdown",
   "metadata": {},
   "source": [
    "# Feature Engineering"
   ]
  },
  {
   "cell_type": "markdown",
   "metadata": {
    "collapsed": true
   },
   "source": [
    "We will generate the following features:\n",
    "* Mean 'adj_close' of each month\n",
    "* Difference between high and low of each day\n",
    "* Difference between open and close of each day\n",
    "* Mean volume of each month"
   ]
  },
  {
   "cell_type": "code",
   "execution_count": 5,
   "metadata": {
    "pycharm": {
     "is_executing": false
    },
    "scrolled": true
   },
   "outputs": [
    {
     "data": {
      "text/html": [
       "<div>\n",
       "<style scoped>\n",
       "    .dataframe tbody tr th:only-of-type {\n",
       "        vertical-align: middle;\n",
       "    }\n",
       "\n",
       "    .dataframe tbody tr th {\n",
       "        vertical-align: top;\n",
       "    }\n",
       "\n",
       "    .dataframe thead th {\n",
       "        text-align: right;\n",
       "    }\n",
       "</style>\n",
       "<table border=\"1\" class=\"dataframe\">\n",
       "  <thead>\n",
       "    <tr style=\"text-align: right;\">\n",
       "      <th></th>\n",
       "      <th>date</th>\n",
       "      <th>adj_close</th>\n",
       "      <th>volume</th>\n",
       "      <th>month</th>\n",
       "      <th>range_hl</th>\n",
       "      <th>range_oc</th>\n",
       "    </tr>\n",
       "  </thead>\n",
       "  <tbody>\n",
       "    <tr>\n",
       "      <th>0</th>\n",
       "      <td>2015-11-27</td>\n",
       "      <td>2090.110107</td>\n",
       "      <td>1466840000</td>\n",
       "      <td>11</td>\n",
       "      <td>9.160156</td>\n",
       "      <td>-1.290039</td>\n",
       "    </tr>\n",
       "    <tr>\n",
       "      <th>1</th>\n",
       "      <td>2015-11-30</td>\n",
       "      <td>2080.409912</td>\n",
       "      <td>4275030000</td>\n",
       "      <td>11</td>\n",
       "      <td>13.400147</td>\n",
       "      <td>10.540039</td>\n",
       "    </tr>\n",
       "    <tr>\n",
       "      <th>2</th>\n",
       "      <td>2015-12-01</td>\n",
       "      <td>2102.629883</td>\n",
       "      <td>3712120000</td>\n",
       "      <td>12</td>\n",
       "      <td>20.440185</td>\n",
       "      <td>-19.699951</td>\n",
       "    </tr>\n",
       "    <tr>\n",
       "      <th>3</th>\n",
       "      <td>2015-12-02</td>\n",
       "      <td>2079.510010</td>\n",
       "      <td>3950640000</td>\n",
       "      <td>12</td>\n",
       "      <td>27.159913</td>\n",
       "      <td>22.199951</td>\n",
       "    </tr>\n",
       "    <tr>\n",
       "      <th>4</th>\n",
       "      <td>2015-12-03</td>\n",
       "      <td>2049.620117</td>\n",
       "      <td>4306490000</td>\n",
       "      <td>12</td>\n",
       "      <td>42.650024</td>\n",
       "      <td>31.089844</td>\n",
       "    </tr>\n",
       "  </tbody>\n",
       "</table>\n",
       "</div>"
      ],
      "text/plain": [
       "        date    adj_close      volume  month   range_hl   range_oc\n",
       "0 2015-11-27  2090.110107  1466840000     11   9.160156  -1.290039\n",
       "1 2015-11-30  2080.409912  4275030000     11  13.400147  10.540039\n",
       "2 2015-12-01  2102.629883  3712120000     12  20.440185 -19.699951\n",
       "3 2015-12-02  2079.510010  3950640000     12  27.159913  22.199951\n",
       "4 2015-12-03  2049.620117  4306490000     12  42.650024  31.089844"
      ]
     },
     "execution_count": 5,
     "metadata": {},
     "output_type": "execute_result"
    }
   ],
   "source": [
    "# Get difference between high and low of each day\n",
    "df['range_hl'] = df['high'] - df['low']\n",
    "df.drop(['high', 'low'], axis=1, inplace=True)\n",
    "\n",
    "# Get difference between open and close of each day\n",
    "df['range_oc'] = df['open'] - df['close']\n",
    "df.drop(['open', 'close'], axis=1, inplace=True)\n",
    "\n",
    "df.head()"
   ]
  },
  {
   "cell_type": "markdown",
   "metadata": {},
   "source": [
    "Now we use lags up to N number of days to use as features."
   ]
  },
  {
   "cell_type": "code",
   "execution_count": 6,
   "metadata": {
    "pycharm": {
     "is_executing": false
    }
   },
   "outputs": [],
   "source": [
    "# Add a column 'order_day' to indicate the order of the rows by date\n",
    "df['order_day'] = [x for x in list(range(len(df)))]\n",
    "\n",
    "# merging_keys\n",
    "merging_keys = ['order_day']\n",
    "\n",
    "# List of columns that we will use to create lags\n",
    "lag_cols = ['adj_close', 'range_hl', 'range_oc', 'volume']\n"
   ]
  },
  {
   "cell_type": "code",
   "execution_count": 7,
   "metadata": {
    "scrolled": true
   },
   "outputs": [
    {
     "data": {
      "text/html": [
       "<div>\n",
       "<style scoped>\n",
       "    .dataframe tbody tr th:only-of-type {\n",
       "        vertical-align: middle;\n",
       "    }\n",
       "\n",
       "    .dataframe tbody tr th {\n",
       "        vertical-align: top;\n",
       "    }\n",
       "\n",
       "    .dataframe thead th {\n",
       "        text-align: right;\n",
       "    }\n",
       "</style>\n",
       "<table border=\"1\" class=\"dataframe\">\n",
       "  <thead>\n",
       "    <tr style=\"text-align: right;\">\n",
       "      <th></th>\n",
       "      <th>date</th>\n",
       "      <th>adj_close</th>\n",
       "      <th>volume</th>\n",
       "      <th>month</th>\n",
       "      <th>range_hl</th>\n",
       "      <th>range_oc</th>\n",
       "      <th>order_day</th>\n",
       "    </tr>\n",
       "  </thead>\n",
       "  <tbody>\n",
       "    <tr>\n",
       "      <th>0</th>\n",
       "      <td>2015-11-27</td>\n",
       "      <td>2090.110107</td>\n",
       "      <td>1466840000</td>\n",
       "      <td>11</td>\n",
       "      <td>9.160156</td>\n",
       "      <td>-1.290039</td>\n",
       "      <td>0</td>\n",
       "    </tr>\n",
       "    <tr>\n",
       "      <th>1</th>\n",
       "      <td>2015-11-30</td>\n",
       "      <td>2080.409912</td>\n",
       "      <td>4275030000</td>\n",
       "      <td>11</td>\n",
       "      <td>13.400147</td>\n",
       "      <td>10.540039</td>\n",
       "      <td>1</td>\n",
       "    </tr>\n",
       "    <tr>\n",
       "      <th>2</th>\n",
       "      <td>2015-12-01</td>\n",
       "      <td>2102.629883</td>\n",
       "      <td>3712120000</td>\n",
       "      <td>12</td>\n",
       "      <td>20.440185</td>\n",
       "      <td>-19.699951</td>\n",
       "      <td>2</td>\n",
       "    </tr>\n",
       "    <tr>\n",
       "      <th>3</th>\n",
       "      <td>2015-12-02</td>\n",
       "      <td>2079.510010</td>\n",
       "      <td>3950640000</td>\n",
       "      <td>12</td>\n",
       "      <td>27.159913</td>\n",
       "      <td>22.199951</td>\n",
       "      <td>3</td>\n",
       "    </tr>\n",
       "    <tr>\n",
       "      <th>4</th>\n",
       "      <td>2015-12-03</td>\n",
       "      <td>2049.620117</td>\n",
       "      <td>4306490000</td>\n",
       "      <td>12</td>\n",
       "      <td>42.650024</td>\n",
       "      <td>31.089844</td>\n",
       "      <td>4</td>\n",
       "    </tr>\n",
       "  </tbody>\n",
       "</table>\n",
       "</div>"
      ],
      "text/plain": [
       "        date    adj_close      volume  month   range_hl   range_oc  order_day\n",
       "0 2015-11-27  2090.110107  1466840000     11   9.160156  -1.290039          0\n",
       "1 2015-11-30  2080.409912  4275030000     11  13.400147  10.540039          1\n",
       "2 2015-12-01  2102.629883  3712120000     12  20.440185 -19.699951          2\n",
       "3 2015-12-02  2079.510010  3950640000     12  27.159913  22.199951          3\n",
       "4 2015-12-03  2049.620117  4306490000     12  42.650024  31.089844          4"
      ]
     },
     "execution_count": 7,
     "metadata": {},
     "output_type": "execute_result"
    }
   ],
   "source": [
    "df.head()"
   ]
  },
  {
   "cell_type": "code",
   "execution_count": 8,
   "metadata": {
    "pycharm": {
     "is_executing": false
    }
   },
   "outputs": [
    {
     "name": "stderr",
     "output_type": "stream",
     "text": [
      "/home/jerry/workshop/virtualenv/alpha-mind/lib/python3.6/site-packages/ipykernel_launcher.py:3: TqdmDeprecationWarning: This function will be removed in tqdm==5.0.0\n",
      "Please use `tqdm.notebook.tqdm` instead of `tqdm.tqdm_notebook`\n",
      "  This is separate from the ipykernel package so we can avoid doing imports until\n"
     ]
    },
    {
     "data": {
      "application/vnd.jupyter.widget-view+json": {
       "model_id": "af1b6768a3d640bb8384c5f0e4f17f54",
       "version_major": 2,
       "version_minor": 0
      },
      "text/plain": [
       "HBox(children=(IntProgress(value=0, max=3), HTML(value='')))"
      ]
     },
     "metadata": {},
     "output_type": "display_data"
    },
    {
     "name": "stdout",
     "output_type": "stream",
     "text": [
      "\n"
     ]
    },
    {
     "data": {
      "text/html": [
       "<div>\n",
       "<style scoped>\n",
       "    .dataframe tbody tr th:only-of-type {\n",
       "        vertical-align: middle;\n",
       "    }\n",
       "\n",
       "    .dataframe tbody tr th {\n",
       "        vertical-align: top;\n",
       "    }\n",
       "\n",
       "    .dataframe thead th {\n",
       "        text-align: right;\n",
       "    }\n",
       "</style>\n",
       "<table border=\"1\" class=\"dataframe\">\n",
       "  <thead>\n",
       "    <tr style=\"text-align: right;\">\n",
       "      <th></th>\n",
       "      <th>date</th>\n",
       "      <th>adj_close</th>\n",
       "      <th>volume</th>\n",
       "      <th>month</th>\n",
       "      <th>range_hl</th>\n",
       "      <th>range_oc</th>\n",
       "      <th>order_day</th>\n",
       "      <th>adj_close_lag_1</th>\n",
       "      <th>range_hl_lag_1</th>\n",
       "      <th>range_oc_lag_1</th>\n",
       "      <th>volume_lag_1</th>\n",
       "      <th>adj_close_lag_2</th>\n",
       "      <th>range_hl_lag_2</th>\n",
       "      <th>range_oc_lag_2</th>\n",
       "      <th>volume_lag_2</th>\n",
       "      <th>adj_close_lag_3</th>\n",
       "      <th>range_hl_lag_3</th>\n",
       "      <th>range_oc_lag_3</th>\n",
       "      <th>volume_lag_3</th>\n",
       "    </tr>\n",
       "  </thead>\n",
       "  <tbody>\n",
       "    <tr>\n",
       "      <th>3</th>\n",
       "      <td>2015-12-02</td>\n",
       "      <td>2079.510010</td>\n",
       "      <td>3950640000</td>\n",
       "      <td>12</td>\n",
       "      <td>27.159913</td>\n",
       "      <td>22.199951</td>\n",
       "      <td>3</td>\n",
       "      <td>2102.629883</td>\n",
       "      <td>20.440185</td>\n",
       "      <td>-19.699951</td>\n",
       "      <td>3.712120e+09</td>\n",
       "      <td>2080.409912</td>\n",
       "      <td>13.400147</td>\n",
       "      <td>10.540039</td>\n",
       "      <td>4.275030e+09</td>\n",
       "      <td>2090.110107</td>\n",
       "      <td>9.160156</td>\n",
       "      <td>-1.290039</td>\n",
       "      <td>1.466840e+09</td>\n",
       "    </tr>\n",
       "    <tr>\n",
       "      <th>4</th>\n",
       "      <td>2015-12-03</td>\n",
       "      <td>2049.620117</td>\n",
       "      <td>4306490000</td>\n",
       "      <td>12</td>\n",
       "      <td>42.650024</td>\n",
       "      <td>31.089844</td>\n",
       "      <td>4</td>\n",
       "      <td>2079.510010</td>\n",
       "      <td>27.159913</td>\n",
       "      <td>22.199951</td>\n",
       "      <td>3.950640e+09</td>\n",
       "      <td>2102.629883</td>\n",
       "      <td>20.440185</td>\n",
       "      <td>-19.699951</td>\n",
       "      <td>3.712120e+09</td>\n",
       "      <td>2080.409912</td>\n",
       "      <td>13.400147</td>\n",
       "      <td>10.540039</td>\n",
       "      <td>4.275030e+09</td>\n",
       "    </tr>\n",
       "    <tr>\n",
       "      <th>5</th>\n",
       "      <td>2015-12-04</td>\n",
       "      <td>2091.689941</td>\n",
       "      <td>4214910000</td>\n",
       "      <td>12</td>\n",
       "      <td>42.600098</td>\n",
       "      <td>-40.449951</td>\n",
       "      <td>5</td>\n",
       "      <td>2049.620117</td>\n",
       "      <td>42.650024</td>\n",
       "      <td>31.089844</td>\n",
       "      <td>4.306490e+09</td>\n",
       "      <td>2079.510010</td>\n",
       "      <td>27.159913</td>\n",
       "      <td>22.199951</td>\n",
       "      <td>3.950640e+09</td>\n",
       "      <td>2102.629883</td>\n",
       "      <td>20.440185</td>\n",
       "      <td>-19.699951</td>\n",
       "      <td>3.712120e+09</td>\n",
       "    </tr>\n",
       "    <tr>\n",
       "      <th>6</th>\n",
       "      <td>2015-12-07</td>\n",
       "      <td>2077.070068</td>\n",
       "      <td>4043820000</td>\n",
       "      <td>12</td>\n",
       "      <td>23.639893</td>\n",
       "      <td>13.349854</td>\n",
       "      <td>6</td>\n",
       "      <td>2091.689941</td>\n",
       "      <td>42.600098</td>\n",
       "      <td>-40.449951</td>\n",
       "      <td>4.214910e+09</td>\n",
       "      <td>2049.620117</td>\n",
       "      <td>42.650024</td>\n",
       "      <td>31.089844</td>\n",
       "      <td>4.306490e+09</td>\n",
       "      <td>2079.510010</td>\n",
       "      <td>27.159913</td>\n",
       "      <td>22.199951</td>\n",
       "      <td>3.950640e+09</td>\n",
       "    </tr>\n",
       "    <tr>\n",
       "      <th>7</th>\n",
       "      <td>2015-12-08</td>\n",
       "      <td>2063.590088</td>\n",
       "      <td>4173570000</td>\n",
       "      <td>12</td>\n",
       "      <td>21.530030</td>\n",
       "      <td>9.799805</td>\n",
       "      <td>7</td>\n",
       "      <td>2077.070068</td>\n",
       "      <td>23.639893</td>\n",
       "      <td>13.349854</td>\n",
       "      <td>4.043820e+09</td>\n",
       "      <td>2091.689941</td>\n",
       "      <td>42.600098</td>\n",
       "      <td>-40.449951</td>\n",
       "      <td>4.214910e+09</td>\n",
       "      <td>2049.620117</td>\n",
       "      <td>42.650024</td>\n",
       "      <td>31.089844</td>\n",
       "      <td>4.306490e+09</td>\n",
       "    </tr>\n",
       "  </tbody>\n",
       "</table>\n",
       "</div>"
      ],
      "text/plain": [
       "        date    adj_close      volume  month   range_hl   range_oc  order_day  \\\n",
       "3 2015-12-02  2079.510010  3950640000     12  27.159913  22.199951          3   \n",
       "4 2015-12-03  2049.620117  4306490000     12  42.650024  31.089844          4   \n",
       "5 2015-12-04  2091.689941  4214910000     12  42.600098 -40.449951          5   \n",
       "6 2015-12-07  2077.070068  4043820000     12  23.639893  13.349854          6   \n",
       "7 2015-12-08  2063.590088  4173570000     12  21.530030   9.799805          7   \n",
       "\n",
       "   adj_close_lag_1  range_hl_lag_1  range_oc_lag_1  volume_lag_1  \\\n",
       "3      2102.629883       20.440185      -19.699951  3.712120e+09   \n",
       "4      2079.510010       27.159913       22.199951  3.950640e+09   \n",
       "5      2049.620117       42.650024       31.089844  4.306490e+09   \n",
       "6      2091.689941       42.600098      -40.449951  4.214910e+09   \n",
       "7      2077.070068       23.639893       13.349854  4.043820e+09   \n",
       "\n",
       "   adj_close_lag_2  range_hl_lag_2  range_oc_lag_2  volume_lag_2  \\\n",
       "3      2080.409912       13.400147       10.540039  4.275030e+09   \n",
       "4      2102.629883       20.440185      -19.699951  3.712120e+09   \n",
       "5      2079.510010       27.159913       22.199951  3.950640e+09   \n",
       "6      2049.620117       42.650024       31.089844  4.306490e+09   \n",
       "7      2091.689941       42.600098      -40.449951  4.214910e+09   \n",
       "\n",
       "   adj_close_lag_3  range_hl_lag_3  range_oc_lag_3  volume_lag_3  \n",
       "3      2090.110107        9.160156       -1.290039  1.466840e+09  \n",
       "4      2080.409912       13.400147       10.540039  4.275030e+09  \n",
       "5      2102.629883       20.440185      -19.699951  3.712120e+09  \n",
       "6      2079.510010       27.159913       22.199951  3.950640e+09  \n",
       "7      2049.620117       42.650024       31.089844  4.306490e+09  "
      ]
     },
     "execution_count": 8,
     "metadata": {},
     "output_type": "execute_result"
    }
   ],
   "source": [
    "shift_range = [x+1 for x in range(N)]\n",
    "\n",
    "for shift in tqdm_notebook(shift_range):\n",
    "    train_shift = df[merging_keys + lag_cols].copy()\n",
    "    \n",
    "    # E.g. order_day of 0 becomes 1, for shift = 1.\n",
    "    # So when this is merged with order_day of 1 in df, this will represent lag of 1.\n",
    "    train_shift['order_day'] = train_shift['order_day'] + shift\n",
    "    \n",
    "    foo = lambda x: '{}_lag_{}'.format(x, shift) if x in lag_cols else x\n",
    "    train_shift = train_shift.rename(columns=foo)\n",
    "\n",
    "    df = pd.merge(df, train_shift, on=merging_keys, how='left') #.fillna(0)\n",
    "    \n",
    "del train_shift\n",
    "\n",
    "# Remove the first N rows which contain NaNs\n",
    "df = df[N:]\n",
    "    \n",
    "df.head()"
   ]
  },
  {
   "cell_type": "code",
   "execution_count": 9,
   "metadata": {
    "code_folding": [
     0
    ],
    "pycharm": {
     "is_executing": false
    }
   },
   "outputs": [],
   "source": [
    "# # Get mean of adj_close of each month\n",
    "# df_gb = df.groupby(['month'], as_index=False).agg({'adj_close':'mean'})\n",
    "# df_gb = df_gb.rename(columns={'adj_close':'adj_close_mean'})\n",
    "# df_gb\n",
    "\n",
    "# # Merge to main df\n",
    "# df = df.merge(df_gb, \n",
    "#               left_on=['month'], \n",
    "#               right_on=['month'],\n",
    "#               how='left').fillna(0)\n",
    "\n",
    "# # Merge to main df\n",
    "# shift_range = [x+1 for x in range(2)]\n",
    "\n",
    "# for shift in tqdm_notebook(shift_range):\n",
    "#     train_shift = df[merging_keys + lag_cols].copy()\n",
    "    \n",
    "#     # E.g. order_day of 0 becomes 1, for shift = 1.\n",
    "#     # So when this is merged with order_day of 1 in df, this will represent lag of 1.\n",
    "#     train_shift['order_day'] = train_shift['order_day'] + shift\n",
    "    \n",
    "#     foo = lambda x: '{}_lag_{}'.format(x, shift) if x in lag_cols else x\n",
    "#     train_shift = train_shift.rename(columns=foo)\n",
    "\n",
    "#     df = pd.merge(df, train_shift, on=merging_keys, how='left') #.fillna(0)\n",
    "    \n",
    "# del train_shift\n",
    "    \n",
    "# df"
   ]
  },
  {
   "cell_type": "code",
   "execution_count": 10,
   "metadata": {
    "code_folding": [
     0
    ],
    "pycharm": {
     "is_executing": false
    }
   },
   "outputs": [],
   "source": [
    "# # Get mean of volume of each month\n",
    "# df_gb = df.groupby(['month'], as_index=False).agg({'volume':'mean'})\n",
    "# df_gb = df_gb.rename(columns={'volume':'volume_mean'})\n",
    "# df_gb\n",
    "\n",
    "# # Merge to main df\n",
    "# df = df.merge(df_gb, \n",
    "#               left_on=['month'], \n",
    "#               right_on=['month'],\n",
    "#               how='left').fillna(0)\n",
    "\n",
    "# df.head()"
   ]
  },
  {
   "cell_type": "markdown",
   "metadata": {},
   "source": [
    "# Get mean and std dev at timestamp t using values from t-1, ..., t-N"
   ]
  },
  {
   "cell_type": "code",
   "execution_count": 11,
   "metadata": {
    "pycharm": {
     "is_executing": false
    }
   },
   "outputs": [
    {
     "data": {
      "text/html": [
       "<div>\n",
       "<style scoped>\n",
       "    .dataframe tbody tr th:only-of-type {\n",
       "        vertical-align: middle;\n",
       "    }\n",
       "\n",
       "    .dataframe tbody tr th {\n",
       "        vertical-align: top;\n",
       "    }\n",
       "\n",
       "    .dataframe thead th {\n",
       "        text-align: right;\n",
       "    }\n",
       "</style>\n",
       "<table border=\"1\" class=\"dataframe\">\n",
       "  <thead>\n",
       "    <tr style=\"text-align: right;\">\n",
       "      <th></th>\n",
       "      <th>date</th>\n",
       "      <th>adj_close</th>\n",
       "      <th>volume</th>\n",
       "      <th>month</th>\n",
       "      <th>range_hl</th>\n",
       "      <th>range_oc</th>\n",
       "      <th>order_day</th>\n",
       "      <th>adj_close_lag_1</th>\n",
       "      <th>range_hl_lag_1</th>\n",
       "      <th>range_oc_lag_1</th>\n",
       "      <th>volume_lag_1</th>\n",
       "      <th>adj_close_lag_2</th>\n",
       "      <th>range_hl_lag_2</th>\n",
       "      <th>range_oc_lag_2</th>\n",
       "      <th>volume_lag_2</th>\n",
       "      <th>adj_close_lag_3</th>\n",
       "      <th>range_hl_lag_3</th>\n",
       "      <th>range_oc_lag_3</th>\n",
       "      <th>volume_lag_3</th>\n",
       "      <th>adj_close_mean</th>\n",
       "      <th>adj_close_std</th>\n",
       "      <th>range_hl_mean</th>\n",
       "      <th>range_hl_std</th>\n",
       "      <th>range_oc_mean</th>\n",
       "      <th>range_oc_std</th>\n",
       "      <th>volume_mean</th>\n",
       "      <th>volume_std</th>\n",
       "    </tr>\n",
       "  </thead>\n",
       "  <tbody>\n",
       "    <tr>\n",
       "      <th>3</th>\n",
       "      <td>2015-12-02</td>\n",
       "      <td>2079.510010</td>\n",
       "      <td>3950640000</td>\n",
       "      <td>12</td>\n",
       "      <td>27.159913</td>\n",
       "      <td>22.199951</td>\n",
       "      <td>3</td>\n",
       "      <td>2102.629883</td>\n",
       "      <td>20.440185</td>\n",
       "      <td>-19.699951</td>\n",
       "      <td>3.712120e+09</td>\n",
       "      <td>2080.409912</td>\n",
       "      <td>13.400147</td>\n",
       "      <td>10.540039</td>\n",
       "      <td>4.275030e+09</td>\n",
       "      <td>2090.110107</td>\n",
       "      <td>9.160156</td>\n",
       "      <td>-1.290039</td>\n",
       "      <td>1.466840e+09</td>\n",
       "      <td>NaN</td>\n",
       "      <td>NaN</td>\n",
       "      <td>NaN</td>\n",
       "      <td>NaN</td>\n",
       "      <td>NaN</td>\n",
       "      <td>NaN</td>\n",
       "      <td>NaN</td>\n",
       "      <td>NaN</td>\n",
       "    </tr>\n",
       "    <tr>\n",
       "      <th>4</th>\n",
       "      <td>2015-12-03</td>\n",
       "      <td>2049.620117</td>\n",
       "      <td>4306490000</td>\n",
       "      <td>12</td>\n",
       "      <td>42.650024</td>\n",
       "      <td>31.089844</td>\n",
       "      <td>4</td>\n",
       "      <td>2079.510010</td>\n",
       "      <td>27.159913</td>\n",
       "      <td>22.199951</td>\n",
       "      <td>3.950640e+09</td>\n",
       "      <td>2102.629883</td>\n",
       "      <td>20.440185</td>\n",
       "      <td>-19.699951</td>\n",
       "      <td>3.712120e+09</td>\n",
       "      <td>2080.409912</td>\n",
       "      <td>13.400147</td>\n",
       "      <td>10.540039</td>\n",
       "      <td>4.275030e+09</td>\n",
       "      <td>2079.510010</td>\n",
       "      <td>NaN</td>\n",
       "      <td>27.159913</td>\n",
       "      <td>NaN</td>\n",
       "      <td>22.199951</td>\n",
       "      <td>NaN</td>\n",
       "      <td>3.950640e+09</td>\n",
       "      <td>NaN</td>\n",
       "    </tr>\n",
       "    <tr>\n",
       "      <th>5</th>\n",
       "      <td>2015-12-04</td>\n",
       "      <td>2091.689941</td>\n",
       "      <td>4214910000</td>\n",
       "      <td>12</td>\n",
       "      <td>42.600098</td>\n",
       "      <td>-40.449951</td>\n",
       "      <td>5</td>\n",
       "      <td>2049.620117</td>\n",
       "      <td>42.650024</td>\n",
       "      <td>31.089844</td>\n",
       "      <td>4.306490e+09</td>\n",
       "      <td>2079.510010</td>\n",
       "      <td>27.159913</td>\n",
       "      <td>22.199951</td>\n",
       "      <td>3.950640e+09</td>\n",
       "      <td>2102.629883</td>\n",
       "      <td>20.440185</td>\n",
       "      <td>-19.699951</td>\n",
       "      <td>3.712120e+09</td>\n",
       "      <td>2064.565064</td>\n",
       "      <td>21.135346</td>\n",
       "      <td>34.904968</td>\n",
       "      <td>10.953163</td>\n",
       "      <td>26.644897</td>\n",
       "      <td>6.286104</td>\n",
       "      <td>4.128565e+09</td>\n",
       "      <td>2.516239e+08</td>\n",
       "    </tr>\n",
       "    <tr>\n",
       "      <th>6</th>\n",
       "      <td>2015-12-07</td>\n",
       "      <td>2077.070068</td>\n",
       "      <td>4043820000</td>\n",
       "      <td>12</td>\n",
       "      <td>23.639893</td>\n",
       "      <td>13.349854</td>\n",
       "      <td>6</td>\n",
       "      <td>2091.689941</td>\n",
       "      <td>42.600098</td>\n",
       "      <td>-40.449951</td>\n",
       "      <td>4.214910e+09</td>\n",
       "      <td>2049.620117</td>\n",
       "      <td>42.650024</td>\n",
       "      <td>31.089844</td>\n",
       "      <td>4.306490e+09</td>\n",
       "      <td>2079.510010</td>\n",
       "      <td>27.159913</td>\n",
       "      <td>22.199951</td>\n",
       "      <td>3.950640e+09</td>\n",
       "      <td>2073.606689</td>\n",
       "      <td>21.647273</td>\n",
       "      <td>37.470012</td>\n",
       "      <td>8.928842</td>\n",
       "      <td>4.279948</td>\n",
       "      <td>38.991415</td>\n",
       "      <td>4.157347e+09</td>\n",
       "      <td>1.847768e+08</td>\n",
       "    </tr>\n",
       "    <tr>\n",
       "      <th>7</th>\n",
       "      <td>2015-12-08</td>\n",
       "      <td>2063.590088</td>\n",
       "      <td>4173570000</td>\n",
       "      <td>12</td>\n",
       "      <td>21.530030</td>\n",
       "      <td>9.799805</td>\n",
       "      <td>7</td>\n",
       "      <td>2077.070068</td>\n",
       "      <td>23.639893</td>\n",
       "      <td>13.349854</td>\n",
       "      <td>4.043820e+09</td>\n",
       "      <td>2091.689941</td>\n",
       "      <td>42.600098</td>\n",
       "      <td>-40.449951</td>\n",
       "      <td>4.214910e+09</td>\n",
       "      <td>2049.620117</td>\n",
       "      <td>42.650024</td>\n",
       "      <td>31.089844</td>\n",
       "      <td>4.306490e+09</td>\n",
       "      <td>2072.793375</td>\n",
       "      <td>21.358490</td>\n",
       "      <td>36.296672</td>\n",
       "      <td>10.961120</td>\n",
       "      <td>1.329916</td>\n",
       "      <td>37.253788</td>\n",
       "      <td>4.188407e+09</td>\n",
       "      <td>1.333255e+08</td>\n",
       "    </tr>\n",
       "  </tbody>\n",
       "</table>\n",
       "</div>"
      ],
      "text/plain": [
       "        date    adj_close      volume  month   range_hl   range_oc  order_day  \\\n",
       "3 2015-12-02  2079.510010  3950640000     12  27.159913  22.199951          3   \n",
       "4 2015-12-03  2049.620117  4306490000     12  42.650024  31.089844          4   \n",
       "5 2015-12-04  2091.689941  4214910000     12  42.600098 -40.449951          5   \n",
       "6 2015-12-07  2077.070068  4043820000     12  23.639893  13.349854          6   \n",
       "7 2015-12-08  2063.590088  4173570000     12  21.530030   9.799805          7   \n",
       "\n",
       "   adj_close_lag_1  range_hl_lag_1  range_oc_lag_1  volume_lag_1  \\\n",
       "3      2102.629883       20.440185      -19.699951  3.712120e+09   \n",
       "4      2079.510010       27.159913       22.199951  3.950640e+09   \n",
       "5      2049.620117       42.650024       31.089844  4.306490e+09   \n",
       "6      2091.689941       42.600098      -40.449951  4.214910e+09   \n",
       "7      2077.070068       23.639893       13.349854  4.043820e+09   \n",
       "\n",
       "   adj_close_lag_2  range_hl_lag_2  range_oc_lag_2  volume_lag_2  \\\n",
       "3      2080.409912       13.400147       10.540039  4.275030e+09   \n",
       "4      2102.629883       20.440185      -19.699951  3.712120e+09   \n",
       "5      2079.510010       27.159913       22.199951  3.950640e+09   \n",
       "6      2049.620117       42.650024       31.089844  4.306490e+09   \n",
       "7      2091.689941       42.600098      -40.449951  4.214910e+09   \n",
       "\n",
       "   adj_close_lag_3  range_hl_lag_3  range_oc_lag_3  volume_lag_3  \\\n",
       "3      2090.110107        9.160156       -1.290039  1.466840e+09   \n",
       "4      2080.409912       13.400147       10.540039  4.275030e+09   \n",
       "5      2102.629883       20.440185      -19.699951  3.712120e+09   \n",
       "6      2079.510010       27.159913       22.199951  3.950640e+09   \n",
       "7      2049.620117       42.650024       31.089844  4.306490e+09   \n",
       "\n",
       "   adj_close_mean  adj_close_std  range_hl_mean  range_hl_std  range_oc_mean  \\\n",
       "3             NaN            NaN            NaN           NaN            NaN   \n",
       "4     2079.510010            NaN      27.159913           NaN      22.199951   \n",
       "5     2064.565064      21.135346      34.904968     10.953163      26.644897   \n",
       "6     2073.606689      21.647273      37.470012      8.928842       4.279948   \n",
       "7     2072.793375      21.358490      36.296672     10.961120       1.329916   \n",
       "\n",
       "   range_oc_std   volume_mean    volume_std  \n",
       "3           NaN           NaN           NaN  \n",
       "4           NaN  3.950640e+09           NaN  \n",
       "5      6.286104  4.128565e+09  2.516239e+08  \n",
       "6     38.991415  4.157347e+09  1.847768e+08  \n",
       "7     37.253788  4.188407e+09  1.333255e+08  "
      ]
     },
     "execution_count": 11,
     "metadata": {},
     "output_type": "execute_result"
    }
   ],
   "source": [
    "cols_list = [\n",
    "\"adj_close\",\n",
    "\"range_hl\",\n",
    "\"range_oc\",\n",
    "\"volume\"\n",
    "]\n",
    "\n",
    "for col in cols_list:\n",
    "    df = get_mov_avg_std(df, col, N)\n",
    "df.head()"
   ]
  },
  {
   "cell_type": "markdown",
   "metadata": {},
   "source": [
    "# Split into train, dev and test set"
   ]
  },
  {
   "cell_type": "code",
   "execution_count": 12,
   "metadata": {
    "pycharm": {
     "is_executing": false
    }
   },
   "outputs": [
    {
     "name": "stdout",
     "output_type": "stream",
     "text": [
      "num_train = 603\n",
      "num_cv = 201\n",
      "num_test = 201\n",
      "train.shape = (603, 27)\n",
      "cv.shape = (201, 27)\n",
      "train_cv.shape = (804, 27)\n",
      "test.shape = (201, 27)\n"
     ]
    }
   ],
   "source": [
    "# Get sizes of each of the datasets\n",
    "num_cv = int(cv_size*len(df))\n",
    "num_test = int(test_size*len(df))\n",
    "num_train = len(df) - num_cv - num_test\n",
    "print(\"num_train = \" + str(num_train))\n",
    "print(\"num_cv = \" + str(num_cv))\n",
    "print(\"num_test = \" + str(num_test))\n",
    "\n",
    "# Split into train, cv, and test\n",
    "train = df[:num_train]\n",
    "cv = df[num_train:num_train+num_cv]\n",
    "train_cv = df[:num_train+num_cv]\n",
    "test = df[num_train+num_cv:]\n",
    "print(\"train.shape = \" + str(train.shape))\n",
    "print(\"cv.shape = \" + str(cv.shape))\n",
    "print(\"train_cv.shape = \" + str(train_cv.shape))\n",
    "print(\"test.shape = \" + str(test.shape))"
   ]
  },
  {
   "cell_type": "markdown",
   "metadata": {},
   "source": [
    "# Scale the train, dev and test set"
   ]
  },
  {
   "cell_type": "code",
   "execution_count": 13,
   "metadata": {
    "pycharm": {
     "is_executing": false
    },
    "scrolled": true
   },
   "outputs": [
    {
     "name": "stdout",
     "output_type": "stream",
     "text": [
      "scaler.mean_ = [ 2.32195808e+03  2.32106791e+03  1.91857386e+01 -1.95641426e-01\n",
      "  3.66931187e+09  2.32014892e+03  1.90981269e+01 -2.54845325e-01\n",
      "  3.67025431e+09  2.31918677e+03  1.90720739e+01 -2.65458761e-01\n",
      "  3.66768277e+09]\n",
      "scaler.var_ = [6.10073836e+04 6.09192538e+04 2.18314143e+02 2.52920490e+02\n",
      " 5.16100009e+17 6.08514755e+04 2.14691728e+02 2.49532221e+02\n",
      " 5.16705246e+17 6.07349927e+04 2.14799585e+02 2.49486157e+02\n",
      " 5.24043443e+17]\n",
      "train_scaled.shape = (603, 13)\n",
      "train_scaled.shape = (603, 15)\n"
     ]
    },
    {
     "data": {
      "text/html": [
       "<div>\n",
       "<style scoped>\n",
       "    .dataframe tbody tr th:only-of-type {\n",
       "        vertical-align: middle;\n",
       "    }\n",
       "\n",
       "    .dataframe tbody tr th {\n",
       "        vertical-align: top;\n",
       "    }\n",
       "\n",
       "    .dataframe thead th {\n",
       "        text-align: right;\n",
       "    }\n",
       "</style>\n",
       "<table border=\"1\" class=\"dataframe\">\n",
       "  <thead>\n",
       "    <tr style=\"text-align: right;\">\n",
       "      <th></th>\n",
       "      <th>adj_close</th>\n",
       "      <th>adj_close_lag_1</th>\n",
       "      <th>range_hl_lag_1</th>\n",
       "      <th>range_oc_lag_1</th>\n",
       "      <th>volume_lag_1</th>\n",
       "      <th>adj_close_lag_2</th>\n",
       "      <th>range_hl_lag_2</th>\n",
       "      <th>range_oc_lag_2</th>\n",
       "      <th>volume_lag_2</th>\n",
       "      <th>adj_close_lag_3</th>\n",
       "      <th>range_hl_lag_3</th>\n",
       "      <th>range_oc_lag_3</th>\n",
       "      <th>volume_lag_3</th>\n",
       "      <th>date</th>\n",
       "      <th>month</th>\n",
       "    </tr>\n",
       "  </thead>\n",
       "  <tbody>\n",
       "    <tr>\n",
       "      <th>0</th>\n",
       "      <td>-0.981584</td>\n",
       "      <td>-0.885016</td>\n",
       "      <td>0.084901</td>\n",
       "      <td>-1.226418</td>\n",
       "      <td>0.059588</td>\n",
       "      <td>-0.971859</td>\n",
       "      <td>-0.388878</td>\n",
       "      <td>0.683368</td>\n",
       "      <td>0.841343</td>\n",
       "      <td>-0.929526</td>\n",
       "      <td>-0.676302</td>\n",
       "      <td>-0.064867</td>\n",
       "      <td>-3.040223</td>\n",
       "      <td>2015-12-02</td>\n",
       "      <td>12</td>\n",
       "    </tr>\n",
       "    <tr>\n",
       "      <th>1</th>\n",
       "      <td>-1.102597</td>\n",
       "      <td>-0.978687</td>\n",
       "      <td>0.539691</td>\n",
       "      <td>1.408220</td>\n",
       "      <td>0.391603</td>\n",
       "      <td>-0.881783</td>\n",
       "      <td>0.091593</td>\n",
       "      <td>-1.230969</td>\n",
       "      <td>0.058242</td>\n",
       "      <td>-0.968886</td>\n",
       "      <td>-0.387003</td>\n",
       "      <td>0.684103</td>\n",
       "      <td>0.838983</td>\n",
       "      <td>2015-12-03</td>\n",
       "      <td>12</td>\n",
       "    </tr>\n",
       "    <tr>\n",
       "      <th>2</th>\n",
       "      <td>-0.932272</td>\n",
       "      <td>-1.099788</td>\n",
       "      <td>1.588058</td>\n",
       "      <td>1.967211</td>\n",
       "      <td>0.886939</td>\n",
       "      <td>-0.975507</td>\n",
       "      <td>0.550204</td>\n",
       "      <td>1.421497</td>\n",
       "      <td>0.390063</td>\n",
       "      <td>-0.878724</td>\n",
       "      <td>0.093348</td>\n",
       "      <td>-1.230410</td>\n",
       "      <td>0.061385</td>\n",
       "      <td>2015-12-04</td>\n",
       "      <td>12</td>\n",
       "    </tr>\n",
       "    <tr>\n",
       "      <th>3</th>\n",
       "      <td>-0.991463</td>\n",
       "      <td>-0.929340</td>\n",
       "      <td>1.584679</td>\n",
       "      <td>-2.531165</td>\n",
       "      <td>0.759462</td>\n",
       "      <td>-1.096675</td>\n",
       "      <td>1.607379</td>\n",
       "      <td>1.984269</td>\n",
       "      <td>0.885109</td>\n",
       "      <td>-0.972538</td>\n",
       "      <td>0.551843</td>\n",
       "      <td>1.422300</td>\n",
       "      <td>0.390874</td>\n",
       "      <td>2015-12-07</td>\n",
       "      <td>12</td>\n",
       "    </tr>\n",
       "    <tr>\n",
       "      <th>4</th>\n",
       "      <td>-1.046038</td>\n",
       "      <td>-0.988573</td>\n",
       "      <td>0.301456</td>\n",
       "      <td>0.851732</td>\n",
       "      <td>0.521308</td>\n",
       "      <td>-0.926132</td>\n",
       "      <td>1.603971</td>\n",
       "      <td>-2.544543</td>\n",
       "      <td>0.757706</td>\n",
       "      <td>-1.093822</td>\n",
       "      <td>1.608753</td>\n",
       "      <td>1.985125</td>\n",
       "      <td>0.882442</td>\n",
       "      <td>2015-12-08</td>\n",
       "      <td>12</td>\n",
       "    </tr>\n",
       "  </tbody>\n",
       "</table>\n",
       "</div>"
      ],
      "text/plain": [
       "   adj_close  adj_close_lag_1  range_hl_lag_1  range_oc_lag_1  volume_lag_1  \\\n",
       "0  -0.981584        -0.885016        0.084901       -1.226418      0.059588   \n",
       "1  -1.102597        -0.978687        0.539691        1.408220      0.391603   \n",
       "2  -0.932272        -1.099788        1.588058        1.967211      0.886939   \n",
       "3  -0.991463        -0.929340        1.584679       -2.531165      0.759462   \n",
       "4  -1.046038        -0.988573        0.301456        0.851732      0.521308   \n",
       "\n",
       "   adj_close_lag_2  range_hl_lag_2  range_oc_lag_2  volume_lag_2  \\\n",
       "0        -0.971859       -0.388878        0.683368      0.841343   \n",
       "1        -0.881783        0.091593       -1.230969      0.058242   \n",
       "2        -0.975507        0.550204        1.421497      0.390063   \n",
       "3        -1.096675        1.607379        1.984269      0.885109   \n",
       "4        -0.926132        1.603971       -2.544543      0.757706   \n",
       "\n",
       "   adj_close_lag_3  range_hl_lag_3  range_oc_lag_3  volume_lag_3       date  \\\n",
       "0        -0.929526       -0.676302       -0.064867     -3.040223 2015-12-02   \n",
       "1        -0.968886       -0.387003        0.684103      0.838983 2015-12-03   \n",
       "2        -0.878724        0.093348       -1.230410      0.061385 2015-12-04   \n",
       "3        -0.972538        0.551843        1.422300      0.390874 2015-12-07   \n",
       "4        -1.093822        1.608753        1.985125      0.882442 2015-12-08   \n",
       "\n",
       "   month  \n",
       "0     12  \n",
       "1     12  \n",
       "2     12  \n",
       "3     12  \n",
       "4     12  "
      ]
     },
     "execution_count": 13,
     "metadata": {},
     "output_type": "execute_result"
    }
   ],
   "source": [
    "cols_to_scale = [\"adj_close\"]\n",
    "\n",
    "for i in range(1, N+1):\n",
    "    cols_to_scale.append(\"adj_close_lag_\"+str(i))\n",
    "    cols_to_scale.append(\"range_hl_lag_\"+str(i))\n",
    "    cols_to_scale.append(\"range_oc_lag_\"+str(i))\n",
    "    cols_to_scale.append(\"volume_lag_\"+str(i))\n",
    "\n",
    "# Do scaling for train set\n",
    "# Here we only scale the train dataset, and not the entire dataset to prevent information leak\n",
    "scaler = StandardScaler()\n",
    "train_scaled = scaler.fit_transform(train[cols_to_scale])\n",
    "print(\"scaler.mean_ = \" + str(scaler.mean_))\n",
    "print(\"scaler.var_ = \" + str(scaler.var_))\n",
    "print(\"train_scaled.shape = \" + str(train_scaled.shape))\n",
    "\n",
    "# Convert the numpy array back into pandas dataframe\n",
    "train_scaled = pd.DataFrame(train_scaled, columns=cols_to_scale)\n",
    "train_scaled[['date', 'month']] = train.reset_index()[['date', 'month']]\n",
    "print(\"train_scaled.shape = \" + str(train_scaled.shape))\n",
    "train_scaled.head()"
   ]
  },
  {
   "cell_type": "code",
   "execution_count": 14,
   "metadata": {},
   "outputs": [
    {
     "data": {
      "text/plain": [
       "Index(['adj_close', 'adj_close_lag_1', 'range_hl_lag_1', 'range_oc_lag_1',\n",
       "       'volume_lag_1', 'adj_close_lag_2', 'range_hl_lag_2', 'range_oc_lag_2',\n",
       "       'volume_lag_2', 'adj_close_lag_3', 'range_hl_lag_3', 'range_oc_lag_3',\n",
       "       'volume_lag_3', 'date', 'month'],\n",
       "      dtype='object')"
      ]
     },
     "execution_count": 14,
     "metadata": {},
     "output_type": "execute_result"
    }
   ],
   "source": [
    "train_scaled.keys()"
   ]
  },
  {
   "cell_type": "code",
   "execution_count": 15,
   "metadata": {
    "pycharm": {
     "is_executing": false
    }
   },
   "outputs": [
    {
     "name": "stdout",
     "output_type": "stream",
     "text": [
      "scaler_train_cv.mean_ = [ 2.42721583e+03  2.42641720e+03  2.18824388e+01 -1.28136005e-01\n",
      "  3.65250187e+09  2.42563438e+03  2.18813694e+01 -1.18260152e-01\n",
      "  3.65363751e+09  2.42486601e+03  2.18601258e+01 -1.00561474e-01\n",
      "  3.65095655e+09]\n",
      "scaler_train_cv.var_ = [8.21497761e+04 8.21547860e+04 2.94459580e+02 3.20662182e+02\n",
      " 5.06078150e+17 8.22031971e+04 2.94476803e+02 3.20794383e+02\n",
      " 5.06453890e+17 8.22435445e+04 2.94654003e+02 3.20500744e+02\n",
      " 5.12393349e+17]\n",
      "train_cv_scaled.shape = (804, 13)\n",
      "train_cv_scaled.shape = (804, 15)\n"
     ]
    },
    {
     "data": {
      "text/html": [
       "<div>\n",
       "<style scoped>\n",
       "    .dataframe tbody tr th:only-of-type {\n",
       "        vertical-align: middle;\n",
       "    }\n",
       "\n",
       "    .dataframe tbody tr th {\n",
       "        vertical-align: top;\n",
       "    }\n",
       "\n",
       "    .dataframe thead th {\n",
       "        text-align: right;\n",
       "    }\n",
       "</style>\n",
       "<table border=\"1\" class=\"dataframe\">\n",
       "  <thead>\n",
       "    <tr style=\"text-align: right;\">\n",
       "      <th></th>\n",
       "      <th>adj_close</th>\n",
       "      <th>adj_close_lag_1</th>\n",
       "      <th>range_hl_lag_1</th>\n",
       "      <th>range_oc_lag_1</th>\n",
       "      <th>volume_lag_1</th>\n",
       "      <th>adj_close_lag_2</th>\n",
       "      <th>range_hl_lag_2</th>\n",
       "      <th>range_oc_lag_2</th>\n",
       "      <th>volume_lag_2</th>\n",
       "      <th>adj_close_lag_3</th>\n",
       "      <th>range_hl_lag_3</th>\n",
       "      <th>range_oc_lag_3</th>\n",
       "      <th>volume_lag_3</th>\n",
       "      <th>date</th>\n",
       "      <th>month</th>\n",
       "    </tr>\n",
       "  </thead>\n",
       "  <tbody>\n",
       "    <tr>\n",
       "      <th>0</th>\n",
       "      <td>-1.213134</td>\n",
       "      <td>-1.129649</td>\n",
       "      <td>-0.084048</td>\n",
       "      <td>-1.092967</td>\n",
       "      <td>0.083805</td>\n",
       "      <td>-1.204085</td>\n",
       "      <td>-0.494234</td>\n",
       "      <td>0.595079</td>\n",
       "      <td>0.873164</td>\n",
       "      <td>-1.167286</td>\n",
       "      <td>-0.739855</td>\n",
       "      <td>-0.066442</td>\n",
       "      <td>-3.051224</td>\n",
       "      <td>2015-12-02</td>\n",
       "      <td>12</td>\n",
       "    </tr>\n",
       "    <tr>\n",
       "      <th>1</th>\n",
       "      <td>-1.317419</td>\n",
       "      <td>-1.210311</td>\n",
       "      <td>0.307548</td>\n",
       "      <td>1.246889</td>\n",
       "      <td>0.419091</td>\n",
       "      <td>-1.126586</td>\n",
       "      <td>-0.083984</td>\n",
       "      <td>-1.093294</td>\n",
       "      <td>0.082178</td>\n",
       "      <td>-1.201111</td>\n",
       "      <td>-0.492848</td>\n",
       "      <td>0.594363</td>\n",
       "      <td>0.871834</td>\n",
       "      <td>2015-12-03</td>\n",
       "      <td>12</td>\n",
       "    </tr>\n",
       "    <tr>\n",
       "      <th>2</th>\n",
       "      <td>-1.170639</td>\n",
       "      <td>-1.314592</td>\n",
       "      <td>1.210245</td>\n",
       "      <td>1.743335</td>\n",
       "      <td>0.919308</td>\n",
       "      <td>-1.207224</td>\n",
       "      <td>0.307602</td>\n",
       "      <td>1.246080</td>\n",
       "      <td>0.417340</td>\n",
       "      <td>-1.123630</td>\n",
       "      <td>-0.082721</td>\n",
       "      <td>-1.094783</td>\n",
       "      <td>0.085446</td>\n",
       "      <td>2015-12-04</td>\n",
       "      <td>12</td>\n",
       "    </tr>\n",
       "    <tr>\n",
       "      <th>3</th>\n",
       "      <td>-1.221647</td>\n",
       "      <td>-1.167817</td>\n",
       "      <td>1.207335</td>\n",
       "      <td>-2.251729</td>\n",
       "      <td>0.790574</td>\n",
       "      <td>-1.311475</td>\n",
       "      <td>1.210272</td>\n",
       "      <td>1.742425</td>\n",
       "      <td>0.917371</td>\n",
       "      <td>-1.204248</td>\n",
       "      <td>0.308747</td>\n",
       "      <td>1.245662</td>\n",
       "      <td>0.418660</td>\n",
       "      <td>2015-12-07</td>\n",
       "      <td>12</td>\n",
       "    </tr>\n",
       "    <tr>\n",
       "      <th>4</th>\n",
       "      <td>-1.268678</td>\n",
       "      <td>-1.218823</td>\n",
       "      <td>0.102417</td>\n",
       "      <td>0.752664</td>\n",
       "      <td>0.550074</td>\n",
       "      <td>-1.164742</td>\n",
       "      <td>1.207362</td>\n",
       "      <td>-2.251817</td>\n",
       "      <td>0.788685</td>\n",
       "      <td>-1.308474</td>\n",
       "      <td>1.211145</td>\n",
       "      <td>1.742234</td>\n",
       "      <td>0.915784</td>\n",
       "      <td>2015-12-08</td>\n",
       "      <td>12</td>\n",
       "    </tr>\n",
       "  </tbody>\n",
       "</table>\n",
       "</div>"
      ],
      "text/plain": [
       "   adj_close  adj_close_lag_1  range_hl_lag_1  range_oc_lag_1  volume_lag_1  \\\n",
       "0  -1.213134        -1.129649       -0.084048       -1.092967      0.083805   \n",
       "1  -1.317419        -1.210311        0.307548        1.246889      0.419091   \n",
       "2  -1.170639        -1.314592        1.210245        1.743335      0.919308   \n",
       "3  -1.221647        -1.167817        1.207335       -2.251729      0.790574   \n",
       "4  -1.268678        -1.218823        0.102417        0.752664      0.550074   \n",
       "\n",
       "   adj_close_lag_2  range_hl_lag_2  range_oc_lag_2  volume_lag_2  \\\n",
       "0        -1.204085       -0.494234        0.595079      0.873164   \n",
       "1        -1.126586       -0.083984       -1.093294      0.082178   \n",
       "2        -1.207224        0.307602        1.246080      0.417340   \n",
       "3        -1.311475        1.210272        1.742425      0.917371   \n",
       "4        -1.164742        1.207362       -2.251817      0.788685   \n",
       "\n",
       "   adj_close_lag_3  range_hl_lag_3  range_oc_lag_3  volume_lag_3       date  \\\n",
       "0        -1.167286       -0.739855       -0.066442     -3.051224 2015-12-02   \n",
       "1        -1.201111       -0.492848        0.594363      0.871834 2015-12-03   \n",
       "2        -1.123630       -0.082721       -1.094783      0.085446 2015-12-04   \n",
       "3        -1.204248        0.308747        1.245662      0.418660 2015-12-07   \n",
       "4        -1.308474        1.211145        1.742234      0.915784 2015-12-08   \n",
       "\n",
       "   month  \n",
       "0     12  \n",
       "1     12  \n",
       "2     12  \n",
       "3     12  \n",
       "4     12  "
      ]
     },
     "execution_count": 15,
     "metadata": {},
     "output_type": "execute_result"
    }
   ],
   "source": [
    "# Do scaling for train+dev set\n",
    "scaler_train_cv = StandardScaler()\n",
    "train_cv_scaled = scaler_train_cv.fit_transform(train_cv[cols_to_scale])\n",
    "print(\"scaler_train_cv.mean_ = \" + str(scaler_train_cv.mean_))\n",
    "print(\"scaler_train_cv.var_ = \" + str(scaler_train_cv.var_))\n",
    "print(\"train_cv_scaled.shape = \" + str(train_cv_scaled.shape))\n",
    "\n",
    "# Convert the numpy array back into pandas dataframe\n",
    "train_cv_scaled = pd.DataFrame(train_cv_scaled, columns=cols_to_scale)\n",
    "train_cv_scaled[['date', 'month']] = train_cv.reset_index()[['date', 'month']]\n",
    "print(\"train_cv_scaled.shape = \" + str(train_cv_scaled.shape))\n",
    "train_cv_scaled.head()"
   ]
  },
  {
   "cell_type": "code",
   "execution_count": 16,
   "metadata": {
    "pycharm": {
     "is_executing": false
    }
   },
   "outputs": [
    {
     "name": "stderr",
     "output_type": "stream",
     "text": [
      "/home/jerry/workshop/virtualenv/alpha-mind/lib/python3.6/site-packages/ipykernel_launcher.py:3: TqdmDeprecationWarning: This function will be removed in tqdm==5.0.0\n",
      "Please use `tqdm.notebook.tqdm` instead of `tqdm.tqdm_notebook`\n",
      "  This is separate from the ipykernel package so we can avoid doing imports until\n"
     ]
    },
    {
     "data": {
      "application/vnd.jupyter.widget-view+json": {
       "model_id": "3ab4a744a5914ccc86ea6be64e48116c",
       "version_major": 2,
       "version_minor": 0
      },
      "text/plain": [
       "HBox(children=(IntProgress(value=0, max=4), HTML(value='')))"
      ]
     },
     "metadata": {},
     "output_type": "display_data"
    },
    {
     "name": "stdout",
     "output_type": "stream",
     "text": [
      "\n"
     ]
    },
    {
     "data": {
      "text/html": [
       "<div>\n",
       "<style scoped>\n",
       "    .dataframe tbody tr th:only-of-type {\n",
       "        vertical-align: middle;\n",
       "    }\n",
       "\n",
       "    .dataframe tbody tr th {\n",
       "        vertical-align: top;\n",
       "    }\n",
       "\n",
       "    .dataframe thead th {\n",
       "        text-align: right;\n",
       "    }\n",
       "</style>\n",
       "<table border=\"1\" class=\"dataframe\">\n",
       "  <thead>\n",
       "    <tr style=\"text-align: right;\">\n",
       "      <th></th>\n",
       "      <th>date</th>\n",
       "      <th>adj_close_lag_1</th>\n",
       "      <th>adj_close_lag_2</th>\n",
       "      <th>adj_close_lag_3</th>\n",
       "      <th>range_hl_lag_1</th>\n",
       "      <th>range_hl_lag_2</th>\n",
       "      <th>range_hl_lag_3</th>\n",
       "      <th>range_oc_lag_1</th>\n",
       "      <th>range_oc_lag_2</th>\n",
       "      <th>range_oc_lag_3</th>\n",
       "      <th>volume_lag_1</th>\n",
       "      <th>volume_lag_2</th>\n",
       "      <th>volume_lag_3</th>\n",
       "    </tr>\n",
       "  </thead>\n",
       "  <tbody>\n",
       "    <tr>\n",
       "      <th>606</th>\n",
       "      <td>2018-04-26</td>\n",
       "      <td>-0.447987</td>\n",
       "      <td>-0.697679</td>\n",
       "      <td>1.145666</td>\n",
       "      <td>-0.391796</td>\n",
       "      <td>1.136574</td>\n",
       "      <td>-0.744778</td>\n",
       "      <td>-0.746088</td>\n",
       "      <td>1.136270</td>\n",
       "      <td>-0.390182</td>\n",
       "      <td>0.258894</td>\n",
       "      <td>0.845094</td>\n",
       "      <td>-1.103988</td>\n",
       "    </tr>\n",
       "    <tr>\n",
       "      <th>607</th>\n",
       "      <td>2018-04-27</td>\n",
       "      <td>1.143564</td>\n",
       "      <td>-0.433230</td>\n",
       "      <td>-0.710333</td>\n",
       "      <td>-0.656494</td>\n",
       "      <td>-0.494408</td>\n",
       "      <td>1.150902</td>\n",
       "      <td>-0.734012</td>\n",
       "      <td>-0.404953</td>\n",
       "      <td>1.138965</td>\n",
       "      <td>0.380349</td>\n",
       "      <td>-1.134368</td>\n",
       "      <td>0.754018</td>\n",
       "    </tr>\n",
       "    <tr>\n",
       "      <th>608</th>\n",
       "      <td>2018-04-30</td>\n",
       "      <td>0.663366</td>\n",
       "      <td>0.486827</td>\n",
       "      <td>-1.150193</td>\n",
       "      <td>-1.126083</td>\n",
       "      <td>0.341787</td>\n",
       "      <td>0.784296</td>\n",
       "      <td>0.987465</td>\n",
       "      <td>-1.012080</td>\n",
       "      <td>0.024615</td>\n",
       "      <td>-1.073550</td>\n",
       "      <td>0.905039</td>\n",
       "      <td>0.168511</td>\n",
       "    </tr>\n",
       "    <tr>\n",
       "      <th>609</th>\n",
       "      <td>2018-05-01</td>\n",
       "      <td>-1.145608</td>\n",
       "      <td>0.698048</td>\n",
       "      <td>0.447561</td>\n",
       "      <td>0.873553</td>\n",
       "      <td>-1.090748</td>\n",
       "      <td>0.217196</td>\n",
       "      <td>1.049366</td>\n",
       "      <td>-0.107402</td>\n",
       "      <td>-0.941964</td>\n",
       "      <td>0.695898</td>\n",
       "      <td>-1.145943</td>\n",
       "      <td>0.450045</td>\n",
       "    </tr>\n",
       "    <tr>\n",
       "      <th>610</th>\n",
       "      <td>2018-05-02</td>\n",
       "      <td>-0.248957</td>\n",
       "      <td>-0.852003</td>\n",
       "      <td>1.100960</td>\n",
       "      <td>0.258109</td>\n",
       "      <td>0.845643</td>\n",
       "      <td>-1.103752</td>\n",
       "      <td>-0.907921</td>\n",
       "      <td>1.071827</td>\n",
       "      <td>-0.163906</td>\n",
       "      <td>0.211234</td>\n",
       "      <td>0.877508</td>\n",
       "      <td>-1.088742</td>\n",
       "    </tr>\n",
       "  </tbody>\n",
       "</table>\n",
       "</div>"
      ],
      "text/plain": [
       "          date  adj_close_lag_1  adj_close_lag_2  adj_close_lag_3  \\\n",
       "606 2018-04-26        -0.447987        -0.697679         1.145666   \n",
       "607 2018-04-27         1.143564        -0.433230        -0.710333   \n",
       "608 2018-04-30         0.663366         0.486827        -1.150193   \n",
       "609 2018-05-01        -1.145608         0.698048         0.447561   \n",
       "610 2018-05-02        -0.248957        -0.852003         1.100960   \n",
       "\n",
       "     range_hl_lag_1  range_hl_lag_2  range_hl_lag_3  range_oc_lag_1  \\\n",
       "606       -0.391796        1.136574       -0.744778       -0.746088   \n",
       "607       -0.656494       -0.494408        1.150902       -0.734012   \n",
       "608       -1.126083        0.341787        0.784296        0.987465   \n",
       "609        0.873553       -1.090748        0.217196        1.049366   \n",
       "610        0.258109        0.845643       -1.103752       -0.907921   \n",
       "\n",
       "     range_oc_lag_2  range_oc_lag_3  volume_lag_1  volume_lag_2  volume_lag_3  \n",
       "606        1.136270       -0.390182      0.258894      0.845094     -1.103988  \n",
       "607       -0.404953        1.138965      0.380349     -1.134368      0.754018  \n",
       "608       -1.012080        0.024615     -1.073550      0.905039      0.168511  \n",
       "609       -0.107402       -0.941964      0.695898     -1.145943      0.450045  \n",
       "610        1.071827       -0.163906      0.211234      0.877508     -1.088742  "
      ]
     },
     "execution_count": 16,
     "metadata": {},
     "output_type": "execute_result"
    }
   ],
   "source": [
    "# Do scaling for dev set\n",
    "cv_scaled = cv[['date']]\n",
    "for col in tqdm_notebook(cols_list):\n",
    "    feat_list = [col + '_lag_' + str(shift) for shift in range(1, N+1)]\n",
    "    temp = cv.apply(lambda row: scale_row(row[feat_list], row[col+'_mean'], row[col+'_std']), axis=1)\n",
    "    cv_scaled = pd.concat([cv_scaled, temp], axis=1)\n",
    "    \n",
    "# Now the entire dev set is scaled\n",
    "cv_scaled.head()"
   ]
  },
  {
   "cell_type": "code",
   "execution_count": 17,
   "metadata": {
    "pycharm": {
     "is_executing": false
    }
   },
   "outputs": [
    {
     "name": "stderr",
     "output_type": "stream",
     "text": [
      "/home/jerry/workshop/virtualenv/alpha-mind/lib/python3.6/site-packages/ipykernel_launcher.py:3: TqdmDeprecationWarning: This function will be removed in tqdm==5.0.0\n",
      "Please use `tqdm.notebook.tqdm` instead of `tqdm.tqdm_notebook`\n",
      "  This is separate from the ipykernel package so we can avoid doing imports until\n"
     ]
    },
    {
     "data": {
      "application/vnd.jupyter.widget-view+json": {
       "model_id": "b80f1e75be5a488fbde9d2e670a9c247",
       "version_major": 2,
       "version_minor": 0
      },
      "text/plain": [
       "HBox(children=(IntProgress(value=0, max=4), HTML(value='')))"
      ]
     },
     "metadata": {},
     "output_type": "display_data"
    },
    {
     "name": "stdout",
     "output_type": "stream",
     "text": [
      "\n"
     ]
    },
    {
     "data": {
      "text/html": [
       "<div>\n",
       "<style scoped>\n",
       "    .dataframe tbody tr th:only-of-type {\n",
       "        vertical-align: middle;\n",
       "    }\n",
       "\n",
       "    .dataframe tbody tr th {\n",
       "        vertical-align: top;\n",
       "    }\n",
       "\n",
       "    .dataframe thead th {\n",
       "        text-align: right;\n",
       "    }\n",
       "</style>\n",
       "<table border=\"1\" class=\"dataframe\">\n",
       "  <thead>\n",
       "    <tr style=\"text-align: right;\">\n",
       "      <th></th>\n",
       "      <th>date</th>\n",
       "      <th>adj_close_lag_1</th>\n",
       "      <th>adj_close_lag_2</th>\n",
       "      <th>adj_close_lag_3</th>\n",
       "      <th>range_hl_lag_1</th>\n",
       "      <th>range_hl_lag_2</th>\n",
       "      <th>range_hl_lag_3</th>\n",
       "      <th>range_oc_lag_1</th>\n",
       "      <th>range_oc_lag_2</th>\n",
       "      <th>range_oc_lag_3</th>\n",
       "      <th>volume_lag_1</th>\n",
       "      <th>volume_lag_2</th>\n",
       "      <th>volume_lag_3</th>\n",
       "    </tr>\n",
       "  </thead>\n",
       "  <tbody>\n",
       "    <tr>\n",
       "      <th>807</th>\n",
       "      <td>2019-02-13</td>\n",
       "      <td>1.153463</td>\n",
       "      <td>-0.530448</td>\n",
       "      <td>-0.623015</td>\n",
       "      <td>0.527641</td>\n",
       "      <td>-1.153313</td>\n",
       "      <td>0.625672</td>\n",
       "      <td>-0.815659</td>\n",
       "      <td>1.115661</td>\n",
       "      <td>-0.300002</td>\n",
       "      <td>0.958480</td>\n",
       "      <td>-1.036902</td>\n",
       "      <td>0.078422</td>\n",
       "    </tr>\n",
       "    <tr>\n",
       "      <th>808</th>\n",
       "      <td>2019-02-14</td>\n",
       "      <td>0.748723</td>\n",
       "      <td>0.386928</td>\n",
       "      <td>-1.135650</td>\n",
       "      <td>-0.651525</td>\n",
       "      <td>1.151375</td>\n",
       "      <td>-0.499850</td>\n",
       "      <td>0.360259</td>\n",
       "      <td>-1.130214</td>\n",
       "      <td>0.769955</td>\n",
       "      <td>0.213514</td>\n",
       "      <td>0.875999</td>\n",
       "      <td>-1.089513</td>\n",
       "    </tr>\n",
       "    <tr>\n",
       "      <th>809</th>\n",
       "      <td>2019-02-15</td>\n",
       "      <td>-0.463474</td>\n",
       "      <td>1.147649</td>\n",
       "      <td>-0.684174</td>\n",
       "      <td>0.648772</td>\n",
       "      <td>-1.151623</td>\n",
       "      <td>0.502851</td>\n",
       "      <td>0.599252</td>\n",
       "      <td>0.555168</td>\n",
       "      <td>-1.154420</td>\n",
       "      <td>0.624531</td>\n",
       "      <td>-1.153378</td>\n",
       "      <td>0.528848</td>\n",
       "    </tr>\n",
       "    <tr>\n",
       "      <th>810</th>\n",
       "      <td>2019-02-19</td>\n",
       "      <td>1.122532</td>\n",
       "      <td>-0.795663</td>\n",
       "      <td>-0.326869</td>\n",
       "      <td>-0.418152</td>\n",
       "      <td>1.141203</td>\n",
       "      <td>-0.723052</td>\n",
       "      <td>-1.154049</td>\n",
       "      <td>0.610624</td>\n",
       "      <td>0.543425</td>\n",
       "      <td>-0.711276</td>\n",
       "      <td>1.143397</td>\n",
       "      <td>-0.432121</td>\n",
       "    </tr>\n",
       "    <tr>\n",
       "      <th>811</th>\n",
       "      <td>2019-02-20</td>\n",
       "      <td>0.685761</td>\n",
       "      <td>0.461668</td>\n",
       "      <td>-1.147429</td>\n",
       "      <td>-0.118469</td>\n",
       "      <td>-0.935489</td>\n",
       "      <td>1.053957</td>\n",
       "      <td>-0.169253</td>\n",
       "      <td>-0.904573</td>\n",
       "      <td>1.073826</td>\n",
       "      <td>-0.891200</td>\n",
       "      <td>-0.190263</td>\n",
       "      <td>1.081463</td>\n",
       "    </tr>\n",
       "  </tbody>\n",
       "</table>\n",
       "</div>"
      ],
      "text/plain": [
       "          date  adj_close_lag_1  adj_close_lag_2  adj_close_lag_3  \\\n",
       "807 2019-02-13         1.153463        -0.530448        -0.623015   \n",
       "808 2019-02-14         0.748723         0.386928        -1.135650   \n",
       "809 2019-02-15        -0.463474         1.147649        -0.684174   \n",
       "810 2019-02-19         1.122532        -0.795663        -0.326869   \n",
       "811 2019-02-20         0.685761         0.461668        -1.147429   \n",
       "\n",
       "     range_hl_lag_1  range_hl_lag_2  range_hl_lag_3  range_oc_lag_1  \\\n",
       "807        0.527641       -1.153313        0.625672       -0.815659   \n",
       "808       -0.651525        1.151375       -0.499850        0.360259   \n",
       "809        0.648772       -1.151623        0.502851        0.599252   \n",
       "810       -0.418152        1.141203       -0.723052       -1.154049   \n",
       "811       -0.118469       -0.935489        1.053957       -0.169253   \n",
       "\n",
       "     range_oc_lag_2  range_oc_lag_3  volume_lag_1  volume_lag_2  volume_lag_3  \n",
       "807        1.115661       -0.300002      0.958480     -1.036902      0.078422  \n",
       "808       -1.130214        0.769955      0.213514      0.875999     -1.089513  \n",
       "809        0.555168       -1.154420      0.624531     -1.153378      0.528848  \n",
       "810        0.610624        0.543425     -0.711276      1.143397     -0.432121  \n",
       "811       -0.904573        1.073826     -0.891200     -0.190263      1.081463  "
      ]
     },
     "execution_count": 17,
     "metadata": {},
     "output_type": "execute_result"
    }
   ],
   "source": [
    "# Do scaling for test set\n",
    "test_scaled = test[['date']]\n",
    "for col in tqdm_notebook(cols_list):\n",
    "    feat_list = [col + '_lag_' + str(shift) for shift in range(1, N+1)]\n",
    "    temp = test.apply(lambda row: scale_row(row[feat_list], row[col+'_mean'], row[col+'_std']), axis=1)\n",
    "    test_scaled = pd.concat([test_scaled, temp], axis=1)\n",
    "    \n",
    "# Now the entire test set is scaled\n",
    "test_scaled.head()"
   ]
  },
  {
   "cell_type": "markdown",
   "metadata": {},
   "source": [
    "# Split into X and y"
   ]
  },
  {
   "cell_type": "code",
   "execution_count": 18,
   "metadata": {
    "pycharm": {
     "is_executing": false
    }
   },
   "outputs": [
    {
     "name": "stdout",
     "output_type": "stream",
     "text": [
      "X_train.shape = (603, 12)\n",
      "y_train.shape = (603,)\n",
      "X_cv.shape = (201, 12)\n",
      "y_cv.shape = (201,)\n",
      "X_train_cv.shape = (804, 12)\n",
      "y_train_cv.shape = (804,)\n",
      "X_sample.shape = (201, 12)\n",
      "y_sample.shape = (201,)\n"
     ]
    }
   ],
   "source": [
    "features = []\n",
    "for i in range(1,N+1):\n",
    "    features.append(\"adj_close_lag_\"+str(i))\n",
    "    features.append(\"range_hl_lag_\"+str(i))\n",
    "    features.append(\"range_oc_lag_\"+str(i))\n",
    "    features.append(\"volume_lag_\"+str(i))\n",
    "\n",
    "target = \"adj_close\"\n",
    "\n",
    "\n",
    "# Split into X and y\n",
    "X_train = train[features]\n",
    "y_train = train[target]\n",
    "X_cv = cv[features]\n",
    "y_cv = cv[target]\n",
    "X_train_cv = train_cv[features]\n",
    "y_train_cv = train_cv[target]\n",
    "X_sample = test[features]\n",
    "y_sample = test[target]\n",
    "print(\"X_train.shape = \" + str(X_train.shape))\n",
    "print(\"y_train.shape = \" + str(y_train.shape))\n",
    "print(\"X_cv.shape = \" + str(X_cv.shape))\n",
    "print(\"y_cv.shape = \" + str(y_cv.shape))\n",
    "print(\"X_train_cv.shape = \" + str(X_train_cv.shape))\n",
    "print(\"y_train_cv.shape = \" + str(y_train_cv.shape))\n",
    "print(\"X_sample.shape = \" + str(X_sample.shape))\n",
    "print(\"y_sample.shape = \" + str(y_sample.shape))"
   ]
  },
  {
   "cell_type": "code",
   "execution_count": 19,
   "metadata": {
    "pycharm": {
     "is_executing": false
    }
   },
   "outputs": [
    {
     "name": "stdout",
     "output_type": "stream",
     "text": [
      "X_train_scaled.shape = (603, 12)\n",
      "y_train_scaled.shape = (603,)\n",
      "X_cv_scaled.shape = (201, 12)\n",
      "X_train_cv_scaled.shape = (804, 12)\n",
      "y_train_cv_scaled.shape = (804,)\n",
      "X_sample_scaled.shape = (201, 12)\n"
     ]
    }
   ],
   "source": [
    "# Split into X and y\n",
    "X_train_scaled = train_scaled[features]\n",
    "y_train_scaled = train_scaled[target]\n",
    "X_cv_scaled = cv_scaled[features]\n",
    "X_train_cv_scaled = train_cv_scaled[features]\n",
    "y_train_cv_scaled = train_cv_scaled[target]\n",
    "X_sample_scaled = test_scaled[features]\n",
    "print(\"X_train_scaled.shape = \" + str(X_train_scaled.shape))\n",
    "print(\"y_train_scaled.shape = \" + str(y_train_scaled.shape))\n",
    "print(\"X_cv_scaled.shape = \" + str(X_cv_scaled.shape))\n",
    "print(\"X_train_cv_scaled.shape = \" + str(X_train_cv_scaled.shape))\n",
    "print(\"y_train_cv_scaled.shape = \" + str(y_train_cv_scaled.shape))\n",
    "print(\"X_sample_scaled.shape = \" + str(X_sample_scaled.shape))"
   ]
  },
  {
   "cell_type": "markdown",
   "metadata": {},
   "source": [
    "# EDA"
   ]
  },
  {
   "cell_type": "code",
   "execution_count": 20,
   "metadata": {
    "code_folding": [
     0
    ],
    "pycharm": {
     "is_executing": false
    }
   },
   "outputs": [
    {
     "data": {
      "text/plain": [
       "Text(0.5, 1.0, 'Without scaling')"
      ]
     },
     "execution_count": 20,
     "metadata": {},
     "output_type": "execute_result"
    },
    {
     "data": {
      "image/png": "[encoded data removed]",
      "text/plain": [
       "<Figure size 720x576 with 1 Axes>"
      ]
     },
     "metadata": {
      "needs_background": "light"
     },
     "output_type": "display_data"
    }
   ],
   "source": [
    "# Plot adjusted close over time\n",
    "rcParams['figure.figsize'] = 10, 8 # width 10, height 8\n",
    "\n",
    "ax = train.plot(x='date', y='adj_close', style='b-', grid=True)\n",
    "ax = cv.plot(x='date', y='adj_close', style='y-', grid=True, ax=ax)\n",
    "ax = test.plot(x='date', y='adj_close', style='g-', grid=True, ax=ax)\n",
    "ax.legend(['train', 'dev', 'test'])\n",
    "ax.set_xlabel(\"date\")\n",
    "ax.set_ylabel(\"USD\")\n",
    "ax.set_title(\"Without scaling\")"
   ]
  },
  {
   "cell_type": "code",
   "execution_count": 21,
   "metadata": {
    "code_folding": [
     0
    ],
    "pycharm": {
     "is_executing": false
    }
   },
   "outputs": [
    {
     "data": {
      "text/plain": [
       "Text(0.5, 1.0, 'With scaling')"
      ]
     },
     "execution_count": 21,
     "metadata": {},
     "output_type": "execute_result"
    },
    {
     "data": {
      "image/png": "[encoded data removed]",
      "text/plain": [
       "<Figure size 720x576 with 1 Axes>"
      ]
     },
     "metadata": {
      "needs_background": "light"
     },
     "output_type": "display_data"
    }
   ],
   "source": [
    "# Plot adjusted close over time\n",
    "rcParams['figure.figsize'] = 10, 8 # width 10, height 8\n",
    "\n",
    "ax = train_scaled.plot(x='date', y='adj_close', style='b-', grid=True)\n",
    "ax.legend(['train_scaled'])\n",
    "ax.set_xlabel(\"date\")\n",
    "ax.set_ylabel(\"USD (scaled)\")\n",
    "ax.set_title(\"With scaling\")"
   ]
  },
  {
   "cell_type": "markdown",
   "metadata": {
    "collapsed": true
   },
   "source": [
    "# Train the model using XGBoost"
   ]
  },
  {
   "cell_type": "code",
   "execution_count": null,
   "metadata": {
    "code_folding": []
   },
   "outputs": [],
   "source": [
    "import sys\n",
    "sys.path.append('../')\n",
    "sys.path.append('../../')\n",
    "sys.path.append('../../../')\n",
    "from src.models.m1_xgb import *\n",
    "from src.conf.configuration import regress_conf\n",
    "\n",
    "# load xgboost regression configuration\n",
    "regress_conf.xgb_config_r()\n",
    "regress_conf.cv_folds = None\n",
    "regress_conf.early_stop_round = 1000\n",
    "regress_conf.max_round = 10000\n",
    "\n",
    "# param = {'base_score':0.5, \n",
    "#          'booster':'gbtree', \n",
    "#          'colsample_bylevel':1,\n",
    "#          'colsample_bynode':1, \n",
    "#          'colsample_bytree':1, \n",
    "#          'gamma':0,\n",
    "#          'importance_type':'gain',\n",
    "#          'learning_rate':0.01,\n",
    "#          'max_delta_step':0,\n",
    "#          'max_depth':3,\n",
    "#          'min_child_weight':1,\n",
    "#          'n_estimators':200,\n",
    "#          'n_jobs':1,\n",
    "#          'nthread':4,\n",
    "#          'objective':'reg:linear',\n",
    "#          'random_state':0,\n",
    "#          'reg_alpha':0,\n",
    "#          'reg_lambda':1,\n",
    "#          'scale_pos_weight':1,\n",
    "#          'seed':2000,\n",
    "#          'subsample':1, \n",
    "#          'verbosity':0\n",
    "#         }\n",
    "# regress_conf.params.update(param)\n",
    "\n",
    "xgb_m = XGBooster(regress_conf)\n",
    "best_score, best_round, best_model = xgb_m.fit(X_train_scaled.values, y_train_scaled.values)\n"
   ]
  },
  {
   "cell_type": "code",
   "execution_count": null,
   "metadata": {
    "scrolled": true
   },
   "outputs": [],
   "source": [
    "# Do prediction on train set\n",
    "est_scaled = xgb_m.predict(best_model ,X_train_scaled.values)\n",
    "est = est_scaled * math.sqrt(scaler.var_[0]) + scaler.mean_[0]\n",
    "\n",
    "# Calculate RMSE\n",
    "print(\"RMSE on train set = %0.3f\" % math.sqrt(mean_squared_error(y_train, est)))\n",
    "\n",
    "# Calculate MAPE\n",
    "print(\"MAPE on train set = %0.3f%%\" % get_mape(y_train, est))"
   ]
  },
  {
   "cell_type": "code",
   "execution_count": null,
   "metadata": {
    "code_folding": [
     0
    ],
    "pycharm": {
     "is_executing": false
    }
   },
   "outputs": [],
   "source": [
    "# # Create the model\n",
    "# from xgboost import XGBRegressor\n",
    "\n",
    "# model = XGBRegressor(seed=model_seed,\n",
    "#                      n_estimators=n_estimators,\n",
    "#                      max_depth=max_depth,\n",
    "#                      learning_rate=learning_rate,\n",
    "#                      min_child_weight=min_child_weight,\n",
    "#                      subsample=subsample,\n",
    "#                      colsample_bytree=colsample_bytree,\n",
    "#                      colsample_bylevel=colsample_bylevel,\n",
    "#                      gamma=gamma)\n",
    "\n",
    "# # Train the regressor\n",
    "# model.fit(X_train_scaled, y_train_scaled)\n"
   ]
  },
  {
   "cell_type": "markdown",
   "metadata": {},
   "source": [
    "# Predict on train set"
   ]
  },
  {
   "cell_type": "code",
   "execution_count": null,
   "metadata": {
    "code_folding": [
     0
    ],
    "pycharm": {
     "is_executing": false
    }
   },
   "outputs": [],
   "source": [
    "# # Do prediction on train set\n",
    "# est_scaled = model.predict(X_train_scaled)\n",
    "# est = est_scaled * math.sqrt(scaler.var_[0]) + scaler.mean_[0]\n",
    "\n",
    "# # Calculate RMSE\n",
    "# print(\"RMSE on train set = %0.3f\" % math.sqrt(mean_squared_error(y_train, est)))\n",
    "\n",
    "# # Calculate MAPE\n",
    "# print(\"MAPE on train set = %0.3f%%\" % get_mape(y_train, est))"
   ]
  },
  {
   "cell_type": "code",
   "execution_count": null,
   "metadata": {
    "code_folding": [],
    "pycharm": {
     "is_executing": false
    }
   },
   "outputs": [],
   "source": [
    "# Plot adjusted close over time\n",
    "rcParams['figure.figsize'] = 10, 8 # width 10, height 8\n",
    "\n",
    "est_df = pd.DataFrame({'est': est, \n",
    "                       'date': train['date']})\n",
    "\n",
    "ax = train.plot(x='date', y='adj_close', style='b-', grid=True)\n",
    "ax = cv.plot(x='date', y='adj_close', style='y-', grid=True, ax=ax)\n",
    "ax = test.plot(x='date', y='adj_close', style='g-', grid=True, ax=ax)\n",
    "ax = est_df.plot(x='date', y='est', style='r-', grid=True, ax=ax)\n",
    "ax.legend(['train', 'dev', 'test', 'predictions'])\n",
    "ax.set_xlabel(\"date\")\n",
    "ax.set_ylabel(\"USD\")\n",
    "ax.set_title('Without scaling')"
   ]
  },
  {
   "cell_type": "markdown",
   "metadata": {},
   "source": [
    "# Predict on dev set"
   ]
  },
  {
   "cell_type": "code",
   "execution_count": null,
   "metadata": {
    "pycharm": {
     "is_executing": false
    }
   },
   "outputs": [],
   "source": [
    "# Do prediction on test set\n",
    "est_scaled = xgb_m.predict(best_model, X_cv_scaled.values)\n",
    "cv['est_scaled'] = est_scaled\n",
    "cv['est'] = cv['est_scaled'] * cv['adj_close_std'] + cv['adj_close_mean']\n",
    "\n",
    "# Calculate RMSE\n",
    "rmse_bef_tuning = math.sqrt(mean_squared_error(y_cv, cv['est']))\n",
    "print(\"RMSE on dev set = %0.3f\" % rmse_bef_tuning)\n",
    "\n",
    "# Calculate MAPE\n",
    "mape_bef_tuning = get_mape(y_cv, cv['est'])\n",
    "print(\"MAPE on dev set = %0.3f%%\" % mape_bef_tuning)"
   ]
  },
  {
   "cell_type": "code",
   "execution_count": null,
   "metadata": {
    "pycharm": {
     "is_executing": false
    },
    "scrolled": false
   },
   "outputs": [],
   "source": [
    "# Plot adjusted close over time\n",
    "rcParams['figure.figsize'] = 10, 8 # width 10, height 8\n",
    "\n",
    "est_df = pd.DataFrame({'est': cv['est'], \n",
    "                       'y_cv': y_cv,\n",
    "                       'date': cv['date']})\n",
    "\n",
    "ax = train.plot(x='date', y='adj_close', style='b-', grid=True)\n",
    "ax = cv.plot(x='date', y='adj_close', style='y-', grid=True, ax=ax)\n",
    "ax = test.plot(x='date', y='adj_close', style='g-', grid=True, ax=ax)\n",
    "ax = est_df.plot(x='date', y='est', style='r-', grid=True, ax=ax)\n",
    "ax.legend(['train', 'dev', 'test', 'predictions'])\n",
    "ax.set_xlabel(\"date\")\n",
    "ax.set_ylabel(\"USD\")"
   ]
  },
  {
   "cell_type": "code",
   "execution_count": null,
   "metadata": {
    "pycharm": {
     "is_executing": false
    },
    "scrolled": false
   },
   "outputs": [],
   "source": [
    "# Plot adjusted close over time, for dev set only\n",
    "rcParams['figure.figsize'] = 10, 8 # width 10, height 8\n",
    "ax = train.plot(x='date', y='adj_close', style='b-', grid=True)\n",
    "ax = cv.plot(x='date', y='adj_close', style='y-', grid=True, ax=ax)\n",
    "ax = test.plot(x='date', y='adj_close', style='g-', grid=True, ax=ax)\n",
    "ax = est_df.plot(x='date', y='est', style='r-', grid=True, ax=ax)\n",
    "ax.legend(['train', 'dev', 'test', 'predictions'])\n",
    "ax.set_xlabel(\"date\")\n",
    "ax.set_ylabel(\"USD\")\n",
    "# ax.set_xlim([date(2018, 4, 20), date(2019, 2, 20)])\n",
    "\n",
    "ax.set_xlim([date(2014, 9, 20), date(2017, 5, 10)])\n",
    "ax.set_title(\"Zoom in to dev set\")"
   ]
  },
  {
   "cell_type": "markdown",
   "metadata": {},
   "source": [
    "The predictions capture the turn in directions with a slight lag"
   ]
  },
  {
   "cell_type": "markdown",
   "metadata": {},
   "source": [
    "Importance features dominated by adj_close and volume"
   ]
  },
  {
   "cell_type": "markdown",
   "metadata": {},
   "source": [
    "# Final model"
   ]
  },
  {
   "cell_type": "code",
   "execution_count": null,
   "metadata": {},
   "outputs": [],
   "source": [
    "# load xgboost regression configuration\n",
    "regress_conf.xgb_config_r()\n",
    "regress_conf.cv_folds = None\n",
    "regress_conf.early_stop_round = 1000\n",
    "regress_conf.max_round = 10000\n",
    "\n",
    "param = {'base_score':0.5, \n",
    "         'booster':'gbtree', \n",
    "         'colsample_bylevel':1,\n",
    "         'colsample_bynode':1, \n",
    "         'colsample_bytree':1, \n",
    "         'gamma':0,\n",
    "         'importance_type':'gain',\n",
    "         'learning_rate':0.1,\n",
    "         'max_delta_step':0,\n",
    "         'max_depth':3,\n",
    "         'min_child_weight':1,\n",
    "         'missing':None,\n",
    "         'n_estimators':100,\n",
    "         'n_jobs':1,\n",
    "         'nthread':4,\n",
    "         'objective':'reg:linear',\n",
    "         'random_state':0,\n",
    "         'reg_alpha':0,\n",
    "         'reg_lambda':1,\n",
    "         'scale_pos_weight':1,\n",
    "         'seed':100,\n",
    "         'subsample':1, \n",
    "         'verbosity':1\n",
    "        }\n",
    "regress_conf.params.update(param)\n",
    "\n",
    "xgb_m = XGBooster(regress_conf)\n",
    "best_score, best_round, best_model = xgb_m.fit(X_train_cv_scaled.values, y_train_cv_scaled.values )"
   ]
  },
  {
   "cell_type": "code",
   "execution_count": null,
   "metadata": {},
   "outputs": [],
   "source": [
    "# Do prediction on train set\n",
    "est_scaled = xgb_m.predict(best_model ,X_train_cv_scaled.values)\n",
    "est = est_scaled * math.sqrt(scaler_train_cv.var_[0]) + scaler_train_cv.mean_[0]\n",
    "\n",
    "# Calculate RMSE\n",
    "print(\"RMSE on train set = %0.3f\" % math.sqrt(mean_squared_error(y_train_cv, est)))\n",
    "\n",
    "# Calculate MAPE\n",
    "print(\"MAPE on train set = %0.3f%%\" % get_mape(y_train_cv, est))"
   ]
  },
  {
   "cell_type": "code",
   "execution_count": null,
   "metadata": {
    "code_folding": [
     0
    ]
   },
   "outputs": [],
   "source": [
    "# Plot adjusted close over time\n",
    "rcParams['figure.figsize'] = 10, 8 # width 10, height 8\n",
    "\n",
    "est_df = pd.DataFrame({'est': est, \n",
    "                       'date': train_cv['date']})\n",
    "\n",
    "ax = train.plot(x='date', y='adj_close', style='b-', grid=True)\n",
    "ax = cv.plot(x='date', y='adj_close', style='y-', grid=True, ax=ax)\n",
    "ax = test.plot(x='date', y='adj_close', style='g-', grid=True, ax=ax)\n",
    "ax = est_df.plot(x='date', y='est', style='r-', grid=True, ax=ax)\n",
    "ax.legend(['train', 'dev', 'test', 'predictions'])\n",
    "ax.set_xlabel(\"date\")\n",
    "ax.set_ylabel(\"USD\")\n",
    "ax.set_title('Without scaling')"
   ]
  },
  {
   "cell_type": "code",
   "execution_count": null,
   "metadata": {
    "code_folding": [],
    "pycharm": {
     "is_executing": false
    },
    "scrolled": true
   },
   "outputs": [],
   "source": [
    "# Do prediction on test set\n",
    "est_scaled = xgb_m.predict(best_model, X_sample_scaled.values)\n",
    "test['est_scaled'] = est_scaled\n",
    "test['est'] = test['est_scaled'] * test['adj_close_std'] + test['adj_close_mean']\n",
    "\n",
    "# Calculate RMSE\n",
    "rmse_bef_tuning = math.sqrt(mean_squared_error(y_sample, test['est']))\n",
    "print(\"RMSE on test set = %0.3f\" % rmse_bef_tuning)\n",
    "\n",
    "# Calculate MAPE\n",
    "mape_bef_tuning = get_mape(y_cv, cv['est'])\n",
    "print(\"MAPE on test set = %0.3f%%\" % mape_bef_tuning)"
   ]
  },
  {
   "cell_type": "code",
   "execution_count": null,
   "metadata": {
    "code_folding": [
     0
    ],
    "pycharm": {
     "is_executing": false
    }
   },
   "outputs": [],
   "source": [
    "# Plot adjusted close over time\n",
    "rcParams['figure.figsize'] = 10, 8 # width 10, height 8\n",
    "\n",
    "est_df = pd.DataFrame({'est': test['est'], \n",
    "                       'y_sample': y_sample,\n",
    "                       'date': test['date']})\n",
    "\n",
    "ax = train.plot(x='date', y='adj_close', style='b-', grid=True)\n",
    "ax = cv.plot(x='date', y='adj_close', style='y-', grid=True, ax=ax)\n",
    "ax = test.plot(x='date', y='adj_close', style='g-', grid=True, ax=ax)\n",
    "ax = est_df.plot(x='date', y='est', style='r-', grid=True, ax=ax)\n",
    "ax.legend(['train', 'dev', 'test', 'predictions'])\n",
    "ax.set_xlabel(\"date\")\n",
    "ax.set_ylabel(\"USD\")"
   ]
  },
  {
   "cell_type": "code",
   "execution_count": null,
   "metadata": {
    "pycharm": {
     "is_executing": false
    }
   },
   "outputs": [],
   "source": [
    "# Plot adjusted close over time, for test set only\n",
    "rcParams['figure.figsize'] = 10, 8 # width 10, height 8\n",
    "ax = train.plot(x='date', y='adj_close', style='b-', grid=True)\n",
    "ax = cv.plot(x='date', y='adj_close', style='y-', grid=True, ax=ax)\n",
    "ax = test.plot(x='date', y='adj_close', style='g-', grid=True, ax=ax)\n",
    "ax = est_df.plot(x='date', y='est', style='r-', grid=True, ax=ax)\n",
    "ax.legend(['train', 'dev', 'test', 'predictions'])\n",
    "ax.set_xlabel(\"date\")\n",
    "ax.set_ylabel(\"USD\")\n",
    "# ax.set_xlim([date(2017, 4, 20), date(2019, 11, 29)])\n",
    "# ax.set_ylim([4000, 6800])\n",
    "\n",
    "ax.set_xlim([date(2019, 1, 20), date(2019, 11, 29)])\n",
    "ax.set_ylim([2700, 3200])\n",
    "\n",
    "ax.set_title(\"Zoom in to test set\")"
   ]
  },
  {
   "cell_type": "markdown",
   "metadata": {},
   "source": [
    "Similar to dev set, the predictions capture turns in direction with a slight lag"
   ]
  },
  {
   "cell_type": "code",
   "execution_count": null,
   "metadata": {
    "pycharm": {
     "is_executing": false
    }
   },
   "outputs": [],
   "source": [
    "# Plot adjusted close over time, only for test set\n",
    "rcParams['figure.figsize'] = 50, 40 # width 10, height 8\n",
    "matplotlib.rcParams.update({'font.size': 14})\n",
    "\n",
    "ax = test.plot(x='date', y='adj_close', style='gx-', grid=True)\n",
    "ax = est_df.plot(x='date', y='est', style='rx-', grid=True, ax=ax)\n",
    "ax.legend(['test', 'predictions using xgboost'], loc='upper left')\n",
    "ax.set_xlabel(\"date\")\n",
    "ax.set_ylabel(\"USD\")\n",
    "# ax.set_xlim([date(2017, 4, 20), date(2019, 11, 29)])\n",
    "# ax.set_ylim([3944, 6730])\n",
    "ax.set_xlim([date(2019, 1, 20), date(2019, 11, 29)])\n",
    "ax.set_ylim([2700, 3200])\n"
   ]
  },
  {
   "cell_type": "code",
   "execution_count": null,
   "metadata": {
    "pycharm": {
     "is_executing": false
    }
   },
   "outputs": [],
   "source": [
    "# # Save as csv\n",
    "# test_xgboost = est_df\n",
    "# test_xgboost.to_csv(\"./out/test_xgboost.csv\")"
   ]
  },
  {
   "cell_type": "markdown",
   "metadata": {
    "collapsed": true
   },
   "source": [
    "# Findings\n",
    "* By scaling the features properly, we can get good results for our predictions\n",
    "* RMSE and MAPE changed very little with hyperparameter tuning\n",
    "* The final RMSE and MAPE for test set are 1.162 and 0.58% respectively"
   ]
  },
  {
   "cell_type": "code",
   "execution_count": null,
   "metadata": {
    "pycharm": {
     "is_executing": false
    }
   },
   "outputs": [],
   "source": []
  }
 ],
 "metadata": {
  "kernelspec": {
   "display_name": "Python 3",
   "language": "python",
   "name": "python3"
  },
  "language_info": {
   "codemirror_mode": {
    "name": "ipython",
    "version": 3
   },
   "file_extension": ".py",
   "mimetype": "text/x-python",
   "name": "python",
   "nbconvert_exporter": "python",
   "pygments_lexer": "ipython3",
   "version": "3.6.7"
  },
  "latex_envs": {
   "LaTeX_envs_menu_present": true,
   "autoclose": false,
   "autocomplete": true,
   "bibliofile": "biblio.bib",
   "cite_by": "apalike",
   "current_citInitial": 1,
   "eqLabelWithNumbers": true,
   "eqNumInitial": 1,
   "hotkeys": {
    "equation": "Ctrl-E",
    "itemize": "Ctrl-I"
   },
   "labels_anchors": false,
   "latex_user_defs": false,
   "report_style_numbering": false,
   "user_envs_cfg": false
  }
 },
 "nbformat": 4,
 "nbformat_minor": 2
}
