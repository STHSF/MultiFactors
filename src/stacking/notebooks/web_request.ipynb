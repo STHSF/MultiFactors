{
 "cells": [
  {
   "cell_type": "code",
   "execution_count": null,
   "metadata": {},
   "outputs": [],
   "source": [
    "import requests\n",
    "import json\n",
    "import pandas as pd\n",
    "import numpy as np"
   ]
  },
  {
   "cell_type": "code",
   "execution_count": null,
   "metadata": {},
   "outputs": [],
   "source": [
    "r = requests.post('http://10.15.5.164:8000/backtest', data={'start_date': '2010-01-01',\n",
    "                                                            'end_date': '2019-08-01',\n",
    "                                                            'freq': '10b',\n",
    "                                                            'max_round': 800})"
   ]
  },
  {
   "cell_type": "code",
   "execution_count": null,
   "metadata": {},
   "outputs": [],
   "source": [
    "result = json.loads(r.text)"
   ]
  },
  {
   "cell_type": "code",
   "execution_count": null,
   "metadata": {},
   "outputs": [],
   "source": [
    "ret_df = pd.DataFrame(json.loads(result['ret_df']))"
   ]
  },
  {
   "cell_type": "code",
   "execution_count": null,
   "metadata": {},
   "outputs": [],
   "source": [
    "from pyecharts import options as opts\n",
    "from example.commons import Collector\n",
    "from pyecharts.charts import Line\n",
    "\n",
    "plot = ret_df[['xgb_regress', 'net_xgb_regress']].cumsum()\n",
    "v1 = list(plot.index)\n",
    "v2 = list(plot.xgb_regress)\n",
    "v3 = list(plot.net_xgb_regress)\n",
    "\n",
    "line_chart = (\n",
    "    Line()\n",
    "    .add_xaxis(v1)\n",
    "    .add_yaxis(\"xgb_regress\", v2)\n",
    "    .add_yaxis(\"net_xgb_regress\", v3)\n",
    "    .set_series_opts(\n",
    "        label_opts=opts.LabelOpts(is_show=False),\n",
    "    )\n",
    "    .set_global_opts(\n",
    "        xaxis_opts=opts.AxisOpts(is_scale=True),\n",
    "        yaxis_opts=opts.AxisOpts(\n",
    "            is_scale=True,\n",
    "            splitarea_opts=opts.SplitAreaOpts(\n",
    "                is_show=True, areastyle_opts=opts.AreaStyleOpts(opacity=1)\n",
    "            ),\n",
    "        ),\n",
    "        datazoom_opts=[opts.DataZoomOpts(pos_bottom=\"-1%\")],\n",
    "        title_opts=opts.TitleOpts(title='Fixed freq rebalanced: {0}'.format('2b')),\n",
    "    )\n",
    ")\n",
    "\n",
    "line_chart.render_notebook()"
   ]
  },
  {
   "cell_type": "code",
   "execution_count": null,
   "metadata": {},
   "outputs": [],
   "source": [
    "print(\"年化收益: {0:.2f}\".format(len(ret_df) * np.mean(ret_df['net_xgb_regress'])))\n",
    "print(\"夏普比率: {0:.2f}\".format(np.sqrt(126) * np.mean(ret_df['net_xgb_regress']/ np.std(ret_df['net_xgb_regress']))))\n"
   ]
  },
  {
   "cell_type": "code",
   "execution_count": 20,
   "metadata": {},
   "outputs": [],
   "source": [
    "from keras.datasets import imdb\n",
    "import keras\n",
    "\n",
    "(x_train, y_train), (x_test, y_test) = imdb.load_data(path=\"imdb.npz\",\n",
    "                                                      num_words=None,\n",
    "                                                      skip_top=0,\n",
    "                                                      maxlen=None,\n",
    "                                                      seed=113,\n",
    "                                                      start_char=1,\n",
    "                                                      oov_char=2,\n",
    "                                                      index_from=3)"
   ]
  },
  {
   "cell_type": "code",
   "execution_count": 21,
   "metadata": {},
   "outputs": [
    {
     "name": "stdout",
     "output_type": "stream",
     "text": [
      "shape of x_train (25000,)\n",
      "shape of y_train (25000,)\n",
      "shape of x_test (25000,)\n",
      "shape of y_test (25000,)\n"
     ]
    }
   ],
   "source": [
    "import numpy as np\n",
    "print('shape of x_train {}'.format(np.shape(x_train)))\n",
    "print('shape of y_train {}'.format(np.shape(y_train)))\n",
    "print('shape of x_test {}'.format(np.shape(x_test)))\n",
    "print('shape of y_test {}'.format(np.shape(y_test)))\n",
    "\n"
   ]
  },
  {
   "cell_type": "code",
   "execution_count": 23,
   "metadata": {},
   "outputs": [
    {
     "name": "stdout",
     "output_type": "stream",
     "text": [
      "x_train shape: (25000, 100)\n",
      "x_test shape: (25000, 100)\n"
     ]
    }
   ],
   "source": [
    "x_train = keras.preprocessing.sequence.pad_sequences(x_train, maxlen=100)\n",
    "x_test = keras.preprocessing.sequence.pad_sequences(x_test, maxlen=100)\n",
    "print('x_train shape:', x_train.shape)\n",
    "print('x_test shape:', x_test.shape)"
   ]
  },
  {
   "cell_type": "code",
   "execution_count": 24,
   "metadata": {},
   "outputs": [
    {
     "data": {
      "text/plain": [
       "array([[ 1415,    33,     6, ...,    19,   178,    32],\n",
       "       [  163,    11,  3215, ...,    16,   145,    95],\n",
       "       [ 1301,     4,  1873, ...,     7,   129,   113],\n",
       "       ...,\n",
       "       [   11,     6,  4065, ...,     4,  3586, 22459],\n",
       "       [  100,  2198,     8, ...,    12,     9,    23],\n",
       "       [   78,  1099,    17, ...,   204,   131,     9]], dtype=int32)"
      ]
     },
     "execution_count": 24,
     "metadata": {},
     "output_type": "execute_result"
    }
   ],
   "source": [
    "x_train"
   ]
  },
  {
   "cell_type": "code",
   "execution_count": null,
   "metadata": {},
   "outputs": [],
   "source": []
  }
 ],
 "metadata": {
  "kernelspec": {
   "display_name": "Python 3",
   "language": "python",
   "name": "python3"
  },
  "language_info": {
   "codemirror_mode": {
    "name": "ipython",
    "version": 3
   },
   "file_extension": ".py",
   "mimetype": "text/x-python",
   "name": "python",
   "nbconvert_exporter": "python",
   "pygments_lexer": "ipython3",
   "version": "3.6.7"
  },
  "latex_envs": {
   "LaTeX_envs_menu_present": true,
   "autoclose": false,
   "autocomplete": true,
   "bibliofile": "biblio.bib",
   "cite_by": "apalike",
   "current_citInitial": 1,
   "eqLabelWithNumbers": true,
   "eqNumInitial": 1,
   "hotkeys": {
    "equation": "Ctrl-E",
    "itemize": "Ctrl-I"
   },
   "labels_anchors": false,
   "latex_user_defs": false,
   "report_style_numbering": false,
   "user_envs_cfg": false
  }
 },
 "nbformat": 4,
 "nbformat_minor": 2
}
