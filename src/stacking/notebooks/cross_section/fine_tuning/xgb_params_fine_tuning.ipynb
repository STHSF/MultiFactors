{
 "cells": [
  {
   "cell_type": "code",
   "execution_count": null,
   "metadata": {},
   "outputs": [],
   "source": [
    "%matplotlib inline\n",
    "import sys\n",
    "sys.path.append('../')\n",
    "sys.path.append('../../../')\n",
    "sys.path.append('../../../../')\n",
    "import pandas as pd\n",
    "import numpy as np\n",
    "import seaborn as sns\n",
    "from matplotlib import pyplot as plt\n",
    "\n",
    "from conf.models import *\n",
    "from conf.config import *\n",
    "from stacking import factor_store, feature_list\n",
    "from models.m1_xgb import *\n",
    "from optimization.bayes_optimization_xgb import BayesOptimizationXGB\n",
    "from conf.configuration import xgb_conf"
   ]
  },
  {
   "cell_type": "code",
   "execution_count": null,
   "metadata": {},
   "outputs": [],
   "source": [
    "# 输入数据为dataframe格式\n",
    "train_sample_df = pd.read_csv('../data/dataset/traning_sample.csv')\n",
    "# print(train_sample_df.head())\n",
    "train_dataset_df = train_sample_df[['alpha_1','alpha_2','alpha_3','alpha_4','alpha_5',\n",
    "                                    'alpha_6','alpha_7','alpha_8','alpha_9','alpha_10']]\n",
    "label_dataset_df = train_sample_df[['dx_2']]\n",
    "x_train, x_test, y_train, y_test = train_test_sp(train_dataset_df[:30000], label_dataset_df[:30000])\n",
    "#     print('x_train_pre: %s' % x_train.head())\n",
    "#     print('y_train_pre: %s' % y_train.head())\n",
    "#     print('x_test_pre: %s' % x_test.head())\n",
    "#     print('y_test_pre: %s' % y_test.head())\n",
    "\n",
    "# 数据统计用\n",
    "# x_test.to_csv('../result/x_test_{}.csv'.format(now), index=0)\n",
    "# y_test.to_csv('../result/y_test_{}.csv'.format(now), index=0)"
   ]
  },
  {
   "cell_type": "code",
   "execution_count": null,
   "metadata": {},
   "outputs": [],
   "source": [
    "# load xgboost regression configuration\n",
    "xgb_conf.xgb_config_r()\n",
    "xgb_conf.cv_folds = None\n",
    "xgb_conf.early_stop_round = 100\n",
    "xgb_conf.max_round = 800\n",
    "xgb_conf.params.update({'nthread': 12})\n",
    "\n",
    "GPU_device = False\n",
    "if GPU_device:\n",
    "    # use GPUs\n",
    "    xgb_conf.params.update({'tree_method': 'gpu_hist'})\n",
    "alpha_logger.info(\"params before: {}\".format(xgb_conf.params))\n",
    "tic = time.time()\n",
    "\n",
    "# hyper_parameters optimization\n",
    "opt_parameters = {'max_depth': (2, 12),\n",
    "                  'gamma': (0.001, 10.0),\n",
    "                  'min_child_weight': (0, 20),\n",
    "                  'max_delta_step': (0, 10),\n",
    "                  'subsample': (0.01, 0.99),\n",
    "                  'colsample_bytree': (0.01, 0.99)\n",
    "                 }\n",
    "\n",
    "opt_xgb = BayesOptimizationXGB('regression', x_train, y_train)\n",
    "params_op = opt_xgb.train_opt(opt_parameters)\n",
    "xgb_conf.params.update(params_op)\n",
    "alpha_logger.info(\"params after: {}\".format(xgb_conf.params))\n",
    "alpha_logger.info(\"hyper params optimize time : {}\".format(time.time() - tic))"
   ]
  },
  {
   "cell_type": "code",
   "execution_count": null,
   "metadata": {},
   "outputs": [],
   "source": []
  },
  {
   "cell_type": "code",
   "execution_count": null,
   "metadata": {},
   "outputs": [],
   "source": []
  },
  {
   "cell_type": "code",
   "execution_count": 3,
   "metadata": {},
   "outputs": [
    {
     "name": "stdout",
     "output_type": "stream",
     "text": [
      "division by zero\n",
      "ok\n"
     ]
    }
   ],
   "source": [
    "try: \n",
    "    1/0\n",
    "except Exception as e:\n",
    "    print(e)\n",
    "finally:\n",
    "    print('ok')"
   ]
  },
  {
   "cell_type": "code",
   "execution_count": null,
   "metadata": {},
   "outputs": [],
   "source": []
  },
  {
   "cell_type": "code",
   "execution_count": null,
   "metadata": {},
   "outputs": [],
   "source": []
  }
 ],
 "metadata": {
  "kernelspec": {
   "display_name": "Python 3",
   "language": "python",
   "name": "python3"
  },
  "language_info": {
   "codemirror_mode": {
    "name": "ipython",
    "version": 3
   },
   "file_extension": ".py",
   "mimetype": "text/x-python",
   "name": "python",
   "nbconvert_exporter": "python",
   "pygments_lexer": "ipython3",
   "version": "3.6.7"
  },
  "latex_envs": {
   "LaTeX_envs_menu_present": true,
   "autoclose": false,
   "autocomplete": true,
   "bibliofile": "biblio.bib",
   "cite_by": "apalike",
   "current_citInitial": 1,
   "eqLabelWithNumbers": true,
   "eqNumInitial": 1,
   "hotkeys": {
    "equation": "Ctrl-E",
    "itemize": "Ctrl-I"
   },
   "labels_anchors": false,
   "latex_user_defs": false,
   "report_style_numbering": false,
   "user_envs_cfg": false
  }
 },
 "nbformat": 4,
 "nbformat_minor": 2
}
