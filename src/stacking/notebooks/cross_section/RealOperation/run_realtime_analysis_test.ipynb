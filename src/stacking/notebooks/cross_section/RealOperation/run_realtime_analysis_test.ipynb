{
 "cells": [
  {
   "cell_type": "markdown",
   "metadata": {},
   "source": [
    "# 基础因子实时计算"
   ]
  },
  {
   "cell_type": "code",
   "execution_count": 1,
   "metadata": {},
   "outputs": [],
   "source": [
    "%matplotlib inline\n",
    "import sys\n",
    "sys.path.append('../')\n",
    "sys.path.append('../../')\n",
    "sys.path.append('../../../')\n",
    "sys.path.append('../../../../')\n",
    "sys.path.append('../../../../../')\n",
    "\n",
    "import pandas as pd\n",
    "import numpy as np\n",
    "import seaborn as sns\n",
    "from datetime import datetime\n",
    "from matplotlib import pyplot as plt\n",
    "\n",
    "from PyFin.api import *\n",
    "from alphamind.api import *\n",
    "from conf.models import *\n",
    "from conf.config import*\n",
    "from data.engines.model import Record\n",
    "from alphamind.execution.naiveexecutor import NaiveExecutor\n",
    "from stacking import factor_store, feature_list\n",
    "from optimization.bayesopt.bayes_optimization_xgb import *\n",
    "pd.set_option('display.max_columns', None)\n",
    "pd.set_option('display.max_rows', None)\n",
    "pd.set_option('max_colwidth', 100)\n"
   ]
  },
  {
   "cell_type": "markdown",
   "metadata": {},
   "source": [
    "## 因子数据准备"
   ]
  },
  {
   "cell_type": "code",
   "execution_count": 2,
   "metadata": {},
   "outputs": [],
   "source": [
    "# 设置train和predict日期\n",
    "start_date = '2019-10-24'  # trainning起始时间\n",
    "end_date = '2020-01-09'    # predict时间, 调仓日\n",
    "\n",
    "# 设置交易日\n",
    "trade_end_date = '2020-01-10'        # 当前交易日期[predict的下一个交易日作为下单调仓日]\n",
    "\n",
    "# 设置保存的文件目录\n",
    "weekly = 'st'  # 测试文件目录\n",
    "freq = '5b'\n",
    "\n",
    "# 换手率控制\n",
    "turn_over_rate = 2  # {s1:0.5, s2:0.3, s3:0.6, s4:0.8, s5:0.5}\n",
    "\n",
    "# 组合优化参数\n",
    "weight_gap = 0.02\n",
    "\n",
    "universe = Universe('zz500')\n",
    "benchmark_code = 905\n",
    "horizon = map_freq(freq)\n",
    "industry_name = 'sw'\n",
    "industry_level = 1"
   ]
  },
  {
   "cell_type": "code",
   "execution_count": 3,
   "metadata": {
    "code_folding": [],
    "scrolled": true
   },
   "outputs": [
    {
     "name": "stdout",
     "output_type": "stream",
     "text": [
      "前一个调仓日: 2020-01-02 00:00:00\n",
      "当前调仓日: 2020-01-09 00:00:00\n",
      "前一个交易日: 2020-01-03 00:00:00\n",
      "当前交易日: 2020-01-10 00:00:00\n"
     ]
    }
   ],
   "source": [
    "# \n",
    "ref_dates = makeSchedule(start_date, end_date, freq, 'china.sse')\n",
    "\n",
    "# 根据索引删除某些特殊日期{节假日, 零时停盘日等}\n",
    "trash_date_list = [datetime(2020, 1, 1, 0, 0)]\n",
    "\n",
    "def remove_date(ref_dates, trash_date_list):\n",
    "    for i in trash_date_list:\n",
    "        try:\n",
    "            del(ref_dates[ref_dates.index(i)])\n",
    "        except:\n",
    "            continue\n",
    "    return ref_dates\n",
    "\n",
    "ref_dates = remove_date(ref_dates, trash_date_list)\n",
    "                \n",
    "# 前一个调仓日\n",
    "ref_date_pre = ref_dates[-2]\n",
    "# 当前调仓日\n",
    "ref_date = ref_dates[-1]\n",
    "print('前一个调仓日: %s' % ref_date_pre)\n",
    "print('当前调仓日: %s' % ref_date)\n",
    "\n",
    "# 获取前一个交易日, 用于获取前一个调仓日的持仓信息\n",
    "date_range = makeSchedule(ref_date_pre, trade_end_date, '1d', 'china.sse')\n",
    "date_range = remove_date(date_range, trash_date_list)\n",
    "# 前一个交易日, 如果遇到上一个调仓日存在空缺如[2020.01.01], 需要特殊指定\n",
    "# adjusted_date_pre = datetime(2019, 12, 26, 0, 0)\n",
    "adjusted_date_pre = date_range[1]\n",
    "# 当前交易日\n",
    "adjusted_date = date_range[-1]\n",
    "\n",
    "print('前一个交易日: %s' % adjusted_date_pre)\n",
    "print('当前交易日: %s' % adjusted_date)"
   ]
  },
  {
   "cell_type": "code",
   "execution_count": 4,
   "metadata": {
    "code_folding": []
   },
   "outputs": [],
   "source": [
    "# 因子数据库\n",
    "data_source = alpha_db\n",
    "engine = SqlEngine(data_source)\n",
    "\n",
    "# uqer因子列表\n",
    "## CSQuantiles\n",
    "basic_factor_store = factor_store.basic_factor_store\n",
    "## LAST\n",
    "# basic_factor_store = factor_store.basic_factor_last_store\n",
    "\n",
    "# alpha191因子列表\n",
    "alpha_factor_store = factor_store.alpha_factor_store"
   ]
  },
  {
   "cell_type": "code",
   "execution_count": 5,
   "metadata": {
    "code_folding": []
   },
   "outputs": [
    {
     "name": "stdout",
     "output_type": "stream",
     "text": [
      "CPU times: user 11.8 s, sys: 252 ms, total: 12.1 s\n",
      "Wall time: 13.5 s\n"
     ]
    }
   ],
   "source": [
    "%%time\n",
    "# 提取Uqer因子\n",
    "basic_factor_org = engine.fetch_factor_range(universe, basic_factor_store, dates=ref_dates)\n",
    "## 提取alpha191因子\n",
    "# alpha191_factor_org = engine.fetch_factor_range(universe, \n",
    "#                                                 alpha_factor_store, \n",
    "#                                                 dates=ref_dates, \n",
    "#                                                 used_factor_tables=[Alpha191]).drop(['chgPct','secShortName'],\n",
    "#                                                                                     axis=1)\n",
    "## 合并所有的因子\n",
    "# factor_data_org = pd.merge(basic_factor_org, alpha191_factor_org, on=['trade_date', 'code'], how='outer')\n",
    "factor_data_org = basic_factor_org\n"
   ]
  },
  {
   "cell_type": "code",
   "execution_count": 6,
   "metadata": {
    "scrolled": true
   },
   "outputs": [],
   "source": [
    "assert len(set(factor_data_org['trade_date'])) == len(ref_dates)\n"
   ]
  },
  {
   "cell_type": "code",
   "execution_count": 7,
   "metadata": {},
   "outputs": [
    {
     "data": {
      "text/plain": [
       "Text(0, 0.5, 'ACCA')"
      ]
     },
     "execution_count": 7,
     "metadata": {},
     "output_type": "execute_result"
    },
    {
     "data": {
      "image/png": "[encoded data removed]",
      "text/plain": [
       "<Figure size 720x144 with 1 Axes>"
      ]
     },
     "metadata": {
      "needs_background": "light"
     },
     "output_type": "display_data"
    }
   ],
   "source": [
    "# Plot factor value over time on code\n",
    "from matplotlib import pyplot as plt\n",
    "from pylab import rcParams\n",
    "rcParams['figure.figsize'] = 10, 2 # width 10, height 8\n",
    "\n",
    "ax = factor_data_org[factor_data_org['code'] == 6].plot(x='trade_date', y='ACCA', style='b-', grid=True)\n",
    "ax.set_xlabel(\"date\")\n",
    "ax.set_ylabel(\"ACCA\")"
   ]
  },
  {
   "cell_type": "code",
   "execution_count": 8,
   "metadata": {},
   "outputs": [],
   "source": [
    "# 因子预处理\n",
    "## 确失值填充\n",
    "factor_mean = factor_data_org.mean()\n",
    "factor_std = factor_data_org.std()\n",
    "factor_data_org = factor_data_org.fillna(factor_mean)"
   ]
  },
  {
   "cell_type": "code",
   "execution_count": 9,
   "metadata": {},
   "outputs": [
    {
     "name": "stdout",
     "output_type": "stream",
     "text": [
      "CPU times: user 155 ms, sys: 7.71 ms, total: 162 ms\n",
      "Wall time: 290 ms\n"
     ]
    }
   ],
   "source": [
    "%%time\n",
    "# 获取所属行业\n",
    "industry = engine.fetch_industry_range(universe, dates=ref_dates)\n",
    "# factor_data = pd.merge(factor_data_org, industry, on=['trade_date', 'code']).fillna(0.)\n",
    "factor_data = pd.merge(factor_data_org, industry, on=['trade_date', 'code'])\n",
    "\n",
    "# 获取风险因子\n",
    "risk_total = engine.fetch_risk_model_range(universe, dates=ref_dates)[1]\n"
   ]
  },
  {
   "cell_type": "code",
   "execution_count": 10,
   "metadata": {
    "scrolled": false
   },
   "outputs": [
    {
     "name": "stdout",
     "output_type": "stream",
     "text": [
      "CPU times: user 63.1 ms, sys: 4.65 ms, total: 67.8 ms\n",
      "Wall time: 328 ms\n"
     ]
    }
   ],
   "source": [
    "%%time\n",
    "return_data = engine.fetch_dx_return_range(universe, dates=ref_dates, horizon=horizon, offset=0,benchmark = benchmark_code)\n",
    "# return_data = engine.fetch_dx_return_range(universe, dates=ref_dates, horizon=horizon, offset=0)\n",
    "\n"
   ]
  },
  {
   "cell_type": "code",
   "execution_count": 11,
   "metadata": {},
   "outputs": [
    {
     "name": "stdout",
     "output_type": "stream",
     "text": [
      "CPU times: user 99.6 ms, sys: 1.84 ms, total: 101 ms\n",
      "Wall time: 145 ms\n"
     ]
    }
   ],
   "source": [
    "%%time\n",
    "benchmark_total = engine.fetch_benchmark_range(dates=ref_dates, benchmark=benchmark_code)\n",
    "industry_total = engine.fetch_industry_matrix_range(universe, dates=ref_dates, category=industry_name, level=industry_level)\n",
    "\n",
    "train_data = pd.merge(factor_data, return_data, on=['trade_date', 'code']).dropna()\n"
   ]
  },
  {
   "cell_type": "code",
   "execution_count": 12,
   "metadata": {},
   "outputs": [
    {
     "data": {
      "text/plain": [
       "Text(0, 0.5, 'dx')"
      ]
     },
     "execution_count": 12,
     "metadata": {},
     "output_type": "execute_result"
    },
    {
     "data": {
      "image/png": "[encoded data removed]",
      "text/plain": [
       "<Figure size 720x144 with 1 Axes>"
      ]
     },
     "metadata": {
      "needs_background": "light"
     },
     "output_type": "display_data"
    }
   ],
   "source": [
    "# Plot adjusted close over time on code\n",
    "from matplotlib import pyplot as plt\n",
    "from pylab import rcParams\n",
    "rcParams['figure.figsize'] = 10, 2 # width 10, height 8\n",
    "\n",
    "ax = train_data[train_data['code'] == 6].plot(x='trade_date', y='dx', style='b-', grid=True)\n",
    "ax.set_xlabel(\"date\")\n",
    "ax.set_ylabel(\"dx\")"
   ]
  },
  {
   "cell_type": "code",
   "execution_count": 13,
   "metadata": {},
   "outputs": [],
   "source": [
    "# 获取特征名\n",
    "features = list(basic_factor_store.keys())\n",
    "alpha_features = list(alpha_factor_store.keys())\n",
    "# features = feature_list.uqer_features\n",
    "# alpha_features = feature_list.alpha_features\n",
    "# features.extend(alpha_features)\n",
    "\n",
    "label = ['dx']"
   ]
  },
  {
   "cell_type": "markdown",
   "metadata": {},
   "source": [
    "# 模型训练"
   ]
  },
  {
   "cell_type": "code",
   "execution_count": 14,
   "metadata": {},
   "outputs": [
    {
     "name": "stderr",
     "output_type": "stream",
     "text": [
      "2020-02-20 13:03:32,590 - ALPHA_MIND - INFO - 2020-01-09 00:00:00 is start\n",
      "2020-02-20 13:03:32,629 - ALPHA_MIND - INFO - trade_date_pre 2020-01-08 00:00:00\n",
      "2020-02-20 13:03:32,636 - ALPHA_MIND - INFO - len_x_train: 5500, len_y_train: 5500\n",
      "2020-02-20 13:03:32,636 - ALPHA_MIND - INFO - X_train.shape=(5500, 423), X_test.shape = (5500, 1)\n"
     ]
    }
   ],
   "source": [
    "from datetime import datetime, timedelta\n",
    "from models.m1_xgb import *\n",
    "from conf.configuration import xgb_conf\n",
    "from data.engines.model import Record\n",
    "import xgboost as xgb\n",
    "import gc\n",
    "\n",
    "alpha_logger.info('{0} is start'.format(ref_date))\n",
    "\n",
    "# machine learning model\n",
    "## Filter Training data\n",
    "## 训练集构造\n",
    "trade_date_pre = ref_date - timedelta(days=1)\n",
    "# trade_date_pre_80 = ref_date - timedelta(days=80)\n",
    "\n",
    "## 1、选择调仓日当天之前(不含当天)并且在80天以内的因子数据作为训练集.\n",
    "# train = train_data[(train_data.trade_date <= trade_date_pre) & (trade_date_pre_80 <= train_data.trade_date)].dropna()\n",
    "## 2、选择调仓日当天之前(不含当天)的因子数据作为训练集.\n",
    "train = train_data[train_data.trade_date <= trade_date_pre].dropna()\n",
    "alpha_logger.info('trade_date_pre {0}'.format(trade_date_pre))\n",
    "\n",
    "if len(train) <= 0:\n",
    "    alpha_logger.info('{0} HAS NO TRAIN DATA!!!'.format(ref_date))\n",
    "\n",
    "x_train = train[features]\n",
    "y_train = train[label]\n",
    "alpha_logger.info('len_x_train: {0}, len_y_train: {1}'.format(len(x_train.values), len(y_train.values)))\n",
    "alpha_logger.info('X_train.shape={0}, X_test.shape = {1}'.format(np.shape(x_train), np.shape(y_train)))\n"
   ]
  },
  {
   "cell_type": "markdown",
   "metadata": {},
   "source": [
    "## 超参寻优"
   ]
  },
  {
   "cell_type": "code",
   "execution_count": 15,
   "metadata": {},
   "outputs": [
    {
     "name": "stderr",
     "output_type": "stream",
     "text": [
      "2020-02-20 13:03:32,642 - ALPHA_MIND - INFO - params before: \n",
      "{'booster': 'gbtree', 'objective': 'reg:linear', 'eval_metric': ['rmse', 'logloss'], 'nthread': 12, 'silent': 1, 'learning_rate': 0.01, 'max_depth': 5, 'eta': 0.03, 'alpha': 0, 'lambda': 0, 'subsample': 0.7, 'colsample_bytree': 0.5, 'min_child_weight': 3, 'seed': 2019}\n",
      "2020-02-20 13:03:32,643 - ALPHA_MIND - INFO - params after: \n",
      "{'booster': 'gbtree', 'objective': 'reg:linear', 'eval_metric': ['rmse', 'logloss'], 'nthread': 12, 'silent': 1, 'learning_rate': 0.01, 'max_depth': 5, 'eta': 0.03, 'alpha': 0, 'lambda': 0, 'subsample': 0.7, 'colsample_bytree': 0.5, 'min_child_weight': 3, 'seed': 2019}\n",
      "2020-02-20 13:03:32,644 - ALPHA_MIND - INFO - hyper params optimize time : 0.0004761219024658203\n"
     ]
    },
    {
     "name": "stdout",
     "output_type": "stream",
     "text": [
      "CPU times: user 1.83 ms, sys: 920 µs, total: 2.75 ms\n",
      "Wall time: 1.86 ms\n"
     ]
    }
   ],
   "source": [
    "%%time\n",
    "# load xgboost regression configuration\n",
    "xgb_conf.xgb_config_r()\n",
    "xgb_conf.cv_folds = None\n",
    "xgb_conf.early_stop_round = 100\n",
    "xgb_conf.max_round = 800\n",
    "xgb_conf.params.update({'nthread': 12})\n",
    "\n",
    "GPU_device = False\n",
    "if GPU_device:\n",
    "    # use GPUs\n",
    "    xgb_conf.params.update({'tree_method': 'gpu_hist'})\n",
    "alpha_logger.info(\"params before: \\n{}\".format(xgb_conf.params))\n",
    "tic = time.time()\n",
    "\n",
    "# hyper_parameters optimization\n",
    "# opt_parameters = {'max_depth': (2, 12),\n",
    "#                   'gamma': (0.001, 10.0),\n",
    "#                   'min_child_weight': (0, 20),\n",
    "#                   'max_delta_step': (0, 10),\n",
    "#                   'subsample': (0.01, 0.99),\n",
    "#                   'colsample_bytree': (0.01, 0.99)\n",
    "#                  }\n",
    "\n",
    "# opt_xgb = BayesOptimizationXGB('regression', x_train, y_train)\n",
    "# params_op = opt_xgb.train_opt(opt_parameters)\n",
    "# xgb_conf.params.update(params_op)\n",
    "alpha_logger.info(\"params after: \\n{}\".format(xgb_conf.params))\n",
    "alpha_logger.info(\"hyper params optimize time : {}\".format(time.time() - tic))\n"
   ]
  },
  {
   "cell_type": "markdown",
   "metadata": {},
   "source": [
    "## 训练"
   ]
  },
  {
   "cell_type": "code",
   "execution_count": 16,
   "metadata": {},
   "outputs": [
    {
     "name": "stderr",
     "output_type": "stream",
     "text": [
      "2020-02-20 13:03:32,649 - ALPHA_MIND - INFO - xgb_model params: \n",
      "{'booster': 'gbtree', 'objective': 'reg:linear', 'eval_metric': ['rmse', 'logloss'], 'nthread': 12, 'silent': 1, 'learning_rate': 0.01, 'max_depth': 5, 'eta': 0.03, 'alpha': 0, 'lambda': 0, 'subsample': 0.7, 'colsample_bytree': 0.5, 'min_child_weight': 3, 'seed': 2019}\n",
      "2020-02-20 13:03:32,650 - ../../../../models/m1_xgb.py[line:95] - INFO: NonCrossValidation。。。。\n"
     ]
    },
    {
     "name": "stdout",
     "output_type": "stream",
     "text": [
      "[0]\ttrain-rmse:0.498153\ttrain-logloss:0.683127\n",
      "Multiple eval metrics have been passed: 'train-logloss' will be used for early stopping.\n",
      "\n",
      "Will train until train-logloss hasn't improved in 100 rounds.\n",
      "[5]\ttrain-rmse:0.47389\ttrain-logloss:0.635892\n",
      "[10]\ttrain-rmse:0.450834\ttrain-logloss:0.592957\n",
      "[15]\ttrain-rmse:0.428908\ttrain-logloss:0.553741\n",
      "[20]\ttrain-rmse:0.408054\ttrain-logloss:0.51779\n",
      "[25]\ttrain-rmse:0.388234\ttrain-logloss:0.484753\n",
      "[30]\ttrain-rmse:0.369393\ttrain-logloss:0.454301\n",
      "[35]\ttrain-rmse:0.351486\ttrain-logloss:0.426168\n",
      "[40]\ttrain-rmse:0.334468\ttrain-logloss:0.40012\n",
      "[45]\ttrain-rmse:0.318296\ttrain-logloss:0.375955\n",
      "[50]\ttrain-rmse:0.302912\ttrain-logloss:0.353471\n",
      "[55]\ttrain-rmse:0.288307\ttrain-logloss:0.332555\n",
      "[60]\ttrain-rmse:0.274424\ttrain-logloss:0.313045\n",
      "[65]\ttrain-rmse:0.261237\ttrain-logloss:0.294833\n",
      "[70]\ttrain-rmse:0.248698\ttrain-logloss:0.27779\n",
      "[75]\ttrain-rmse:0.23679\ttrain-logloss:0.261841\n",
      "[80]\ttrain-rmse:0.225465\ttrain-logloss:0.246877\n",
      "[85]\ttrain-rmse:0.214722\ttrain-logloss:0.232857\n",
      "[90]\ttrain-rmse:0.20451\ttrain-logloss:0.21968\n",
      "[95]\ttrain-rmse:0.194829\ttrain-logloss:0.207315\n",
      "[100]\ttrain-rmse:0.185622\ttrain-logloss:0.195665\n",
      "[105]\ttrain-rmse:0.176904\ttrain-logloss:0.184726\n",
      "[110]\ttrain-rmse:0.16862\ttrain-logloss:0.174408\n",
      "[115]\ttrain-rmse:0.160741\ttrain-logloss:0.164657\n",
      "[120]\ttrain-rmse:0.153291\ttrain-logloss:0.15549\n",
      "[125]\ttrain-rmse:0.146213\ttrain-logloss:0.146821\n",
      "[130]\ttrain-rmse:0.1395\ttrain-logloss:0.138631\n",
      "[135]\ttrain-rmse:0.133144\ttrain-logloss:0.130899\n",
      "[140]\ttrain-rmse:0.127109\ttrain-logloss:0.123573\n",
      "[145]\ttrain-rmse:0.121407\ttrain-logloss:0.11666\n",
      "[150]\ttrain-rmse:0.115995\ttrain-logloss:0.110098\n",
      "[155]\ttrain-rmse:0.110852\ttrain-logloss:0.103858\n",
      "[160]\ttrain-rmse:0.105996\ttrain-logloss:0.097955\n",
      "[165]\ttrain-rmse:0.101394\ttrain-logloss:0.092347\n",
      "[170]\ttrain-rmse:0.09705\ttrain-logloss:0.08703\n",
      "[175]\ttrain-rmse:0.092948\ttrain-logloss:0.081983\n",
      "[180]\ttrain-rmse:0.089085\ttrain-logloss:0.077205\n",
      "[185]\ttrain-rmse:0.085441\ttrain-logloss:0.072659\n",
      "[190]\ttrain-rmse:0.081978\ttrain-logloss:0.068299\n",
      "[195]\ttrain-rmse:0.078729\ttrain-logloss:0.064165\n",
      "[200]\ttrain-rmse:0.075665\ttrain-logloss:0.060217\n",
      "[205]\ttrain-rmse:0.072776\ttrain-logloss:0.056437\n",
      "[210]\ttrain-rmse:0.070055\ttrain-logloss:0.05274\n",
      "[215]\ttrain-rmse:0.067503\ttrain-logloss:0.048242\n",
      "[220]\ttrain-rmse:0.065097\ttrain-logloss:0.044938\n",
      "[225]\ttrain-rmse:0.062832\ttrain-logloss:0.041763\n",
      "[230]\ttrain-rmse:0.060707\ttrain-logloss:0.038629\n",
      "[235]\ttrain-rmse:0.058733\ttrain-logloss:0.034995\n",
      "[240]\ttrain-rmse:0.056871\ttrain-logloss:0.032046\n",
      "[245]\ttrain-rmse:0.055127\ttrain-logloss:0.026771\n",
      "[250]\ttrain-rmse:0.053489\ttrain-logloss:0.023527\n",
      "[255]\ttrain-rmse:0.051977\ttrain-logloss:0.018677\n",
      "[260]\ttrain-rmse:0.05056\ttrain-logloss:0.013521\n",
      "[265]\ttrain-rmse:0.049231\ttrain-logloss:0.009903\n",
      "[270]\ttrain-rmse:0.047979\ttrain-logloss:0.004346\n",
      "[275]\ttrain-rmse:0.046824\ttrain-logloss:0.001557\n",
      "[280]\ttrain-rmse:0.045745\ttrain-logloss:-0.002432\n",
      "[285]\ttrain-rmse:0.044751\ttrain-logloss:-0.005815\n",
      "[290]\ttrain-rmse:0.043833\ttrain-logloss:-0.010677\n",
      "[295]\ttrain-rmse:0.042983\ttrain-logloss:-0.014035\n",
      "[300]\ttrain-rmse:0.042195\ttrain-logloss:-0.017703\n",
      "[305]\ttrain-rmse:0.041466\ttrain-logloss:-0.022606\n",
      "[310]\ttrain-rmse:0.040777\ttrain-logloss:-0.027641\n",
      "[315]\ttrain-rmse:0.040146\ttrain-logloss:-0.033141\n",
      "[320]\ttrain-rmse:0.039555\ttrain-logloss:-0.037355\n",
      "[325]\ttrain-rmse:0.039\ttrain-logloss:-0.042958\n",
      "[330]\ttrain-rmse:0.038501\ttrain-logloss:-0.047675\n",
      "[335]\ttrain-rmse:0.038034\ttrain-logloss:-0.056498\n",
      "[340]\ttrain-rmse:0.037595\ttrain-logloss:-0.063344\n",
      "[345]\ttrain-rmse:0.037185\ttrain-logloss:-0.073123\n",
      "[350]\ttrain-rmse:0.036805\ttrain-logloss:-0.080879\n",
      "[355]\ttrain-rmse:0.03646\ttrain-logloss:-0.088248\n",
      "[360]\ttrain-rmse:0.036136\ttrain-logloss:-0.097038\n",
      "[365]\ttrain-rmse:0.035835\ttrain-logloss:-0.106387\n",
      "[370]\ttrain-rmse:0.035574\ttrain-logloss:-0.117163\n",
      "[375]\ttrain-rmse:0.035313\ttrain-logloss:-0.126396\n",
      "[380]\ttrain-rmse:0.035065\ttrain-logloss:-0.133154\n",
      "[385]\ttrain-rmse:0.03484\ttrain-logloss:-0.142041\n",
      "[390]\ttrain-rmse:0.034621\ttrain-logloss:-0.153605\n",
      "[395]\ttrain-rmse:0.034415\ttrain-logloss:-0.161965\n",
      "[400]\ttrain-rmse:0.034231\ttrain-logloss:-0.172164\n",
      "[405]\ttrain-rmse:0.034066\ttrain-logloss:-0.183771\n",
      "[410]\ttrain-rmse:0.033894\ttrain-logloss:-0.19476\n",
      "[415]\ttrain-rmse:0.033745\ttrain-logloss:-0.204022\n",
      "[420]\ttrain-rmse:0.033591\ttrain-logloss:-0.214762\n",
      "[425]\ttrain-rmse:0.033455\ttrain-logloss:-0.22523\n",
      "[430]\ttrain-rmse:0.033314\ttrain-logloss:-0.232967\n",
      "[435]\ttrain-rmse:0.033185\ttrain-logloss:-0.24345\n",
      "[440]\ttrain-rmse:0.033052\ttrain-logloss:-0.256994\n",
      "[445]\ttrain-rmse:0.032942\ttrain-logloss:-0.266797\n",
      "[450]\ttrain-rmse:0.032837\ttrain-logloss:-0.27571\n",
      "[455]\ttrain-rmse:0.03274\ttrain-logloss:-0.284143\n",
      "[460]\ttrain-rmse:0.032658\ttrain-logloss:-0.290528\n",
      "[465]\ttrain-rmse:0.032558\ttrain-logloss:-0.301029\n",
      "[470]\ttrain-rmse:0.032464\ttrain-logloss:-0.308109\n",
      "[475]\ttrain-rmse:0.032373\ttrain-logloss:-0.314727\n",
      "[480]\ttrain-rmse:0.032294\ttrain-logloss:-0.321186\n",
      "[485]\ttrain-rmse:0.032203\ttrain-logloss:-0.326111\n",
      "[490]\ttrain-rmse:0.032113\ttrain-logloss:-0.330492\n",
      "[495]\ttrain-rmse:0.032021\ttrain-logloss:-0.335406\n",
      "[500]\ttrain-rmse:0.031942\ttrain-logloss:-0.341452\n",
      "[505]\ttrain-rmse:0.031845\ttrain-logloss:-0.343977\n",
      "[510]\ttrain-rmse:0.031765\ttrain-logloss:-0.347307\n",
      "[515]\ttrain-rmse:0.031695\ttrain-logloss:-0.350136\n",
      "[520]\ttrain-rmse:0.031625\ttrain-logloss:-0.3528\n",
      "[525]\ttrain-rmse:0.031548\ttrain-logloss:-0.35543\n",
      "[530]\ttrain-rmse:0.031461\ttrain-logloss:-0.357602\n",
      "[535]\ttrain-rmse:0.031399\ttrain-logloss:-0.360789\n",
      "[540]\ttrain-rmse:0.031346\ttrain-logloss:-0.362571\n",
      "[545]\ttrain-rmse:0.031285\ttrain-logloss:-0.364866\n",
      "[550]\ttrain-rmse:0.031208\ttrain-logloss:-0.365733\n",
      "[555]\ttrain-rmse:0.031138\ttrain-logloss:-0.368245\n",
      "[560]\ttrain-rmse:0.031084\ttrain-logloss:-0.370152\n",
      "[565]\ttrain-rmse:0.031025\ttrain-logloss:-0.371515\n",
      "[570]\ttrain-rmse:0.030965\ttrain-logloss:-0.37217\n",
      "[575]\ttrain-rmse:0.030893\ttrain-logloss:-0.37207\n",
      "[580]\ttrain-rmse:0.030837\ttrain-logloss:-0.373388\n",
      "[585]\ttrain-rmse:0.030778\ttrain-logloss:-0.374191\n",
      "[590]\ttrain-rmse:0.03072\ttrain-logloss:-0.374921\n",
      "[595]\ttrain-rmse:0.030653\ttrain-logloss:-0.375915\n",
      "[600]\ttrain-rmse:0.030599\ttrain-logloss:-0.376888\n",
      "[605]\ttrain-rmse:0.03055\ttrain-logloss:-0.377795\n",
      "[610]\ttrain-rmse:0.030492\ttrain-logloss:-0.378284\n",
      "[615]\ttrain-rmse:0.030431\ttrain-logloss:-0.378749\n",
      "[620]\ttrain-rmse:0.030362\ttrain-logloss:-0.378794\n",
      "[625]\ttrain-rmse:0.030307\ttrain-logloss:-0.379358\n",
      "[630]\ttrain-rmse:0.030242\ttrain-logloss:-0.38033\n",
      "[635]\ttrain-rmse:0.030174\ttrain-logloss:-0.381548\n",
      "[640]\ttrain-rmse:0.030118\ttrain-logloss:-0.3815\n",
      "[645]\ttrain-rmse:0.030066\ttrain-logloss:-0.382115\n",
      "[650]\ttrain-rmse:0.03001\ttrain-logloss:-0.383277\n",
      "[655]\ttrain-rmse:0.02996\ttrain-logloss:-0.383682\n",
      "[660]\ttrain-rmse:0.029908\ttrain-logloss:-0.384115\n",
      "[665]\ttrain-rmse:0.029853\ttrain-logloss:-0.385006\n",
      "[670]\ttrain-rmse:0.029794\ttrain-logloss:-0.384982\n",
      "[675]\ttrain-rmse:0.029735\ttrain-logloss:-0.384774\n",
      "[680]\ttrain-rmse:0.029674\ttrain-logloss:-0.384725\n",
      "[685]\ttrain-rmse:0.029601\ttrain-logloss:-0.385091\n",
      "[690]\ttrain-rmse:0.029553\ttrain-logloss:-0.385769\n",
      "[695]\ttrain-rmse:0.029477\ttrain-logloss:-0.387094\n",
      "[700]\ttrain-rmse:0.029423\ttrain-logloss:-0.388039\n",
      "[705]\ttrain-rmse:0.029373\ttrain-logloss:-0.388314\n",
      "[710]\ttrain-rmse:0.029322\ttrain-logloss:-0.389235\n",
      "[715]\ttrain-rmse:0.029269\ttrain-logloss:-0.389187\n",
      "[720]\ttrain-rmse:0.029211\ttrain-logloss:-0.388893\n",
      "[725]\ttrain-rmse:0.02916\ttrain-logloss:-0.389378\n",
      "[730]\ttrain-rmse:0.029108\ttrain-logloss:-0.390497\n",
      "[735]\ttrain-rmse:0.029046\ttrain-logloss:-0.390819\n",
      "[740]\ttrain-rmse:0.028984\ttrain-logloss:-0.391543\n",
      "[745]\ttrain-rmse:0.028931\ttrain-logloss:-0.391287\n",
      "[750]\ttrain-rmse:0.028876\ttrain-logloss:-0.39152\n",
      "[755]\ttrain-rmse:0.028828\ttrain-logloss:-0.392056\n",
      "[760]\ttrain-rmse:0.028766\ttrain-logloss:-0.393147\n",
      "[765]\ttrain-rmse:0.02871\ttrain-logloss:-0.393104\n",
      "[770]\ttrain-rmse:0.028651\ttrain-logloss:-0.394177\n",
      "[775]\ttrain-rmse:0.028597\ttrain-logloss:-0.393695\n",
      "[780]\ttrain-rmse:0.02854\ttrain-logloss:-0.393841\n",
      "[785]\ttrain-rmse:0.028489\ttrain-logloss:-0.394428\n",
      "[790]\ttrain-rmse:0.028433\ttrain-logloss:-0.395701\n",
      "[795]\ttrain-rmse:0.028381\ttrain-logloss:-0.396302\n",
      "[799]\ttrain-rmse:0.02833\ttrain-logloss:-0.396097\n"
     ]
    },
    {
     "name": "stderr",
     "output_type": "stream",
     "text": [
      "2020-02-20 13:03:37,079 - ALPHA_MIND - INFO - Training time cost 4.43611741065979s\n",
      "2020-02-20 13:03:37,080 - ALPHA_MIND - INFO - best_score = {'best_score': -0.396302}, best_round = 795\n"
     ]
    },
    {
     "name": "stdout",
     "output_type": "stream",
     "text": [
      "CPU times: user 52.7 s, sys: 82.1 ms, total: 52.8 s\n",
      "Wall time: 4.43 s\n"
     ]
    }
   ],
   "source": [
    "%%time\n",
    "# model training\n",
    "xgb_model = XGBooster(xgb_conf)\n",
    "alpha_logger.info('xgb_model params: \\n{0}'.format(xgb_model.get_params()))\n",
    "\n",
    "best_score, best_round, best_model = xgb_model.fit(x_train, y_train)\n",
    "alpha_logger.info('Training time cost {}s'.format(time.time() - tic))\n",
    "alpha_logger.info('best_score = {}, best_round = {}'.format(best_score, best_round))\n"
   ]
  },
  {
   "cell_type": "markdown",
   "metadata": {},
   "source": [
    "# 当天数据预测"
   ]
  },
  {
   "cell_type": "code",
   "execution_count": 17,
   "metadata": {},
   "outputs": [
    {
     "name": "stderr",
     "output_type": "stream",
     "text": [
      "2020-02-20 13:03:37,120 - ALPHA_MIND - INFO - 2020-01-09 00:00:00 total_data_test_excess: 500\n",
      "2020-02-20 13:03:37,133 - ALPHA_MIND - INFO - 2020-01-09 00:00:00 type_of_total_data: <class 'pandas.core.frame.DataFrame'>\n",
      "2020-02-20 13:03:37,133 - ALPHA_MIND - INFO - 2020-01-09 00:00:00 shape_of_total_data: (500, 74)\n",
      "2020-02-20 13:03:37,141 - ALPHA_MIND - INFO - 2020-01-09 00:00:00 len_of_total_data_test_excess: 500\n",
      "2020-02-20 13:03:37,154 - ALPHA_MIND - INFO - shape_of_predict_xgboost: (500, 1)\n"
     ]
    }
   ],
   "source": [
    "# 取调仓日当天的因子数据作为输入.\n",
    "# total_data_test_excess = train_data[train_data.trade_date == str(ref_date)]\n",
    "total_data_test_excess = factor_data[factor_data.trade_date == ref_date]\n",
    "\n",
    "if len(total_data_test_excess) <=0:\n",
    "    alpha_logger.info('{} HAS NO DATA!!!'.format(ref_date))\n",
    "    sys.exit()\n",
    "\n",
    "alpha_logger.info('{0} total_data_test_excess: {1}'.format(ref_date, len(total_data_test_excess)))\n",
    "\n",
    "# 获取调仓日当天的行业, 风险模型和基准权重数据\n",
    "industry_matrix = industry_total[industry_total.trade_date == ref_date]\n",
    "benchmark_weight = benchmark_total[benchmark_total.trade_date == ref_date]\n",
    "risk_matrix = risk_total[risk_total.trade_date == ref_date]\n",
    "\n",
    "total_data = pd.merge(industry_matrix, benchmark_weight, on=['code'], how='left').fillna(0.)\n",
    "total_data = pd.merge(total_data, risk_matrix, on=['code'])\n",
    "alpha_logger.info('{0} type_of_total_data: {1}'.format(ref_date, type(total_data)))\n",
    "alpha_logger.info('{0} shape_of_total_data: {1}'.format(ref_date, np.shape(total_data)))\n",
    "    \n",
    "total_data_test_excess = pd.merge(total_data, total_data_test_excess, on=['code'])\n",
    "alpha_logger.info('{0} len_of_total_data_test_excess: {1}'.format(ref_date, len(total_data_test_excess)))\n",
    "\n",
    "# 解析股票代码\n",
    "codes = total_data_test_excess.code.values.tolist()\n",
    "   \n",
    "# predict\n",
    "# alpha_logger.info('total_data_test_excess: \\n{}'.format(total_data_test_excess[['weight', 'code', 'industry']]))\n",
    "x_pred = total_data_test_excess[features]\n",
    "predict_xgboost = xgb_model.predict(best_model, x_pred)\n",
    "# alpha_logger.info('predict_xgboost: {}'.format(predict_xgboost))\n",
    "\n",
    "a = np.shape(predict_xgboost)\n",
    "predict_xgboost = np.reshape(predict_xgboost, (a[0], -1)).astype(np.float64)\n",
    "alpha_logger.info('shape_of_predict_xgboost: {}'.format(np.shape(predict_xgboost)))\n",
    "\n",
    "# 收益率预测结果    \n",
    "predict_xgboost_df = pd.DataFrame({'xgb_pre': list(predict_xgboost.reshape(-1))})\n",
    "predict_xgboost_df['trade_date'] = ref_date\n",
    "predict_xgboost_df['code'] = codes\n",
    "predict_xgboost_df['code'] = predict_xgboost_df['code'].apply(lambda x: \"{:06d}\".format(x) + '.XSHG'\n",
    "                                                              if len(str(x))==6 and str(x)[0] in '6' \n",
    "                                                              else \"{:06d}\".format(x) + '.XSHE')\n"
   ]
  },
  {
   "cell_type": "markdown",
   "metadata": {},
   "source": [
    "## 获取昨持仓信息"
   ]
  },
  {
   "cell_type": "code",
   "execution_count": 18,
   "metadata": {
    "scrolled": true
   },
   "outputs": [
    {
     "name": "stderr",
     "output_type": "stream",
     "text": [
      "2020-02-20 13:03:37,352 - ALPHA_MIND - INFO - previous_pos_data: 2020-01-03 00:00:00, pos_len: 0\n",
      "2020-02-20 13:03:37,354 - ALPHA_MIND - INFO - previous_pos:\n",
      " Empty DataFrame\n",
      "Columns: [trade_date, adjust_date, weight, industry, er, code]\n",
      "Index: []\n"
     ]
    }
   ],
   "source": [
    "from data.engines.sqlengine import SQLEngine\n",
    "\n",
    "# 获取上个交易日的当前持仓\n",
    "record_engine = SQLEngine('sqlite:///./{}/real_tune_record_without_alpha.db'.format(weekly))\n",
    "\n",
    "try:\n",
    "    # pos_record = record_engine.fetch_record('pos_record')\n",
    "    # previous_pos = pos_record[pos_record['trade_date'] == adjusted_date_pre]\n",
    "    previous_pos = record_engine.fetch_record_meta(Record, adjusted_date_pre)\n",
    "\n",
    "except Exception as e:\n",
    "    alpha_logger.info('pos_record Exception:{0}'.format(e))\n",
    "    previous_pos = pd.DataFrame({'trade_date':[], 'weight':[],'industry':[], 'er':[],'code':[]})\n",
    "\n",
    "alpha_logger.info('previous_pos_data: {0}, pos_len: {1}'.format(adjusted_date_pre, len(previous_pos)))\n",
    "\n",
    "# 股票过滤, 组合优化之前过滤掉(未完成)\n",
    "## 9:00--9:25之间进行涨跌停股票的实时筛选\n",
    "\n",
    "# 导入昨持仓并与股票池中所有股票合并, \n",
    "if len(previous_pos) <= 0:\n",
    "    current_position = None\n",
    "else:\n",
    "    previous_pos = total_data_test_excess[['code']].merge(previous_pos, on=['code'], how='left',).fillna(0)\n",
    "    current_position = previous_pos.weight.values\n",
    "alpha_logger.info('previous_pos:\\n {}'.format(previous_pos.head()))\n",
    "\n",
    "# previous_pos = total_data_test_excess[['code']].merge(previous_pos, on=['code'], how='left').fillna(0)\n",
    "# current_position = previous_pos.weight.values\n",
    "\n",
    "# print(current_position.shape)\n",
    "# print(total_data_test_excess.shape)\n",
    "# print(previous_pos.shape)"
   ]
  },
  {
   "cell_type": "markdown",
   "metadata": {},
   "source": [
    "## 组合优化"
   ]
  },
  {
   "cell_type": "code",
   "execution_count": 19,
   "metadata": {
    "code_folding": []
   },
   "outputs": [],
   "source": [
    "# Constraintes settings\n",
    "industry_names = industry_list(industry_name, industry_level)\n",
    "constraint_risk = ['EARNYILD', 'LIQUIDTY', 'GROWTH', 'SIZE', 'SIZENL', 'BETA', 'MOMENTUM'] + industry_names\n",
    "total_risk_names = constraint_risk + ['benchmark', 'total']\n",
    "\n",
    "best_industry_names = ['电子','家用电器','食品饮料','医药生物','通信']\n",
    "\n",
    "effective_industry_names = ['建筑材料','机械设备','家用电器','交通运输','化工',\n",
    "                            '电气设备','信息服务','银行',\n",
    "                            '建筑装饰','计算机','轻工制造','交运设备','信息设备',\n",
    "                            '建筑建材','商业贸易','房地产','汽车',\n",
    "                            '公用事业','保险','休闲服务','证券','多元金融']\n",
    "\n",
    "invalid_industry_names = ['农林牧渔','采掘', '钢铁', '有色金属', '纺织服装', '商业贸易',\n",
    "                          '综合', '国防军工','传媒']\n",
    "\n",
    "b_type = []\n",
    "l_val = []\n",
    "u_val = []\n",
    "\n",
    "for name in total_risk_names:\n",
    "    if name == 'benchmark':\n",
    "        b_type.append(BoundaryType.RELATIVE)\n",
    "        l_val.append(0.0)\n",
    "        u_val.append(1.0)\n",
    "    elif name == 'total':\n",
    "        b_type.append(BoundaryType.ABSOLUTE)\n",
    "        l_val.append(-0.0)\n",
    "        u_val.append(0.0)\n",
    "    elif name == 'SIZE':\n",
    "        b_type.append(BoundaryType.ABSOLUTE)\n",
    "        l_val.append(-1.0)\n",
    "        u_val.append(1.0)\n",
    "    elif name == 'SIZENL':\n",
    "        b_type.append(BoundaryType.ABSOLUTE)\n",
    "        l_val.append(-1.0)\n",
    "        u_val.append(1.0)\n",
    "    elif name in industry_names:\n",
    "        b_type.append(BoundaryType.RELATIVE)\n",
    "        l_val.append(-0.05)\n",
    "        u_val.append(0.05)\n",
    "#     elif name in best_industry_names:\n",
    "#         b_type.append(BoundaryType.RELATIVE)\n",
    "#         l_val.append(0.0)\n",
    "#         u_val.append(0.05)\n",
    "#     elif name in effective_industry_names:\n",
    "#         b_type.append(BoundaryType.RELATIVE)\n",
    "#         l_val.append(0.0)\n",
    "#         u_val.append(0.001)\n",
    "#     elif name in invalid_industry_names:\n",
    "#         b_type.append(BoundaryType.RELATIVE)\n",
    "#         l_val.append(0.0)\n",
    "#         u_val.append(1.0)\n",
    "    else:\n",
    "        b_type.append(BoundaryType.ABSOLUTE)\n",
    "        l_val.append(-2.0)\n",
    "        u_val.append(2.0)\n",
    "bounds = create_box_bounds(total_risk_names, b_type, l_val, u_val)\n"
   ]
  },
  {
   "cell_type": "code",
   "execution_count": 20,
   "metadata": {},
   "outputs": [
    {
     "data": {
      "text/plain": [
       "-0.05"
      ]
     },
     "execution_count": 20,
     "metadata": {},
     "output_type": "execute_result"
    }
   ],
   "source": [
    "bounds['农林牧渔'].lower.val"
   ]
  },
  {
   "cell_type": "code",
   "execution_count": 21,
   "metadata": {},
   "outputs": [
    {
     "name": "stderr",
     "output_type": "stream",
     "text": [
      "2020-02-20 13:03:37,378 - ALPHA_MIND - INFO - type_of_benchmark_w: <class 'numpy.ndarray'>, shape_of_benchmark_w: (500,)\n",
      "2020-02-20 13:03:37,381 - ALPHA_MIND - INFO - shape_of_total_risk_exp_pre: (500, 37)\n",
      "2020-02-20 13:03:37,382 - ALPHA_MIND - INFO - shape_of_total_risk_exp: (500, 37)\n",
      "2020-02-20 13:03:37,385 - ALPHA_MIND - INFO - constraints: (2, 37) in 2020-01-09 00:00:00\n",
      "2020-02-20 13:03:37,385 - ALPHA_MIND - INFO - lbound: (500,) in 2020-01-09 00:00:00\n",
      "2020-02-20 13:03:37,386 - ALPHA_MIND - INFO - ubound: (500,) in 2020-01-09 00:00:00\n"
     ]
    },
    {
     "ename": "PortfolioBuilderException",
     "evalue": "3",
     "output_type": "error",
     "traceback": [
      "\u001b[0;31m---------------------------------------------------------------------------\u001b[0m",
      "\u001b[0;31mPortfolioBuilderException\u001b[0m                 Traceback (most recent call last)",
      "\u001b[0;32m<timed exec>\u001b[0m in \u001b[0;36m<module>\u001b[0;34m\u001b[0m\n",
      "\u001b[0;32m/opt/workenv/vision/lib/python3.6/site-packages/Alpha_Mind-0.2.0-py3.6-linux-x86_64.egg/alphamind/analysis/factoranalysis.py\u001b[0m in \u001b[0;36mer_portfolio_analysis\u001b[0;34m(er, industry, dx_return, constraints, detail_analysis, benchmark, is_tradable, method, **kwargs)\u001b[0m\n\u001b[1;32m    103\u001b[0m                                             \u001b[0mturn_over_target\u001b[0m\u001b[0;34m=\u001b[0m\u001b[0mturn_over_target\u001b[0m\u001b[0;34m,\u001b[0m\u001b[0;34m\u001b[0m\u001b[0;34m\u001b[0m\u001b[0m\n\u001b[0;32m--> 104\u001b[0;31m                                             current_position=current_position)\n\u001b[0m\u001b[1;32m    105\u001b[0m         \u001b[0;32mif\u001b[0m \u001b[0mstatus\u001b[0m \u001b[0;34m!=\u001b[0m \u001b[0;34m'optimal'\u001b[0m\u001b[0;34m:\u001b[0m\u001b[0;34m\u001b[0m\u001b[0;34m\u001b[0m\u001b[0m\n",
      "\u001b[0;32m/opt/workenv/vision/lib/python3.6/site-packages/Alpha_Mind-0.2.0-py3.6-linux-x86_64.egg/alphamind/portfolio/linearbuilder.py\u001b[0m in \u001b[0;36mlinear_builder\u001b[0;34m(er, lbound, ubound, risk_constraints, risk_target, turn_over_target, current_position, method)\u001b[0m\n\u001b[1;32m     45\u001b[0m         \u001b[0;32melse\u001b[0m\u001b[0;34m:\u001b[0m\u001b[0;34m\u001b[0m\u001b[0;34m\u001b[0m\u001b[0m\n\u001b[0;32m---> 46\u001b[0;31m             \u001b[0;32mraise\u001b[0m \u001b[0mPortfolioBuilderException\u001b[0m\u001b[0;34m(\u001b[0m\u001b[0mprob\u001b[0m\u001b[0;34m.\u001b[0m\u001b[0mstatus\u001b[0m\u001b[0;34m(\u001b[0m\u001b[0;34m)\u001b[0m\u001b[0;34m)\u001b[0m\u001b[0;34m\u001b[0m\u001b[0;34m\u001b[0m\u001b[0m\n\u001b[0m\u001b[1;32m     47\u001b[0m     \u001b[0;32melse\u001b[0m\u001b[0;34m:\u001b[0m\u001b[0;34m\u001b[0m\u001b[0;34m\u001b[0m\u001b[0m\n",
      "\u001b[0;31mPortfolioBuilderException\u001b[0m: 3",
      "\nDuring handling of the above exception, another exception occurred:\n",
      "\u001b[0;31mPortfolioBuilderException\u001b[0m                 Traceback (most recent call last)",
      "\u001b[0;32m<timed exec>\u001b[0m in \u001b[0;36m<module>\u001b[0;34m\u001b[0m\n",
      "\u001b[0;32m/opt/workenv/vision/lib/python3.6/site-packages/Alpha_Mind-0.2.0-py3.6-linux-x86_64.egg/alphamind/analysis/factoranalysis.py\u001b[0m in \u001b[0;36mer_portfolio_analysis\u001b[0;34m(er, industry, dx_return, constraints, detail_analysis, benchmark, is_tradable, method, **kwargs)\u001b[0m\n\u001b[1;32m    102\u001b[0m                                             \u001b[0mrisk_target\u001b[0m\u001b[0;34m=\u001b[0m\u001b[0;34m(\u001b[0m\u001b[0mrisk_lbound\u001b[0m\u001b[0;34m,\u001b[0m \u001b[0mrisk_ubound\u001b[0m\u001b[0;34m)\u001b[0m\u001b[0;34m,\u001b[0m\u001b[0;34m\u001b[0m\u001b[0;34m\u001b[0m\u001b[0m\n\u001b[1;32m    103\u001b[0m                                             \u001b[0mturn_over_target\u001b[0m\u001b[0;34m=\u001b[0m\u001b[0mturn_over_target\u001b[0m\u001b[0;34m,\u001b[0m\u001b[0;34m\u001b[0m\u001b[0;34m\u001b[0m\u001b[0m\n\u001b[0;32m--> 104\u001b[0;31m                                             current_position=current_position)\n\u001b[0m\u001b[1;32m    105\u001b[0m         \u001b[0;32mif\u001b[0m \u001b[0mstatus\u001b[0m \u001b[0;34m!=\u001b[0m \u001b[0;34m'optimal'\u001b[0m\u001b[0;34m:\u001b[0m\u001b[0;34m\u001b[0m\u001b[0;34m\u001b[0m\u001b[0m\n\u001b[1;32m    106\u001b[0m             \u001b[0;32mraise\u001b[0m \u001b[0mValueError\u001b[0m\u001b[0;34m(\u001b[0m\u001b[0;34m'linear programming optimizer in status: {0}'\u001b[0m\u001b[0;34m.\u001b[0m\u001b[0mformat\u001b[0m\u001b[0;34m(\u001b[0m\u001b[0mstatus\u001b[0m\u001b[0;34m)\u001b[0m\u001b[0;34m)\u001b[0m\u001b[0;34m\u001b[0m\u001b[0;34m\u001b[0m\u001b[0m\n",
      "\u001b[0;32m/opt/workenv/vision/lib/python3.6/site-packages/Alpha_Mind-0.2.0-py3.6-linux-x86_64.egg/alphamind/portfolio/linearbuilder.py\u001b[0m in \u001b[0;36mlinear_builder\u001b[0;34m(er, lbound, ubound, risk_constraints, risk_target, turn_over_target, current_position, method)\u001b[0m\n\u001b[1;32m     44\u001b[0m             \u001b[0;32mreturn\u001b[0m \u001b[0;34m'optimal'\u001b[0m\u001b[0;34m,\u001b[0m \u001b[0mprob\u001b[0m\u001b[0;34m.\u001b[0m\u001b[0mfeval\u001b[0m\u001b[0;34m(\u001b[0m\u001b[0;34m)\u001b[0m\u001b[0;34m,\u001b[0m \u001b[0mprob\u001b[0m\u001b[0;34m.\u001b[0m\u001b[0mx_value\u001b[0m\u001b[0;34m(\u001b[0m\u001b[0;34m)\u001b[0m\u001b[0;34m\u001b[0m\u001b[0;34m\u001b[0m\u001b[0m\n\u001b[1;32m     45\u001b[0m         \u001b[0;32melse\u001b[0m\u001b[0;34m:\u001b[0m\u001b[0;34m\u001b[0m\u001b[0;34m\u001b[0m\u001b[0m\n\u001b[0;32m---> 46\u001b[0;31m             \u001b[0;32mraise\u001b[0m \u001b[0mPortfolioBuilderException\u001b[0m\u001b[0;34m(\u001b[0m\u001b[0mprob\u001b[0m\u001b[0;34m.\u001b[0m\u001b[0mstatus\u001b[0m\u001b[0;34m(\u001b[0m\u001b[0;34m)\u001b[0m\u001b[0;34m)\u001b[0m\u001b[0;34m\u001b[0m\u001b[0;34m\u001b[0m\u001b[0m\n\u001b[0m\u001b[1;32m     47\u001b[0m     \u001b[0;32melse\u001b[0m\u001b[0;34m:\u001b[0m\u001b[0;34m\u001b[0m\u001b[0;34m\u001b[0m\u001b[0m\n\u001b[1;32m     48\u001b[0m         \u001b[0;32mif\u001b[0m \u001b[0mmethod\u001b[0m \u001b[0;32min\u001b[0m \u001b[0;34m(\u001b[0m\u001b[0;34m\"simplex\"\u001b[0m\u001b[0;34m,\u001b[0m \u001b[0;34m\"interior\"\u001b[0m\u001b[0;34m)\u001b[0m\u001b[0;34m:\u001b[0m\u001b[0;34m\u001b[0m\u001b[0;34m\u001b[0m\u001b[0m\n",
      "\u001b[0;31mPortfolioBuilderException\u001b[0m: 3"
     ]
    }
   ],
   "source": [
    "%%time\n",
    "benchmark_w = total_data_test_excess.weight.values\n",
    "alpha_logger.info('type_of_benchmark_w: {}, shape_of_benchmark_w: {}'.format(type(benchmark_w), \n",
    "                                                                             np.shape(benchmark_w)))\n",
    "is_in_benchmark = (benchmark_w > 0.).astype(float).reshape((-1, 1))\n",
    "\n",
    "# 风险模型数据合并\n",
    "total_risk_exp = np.concatenate([total_data_test_excess[constraint_risk].values.astype(float),\n",
    "                                 is_in_benchmark,\n",
    "                                 np.ones_like(is_in_benchmark)],\n",
    "                                axis=1)\n",
    "\n",
    "alpha_logger.info('shape_of_total_risk_exp_pre: {}'.format(np.shape(total_risk_exp)))\n",
    "total_risk_exp = pd.DataFrame(total_risk_exp, columns=total_risk_names)\n",
    "alpha_logger.info('shape_of_total_risk_exp: {}'.format(np.shape(total_risk_exp)))\n",
    "\n",
    "constraints = LinearConstraints(bounds, total_risk_exp, benchmark_w)\n",
    "alpha_logger.info('constraints: {0} in {1}'.format(np.shape(constraints.risk_targets()), ref_date))\n",
    "\n",
    "lbound = np.maximum(0., benchmark_w - weight_gap)\n",
    "ubound = weight_gap + benchmark_w\n",
    "alpha_logger.info('lbound: {0} in {1}'.format(np.shape(lbound), ref_date))\n",
    "alpha_logger.info('ubound: {0} in {1}'.format(np.shape(ubound), ref_date))\n",
    "\n",
    "# 组合优化\n",
    "executor = NaiveExecutor()\n",
    "current_pos = pd.DataFrame()\n",
    "\n",
    "try:\n",
    "    target_pos, _ = er_portfolio_analysis(predict_xgboost, \n",
    "                                      total_data_test_excess['industry'].values,\n",
    "                                      None,\n",
    "                                      constraints,\n",
    "                                      False,\n",
    "                                      benchmark_w,\n",
    "                                      method='risk_neutral',\n",
    "                                      lbound=lbound,\n",
    "                                      ubound=ubound,\n",
    "                                      turn_over_target=turn_over_rate,\n",
    "                                      current_position=current_position)\n",
    "except:\n",
    "    target_pos, _ = er_portfolio_analysis(predict_xgboost, \n",
    "                                      total_data_test_excess['industry'].values,\n",
    "                                      None,\n",
    "                                      constraints,\n",
    "                                      False,\n",
    "                                      benchmark_w,\n",
    "                                      method='risk_neutral',\n",
    "                                      lbound=lbound,\n",
    "                                      ubound=ubound,\n",
    "                                      current_position=current_position)\n",
    "                  \n",
    "alpha_logger.info('shape_of_target_pos: {}'.format(np.shape(target_pos)))\n",
    "alpha_logger.info('len_codes:{}'.format(np.shape(codes)))\n",
    "target_pos['code'] = codes\n",
    "# alpha_logger.info('target_pos: \\n{}'.format(target_pos))\n",
    "\n",
    "# 换手率计算\n",
    "executor.set_current(previous_pos)\n",
    "turn_over_org, current_pos = executor.execute(target_pos=target_pos)\n",
    "alpha_logger.info('turn_over_org: {}'.format(turn_over_org))\n",
    "turn_over = turn_over_org / sum(target_pos.weight.values)\n",
    "alpha_logger.info('turn_over: {}'.format(turn_over))\n",
    "\n",
    "# 优化后仓位信息\n",
    "## 调仓日\n",
    "current_pos['adjust_date'] = ref_date\n",
    "## 交易日\n",
    "current_pos['trade_date'] = adjusted_date\n",
    "alpha_logger.info('{} is finished'.format(adjusted_date))\n"
   ]
  },
  {
   "cell_type": "code",
   "execution_count": 22,
   "metadata": {
    "scrolled": true
   },
   "outputs": [
    {
     "ename": "KeyError",
     "evalue": "'weight'",
     "output_type": "error",
     "traceback": [
      "\u001b[0;31m---------------------------------------------------------------------------\u001b[0m",
      "\u001b[0;31mKeyError\u001b[0m                                  Traceback (most recent call last)",
      "\u001b[0;32m<ipython-input-22-a4b46cff496b>\u001b[0m in \u001b[0;36m<module>\u001b[0;34m\u001b[0m\n\u001b[1;32m      1\u001b[0m \u001b[0;31m# 取TOP N作为真实的下单股票\u001b[0m\u001b[0;34m\u001b[0m\u001b[0;34m\u001b[0m\u001b[0;34m\u001b[0m\u001b[0m\n\u001b[0;32m----> 2\u001b[0;31m \u001b[0mreal_pos\u001b[0m \u001b[0;34m=\u001b[0m \u001b[0mcurrent_pos\u001b[0m\u001b[0;34m.\u001b[0m\u001b[0msort_values\u001b[0m\u001b[0;34m(\u001b[0m\u001b[0mby\u001b[0m\u001b[0;34m=\u001b[0m\u001b[0;34m'weight'\u001b[0m\u001b[0;34m,\u001b[0m \u001b[0mascending\u001b[0m\u001b[0;34m=\u001b[0m\u001b[0;32mFalse\u001b[0m\u001b[0;34m)\u001b[0m\u001b[0;34m[\u001b[0m\u001b[0;34m:\u001b[0m\u001b[0;36m50\u001b[0m\u001b[0;34m]\u001b[0m\u001b[0;34m\u001b[0m\u001b[0;34m\u001b[0m\u001b[0m\n\u001b[0m\u001b[1;32m      3\u001b[0m \u001b[0mreal_pos\u001b[0m\u001b[0;34m[\u001b[0m\u001b[0;34m'weight'\u001b[0m\u001b[0;34m]\u001b[0m \u001b[0;34m=\u001b[0m \u001b[0mreal_pos\u001b[0m\u001b[0;34m[\u001b[0m\u001b[0;34m'weight'\u001b[0m\u001b[0;34m]\u001b[0m \u001b[0;34m/\u001b[0m \u001b[0mreal_pos\u001b[0m\u001b[0;34m[\u001b[0m\u001b[0;34m'weight'\u001b[0m\u001b[0;34m]\u001b[0m\u001b[0;34m.\u001b[0m\u001b[0msum\u001b[0m\u001b[0;34m(\u001b[0m\u001b[0;34m)\u001b[0m\u001b[0;34m\u001b[0m\u001b[0;34m\u001b[0m\u001b[0m\n\u001b[1;32m      4\u001b[0m \u001b[0mreal_pos\u001b[0m\u001b[0;34m\u001b[0m\u001b[0;34m\u001b[0m\u001b[0m\n",
      "\u001b[0;32m/opt/workenv/vision/lib/python3.6/site-packages/pandas/core/frame.py\u001b[0m in \u001b[0;36msort_values\u001b[0;34m(self, by, axis, ascending, inplace, kind, na_position)\u001b[0m\n\u001b[1;32m   4717\u001b[0m \u001b[0;34m\u001b[0m\u001b[0m\n\u001b[1;32m   4718\u001b[0m             \u001b[0mby\u001b[0m \u001b[0;34m=\u001b[0m \u001b[0mby\u001b[0m\u001b[0;34m[\u001b[0m\u001b[0;36m0\u001b[0m\u001b[0;34m]\u001b[0m\u001b[0;34m\u001b[0m\u001b[0;34m\u001b[0m\u001b[0m\n\u001b[0;32m-> 4719\u001b[0;31m             \u001b[0mk\u001b[0m \u001b[0;34m=\u001b[0m \u001b[0mself\u001b[0m\u001b[0;34m.\u001b[0m\u001b[0m_get_label_or_level_values\u001b[0m\u001b[0;34m(\u001b[0m\u001b[0mby\u001b[0m\u001b[0;34m,\u001b[0m \u001b[0maxis\u001b[0m\u001b[0;34m=\u001b[0m\u001b[0maxis\u001b[0m\u001b[0;34m)\u001b[0m\u001b[0;34m\u001b[0m\u001b[0;34m\u001b[0m\u001b[0m\n\u001b[0m\u001b[1;32m   4720\u001b[0m \u001b[0;34m\u001b[0m\u001b[0m\n\u001b[1;32m   4721\u001b[0m             \u001b[0;32mif\u001b[0m \u001b[0misinstance\u001b[0m\u001b[0;34m(\u001b[0m\u001b[0mascending\u001b[0m\u001b[0;34m,\u001b[0m \u001b[0;34m(\u001b[0m\u001b[0mtuple\u001b[0m\u001b[0;34m,\u001b[0m \u001b[0mlist\u001b[0m\u001b[0;34m)\u001b[0m\u001b[0;34m)\u001b[0m\u001b[0;34m:\u001b[0m\u001b[0;34m\u001b[0m\u001b[0;34m\u001b[0m\u001b[0m\n",
      "\u001b[0;32m/opt/workenv/vision/lib/python3.6/site-packages/pandas/core/generic.py\u001b[0m in \u001b[0;36m_get_label_or_level_values\u001b[0;34m(self, key, axis)\u001b[0m\n\u001b[1;32m   1705\u001b[0m             \u001b[0mvalues\u001b[0m \u001b[0;34m=\u001b[0m \u001b[0mself\u001b[0m\u001b[0;34m.\u001b[0m\u001b[0maxes\u001b[0m\u001b[0;34m[\u001b[0m\u001b[0maxis\u001b[0m\u001b[0;34m]\u001b[0m\u001b[0;34m.\u001b[0m\u001b[0mget_level_values\u001b[0m\u001b[0;34m(\u001b[0m\u001b[0mkey\u001b[0m\u001b[0;34m)\u001b[0m\u001b[0;34m.\u001b[0m\u001b[0m_values\u001b[0m\u001b[0;34m\u001b[0m\u001b[0;34m\u001b[0m\u001b[0m\n\u001b[1;32m   1706\u001b[0m         \u001b[0;32melse\u001b[0m\u001b[0;34m:\u001b[0m\u001b[0;34m\u001b[0m\u001b[0;34m\u001b[0m\u001b[0m\n\u001b[0;32m-> 1707\u001b[0;31m             \u001b[0;32mraise\u001b[0m \u001b[0mKeyError\u001b[0m\u001b[0;34m(\u001b[0m\u001b[0mkey\u001b[0m\u001b[0;34m)\u001b[0m\u001b[0;34m\u001b[0m\u001b[0;34m\u001b[0m\u001b[0m\n\u001b[0m\u001b[1;32m   1708\u001b[0m \u001b[0;34m\u001b[0m\u001b[0m\n\u001b[1;32m   1709\u001b[0m         \u001b[0;31m# Check for duplicates\u001b[0m\u001b[0;34m\u001b[0m\u001b[0;34m\u001b[0m\u001b[0;34m\u001b[0m\u001b[0m\n",
      "\u001b[0;31mKeyError\u001b[0m: 'weight'"
     ]
    }
   ],
   "source": [
    "# 取TOP N作为真实的下单股票\n",
    "real_pos = current_pos.sort_values(by='weight', ascending=False)[:50]\n",
    "real_pos['weight'] = real_pos['weight'] / real_pos['weight'].sum()\n",
    "real_pos"
   ]
  },
  {
   "cell_type": "code",
   "execution_count": null,
   "metadata": {},
   "outputs": [],
   "source": [
    "# 保存当前持仓信息   \n",
    "## 字段说明:{weight: 持股权重, industry:所属行业, er:收益率, code:股票代码, adjust_date:调仓日, trade_date:交易日}\n",
    "## 注, adjust_date表示模型运行所需要的数据截止日, trade_date表示策略下单交易的日期\n",
    "previous_record = record_engine.fetch_record_meta(Record, adjusted_date)\n",
    "if len(previous_record) == 0:\n",
    "    record_engine.write_data('pos_record', real_pos)\n",
    "else:\n",
    "    record_engine.del_historical_data(Record, adjusted_date)  # 删除同日期的历史数据\n",
    "    tmp_record = record_engine.fetch_record_meta(Record, adjusted_date)\n",
    "    if len(tmp_record) == 0:  # 删除成功\n",
    "        record_engine.write_data('pos_record', real_pos)\n",
    "    else:\n",
    "        print('{} 的数据没有删除: {}'.format(adjusted_date, len(previous_record)))\n"
   ]
  },
  {
   "cell_type": "code",
   "execution_count": null,
   "metadata": {
    "scrolled": false
   },
   "outputs": [],
   "source": [
    "# 生成交易记录\n",
    "## 修改code格式\n",
    "real_pos['code'] = real_pos['code'].apply(lambda x: \"{:06d}\".format(x) + '.SH' \n",
    "                                          if len(str(x))==6 and str(x)[0] in '6' \n",
    "                                          else \"{:06d}\".format(x) + '.SZ')\n",
    "\n",
    "real_pos = real_pos.loc[:, ['code', 'weight', 'trade_date']]\n",
    "real_pos.rename(columns={\"code\": \"证券代码\", \"weight\": \"持仓权重\", \"trade_date\": \"成分日期\"}, inplace=True)\n",
    "real_pos['交易价格'] = 0\n",
    "\n",
    "real_pos = real_pos[['证券代码', '持仓权重', '交易价格', '成分日期']].copy()\n",
    "# real_pos.to_csv('./{}/base{}.csv'.format(weekly, str(adjusted_date.date())), encoding='utf_8_sig', index=False)"
   ]
  },
  {
   "cell_type": "code",
   "execution_count": null,
   "metadata": {
    "scrolled": true
   },
   "outputs": [],
   "source": [
    "# 查看持仓记录\n",
    "previous_record = record_engine.fetch_record_meta(Record, adjusted_date)\n",
    "# previous_record = record_engine.fetch_record('pos_record')\n",
    "# previous_record = previous_record[previous_record['trade_date'] == adjusted_date]\n",
    "previous_record"
   ]
  },
  {
   "cell_type": "code",
   "execution_count": null,
   "metadata": {},
   "outputs": [],
   "source": []
  },
  {
   "cell_type": "code",
   "execution_count": null,
   "metadata": {},
   "outputs": [],
   "source": []
  }
 ],
 "metadata": {
  "kernelspec": {
   "display_name": "Python 3",
   "language": "python",
   "name": "python3"
  },
  "language_info": {
   "codemirror_mode": {
    "name": "ipython",
    "version": 3
   },
   "file_extension": ".py",
   "mimetype": "text/x-python",
   "name": "python",
   "nbconvert_exporter": "python",
   "pygments_lexer": "ipython3",
   "version": "3.6.7"
  },
  "latex_envs": {
   "LaTeX_envs_menu_present": true,
   "autoclose": false,
   "autocomplete": true,
   "bibliofile": "biblio.bib",
   "cite_by": "apalike",
   "current_citInitial": 1,
   "eqLabelWithNumbers": true,
   "eqNumInitial": 1,
   "hotkeys": {
    "equation": "Ctrl-E",
    "itemize": "Ctrl-I"
   },
   "labels_anchors": false,
   "latex_user_defs": false,
   "report_style_numbering": false,
   "user_envs_cfg": false
  },
  "pycharm": {
   "stem_cell": {
    "cell_type": "raw",
    "metadata": {
     "collapsed": false
    },
    "source": []
   }
  }
 },
 "nbformat": 4,
 "nbformat_minor": 2
}
