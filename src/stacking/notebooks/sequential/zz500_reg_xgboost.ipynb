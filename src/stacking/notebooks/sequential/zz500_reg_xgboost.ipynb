{
 "cells": [
  {
   "cell_type": "code",
   "execution_count": 1,
   "metadata": {
    "pycharm": {
     "is_executing": false
    }
   },
   "outputs": [],
   "source": [
    "import math\n",
    "import matplotlib\n",
    "import numpy as np\n",
    "import pandas as pd\n",
    "import seaborn as sns\n",
    "import time\n",
    "\n",
    "from datetime import date\n",
    "from matplotlib import pyplot as plt\n",
    "from pylab import rcParams\n",
    "from sklearn.metrics import mean_squared_error\n",
    "from sklearn.preprocessing import StandardScaler\n",
    "from tqdm import tqdm_notebook\n",
    "\n",
    "%matplotlib inline\n",
    "\n",
    "#### Input params ##################\n",
    "stk_path = \"../../data/zz500.csv\"\n",
    "# stk_path = \"../../data/GSPC.csv\"\n",
    "\n",
    "test_size = 0.2                # proportion of dataset to be used as test set\n",
    "cv_size = 0.2                  # proportion of dataset to be used as cross-validation set\n",
    "N = 3                         # for feature at day t, we use lags from t-1, t-2, ..., t-N as features\n",
    "\n",
    "n_estimators = 100             # Number of boosted trees to fit. default = 100\n",
    "max_depth = 3                  # Maximum tree depth for base learners. default = 3\n",
    "learning_rate = 0.1            # Boosting learning rate (xgb’s “eta”). default = 0.1\n",
    "min_child_weight = 1           # Minimum sum of instance weight(hessian) needed in a child. default = 1\n",
    "subsample = 1                  # Subsample ratio of the training instance. default = 1\n",
    "colsample_bytree = 1           # Subsample ratio of columns when constructing each tree. default = 1\n",
    "colsample_bylevel = 1          # Subsample ratio of columns for each split, in each level. default = 1\n",
    "gamma = 0                      # Minimum loss reduction required to make a further partition on a leaf node of the tree. default=0\n",
    "\n",
    "model_seed = 100\n",
    "\n",
    "fontsize = 14\n",
    "ticklabelsize = 14\n",
    "####################################"
   ]
  },
  {
   "cell_type": "markdown",
   "metadata": {},
   "source": [
    "# Common functions"
   ]
  },
  {
   "cell_type": "code",
   "execution_count": 2,
   "metadata": {
    "code_folding": [],
    "pycharm": {
     "is_executing": false
    }
   },
   "outputs": [],
   "source": [
    "from xgboost import XGBRegressor\n",
    "\n",
    "def get_mov_avg_std(df, col, N):\n",
    "    \"\"\"\n",
    "    Given a dataframe, get mean and std dev at timestep t using values from t-1, t-2, ..., t-N.\n",
    "    Inputs\n",
    "        df         : dataframe. Can be of any length.\n",
    "        col        : name of the column you want to calculate mean and std dev\n",
    "        N          : get mean and std dev at timestep t using values from t-1, t-2, ..., t-N\n",
    "    Outputs\n",
    "        df_out     : same as df but with additional column containing mean and std dev\n",
    "    \"\"\"\n",
    "    mean_list = df[col].rolling(window = N, min_periods=1).mean() # len(mean_list) = len(df)\n",
    "    std_list = df[col].rolling(window = N, min_periods=1).std()   # first value will be NaN, because normalized by N-1\n",
    "    \n",
    "    # Add one timestep to the predictions\n",
    "    mean_list = np.concatenate((np.array([np.nan]), np.array(mean_list[:-1])))\n",
    "    std_list = np.concatenate((np.array([np.nan]), np.array(std_list[:-1])))\n",
    "    \n",
    "    # Append mean_list to df\n",
    "    df_out = df.copy()\n",
    "    df_out[col + '_mean'] = mean_list\n",
    "    df_out[col + '_std'] = std_list\n",
    "    \n",
    "    return df_out\n",
    "\n",
    "def scale_row(row, feat_mean, feat_std):\n",
    "    \"\"\"\n",
    "    Given a pandas series in row, scale it to have 0 mean and var 1 using feat_mean and feat_std\n",
    "    Inputs\n",
    "        row      : pandas series. Need to scale this.\n",
    "        feat_mean: mean  \n",
    "        feat_std : standard deviation\n",
    "    Outputs\n",
    "        row_scaled : pandas series with same length as row, but scaled\n",
    "    \"\"\"\n",
    "    # If feat_std = 0 (this happens if adj_close doesn't change over N days), \n",
    "    # set it to a small number to avoid division by zero\n",
    "    feat_std = 0.001 if feat_std == 0 else feat_std\n",
    "    \n",
    "    row_scaled = (row-feat_mean) / feat_std\n",
    "    \n",
    "    return row_scaled\n",
    "\n",
    "def get_mape(y_true, y_pred): \n",
    "    \"\"\"\n",
    "    Compute mean absolute percentage error (MAPE)\n",
    "    \"\"\"\n",
    "    y_true, y_pred = np.array(y_true), np.array(y_pred)\n",
    "    return np.mean(np.abs((y_true - y_pred) / y_true)) * 100\n"
   ]
  },
  {
   "cell_type": "markdown",
   "metadata": {},
   "source": [
    "# Load data"
   ]
  },
  {
   "cell_type": "code",
   "execution_count": 3,
   "metadata": {
    "pycharm": {
     "is_executing": false
    }
   },
   "outputs": [
    {
     "data": {
      "text/html": [
       "<div>\n",
       "<style scoped>\n",
       "    .dataframe tbody tr th:only-of-type {\n",
       "        vertical-align: middle;\n",
       "    }\n",
       "\n",
       "    .dataframe tbody tr th {\n",
       "        vertical-align: top;\n",
       "    }\n",
       "\n",
       "    .dataframe thead th {\n",
       "        text-align: right;\n",
       "    }\n",
       "</style>\n",
       "<table border=\"1\" class=\"dataframe\">\n",
       "  <thead>\n",
       "    <tr style=\"text-align: right;\">\n",
       "      <th></th>\n",
       "      <th>date</th>\n",
       "      <th>close</th>\n",
       "      <th>high</th>\n",
       "      <th>open</th>\n",
       "      <th>low</th>\n",
       "      <th>volume</th>\n",
       "      <th>adj_close</th>\n",
       "      <th>month</th>\n",
       "    </tr>\n",
       "  </thead>\n",
       "  <tbody>\n",
       "    <tr>\n",
       "      <th>2665</th>\n",
       "      <td>2007-01-04</td>\n",
       "      <td>1723.69</td>\n",
       "      <td>1748.091</td>\n",
       "      <td>1738.929</td>\n",
       "      <td>1719.498</td>\n",
       "      <td>3.212987e+09</td>\n",
       "      <td>1723.69</td>\n",
       "      <td>1</td>\n",
       "    </tr>\n",
       "    <tr>\n",
       "      <th>2666</th>\n",
       "      <td>2007-01-05</td>\n",
       "      <td>1770.47</td>\n",
       "      <td>1770.483</td>\n",
       "      <td>1719.283</td>\n",
       "      <td>1712.737</td>\n",
       "      <td>2.954547e+09</td>\n",
       "      <td>1770.47</td>\n",
       "      <td>1</td>\n",
       "    </tr>\n",
       "    <tr>\n",
       "      <th>1723</th>\n",
       "      <td>2007-01-08</td>\n",
       "      <td>1851.96</td>\n",
       "      <td>1851.964</td>\n",
       "      <td>1773.023</td>\n",
       "      <td>1773.023</td>\n",
       "      <td>3.971932e+09</td>\n",
       "      <td>1851.96</td>\n",
       "      <td>1</td>\n",
       "    </tr>\n",
       "    <tr>\n",
       "      <th>1724</th>\n",
       "      <td>2007-01-09</td>\n",
       "      <td>1891.87</td>\n",
       "      <td>1893.723</td>\n",
       "      <td>1855.347</td>\n",
       "      <td>1853.901</td>\n",
       "      <td>4.284591e+09</td>\n",
       "      <td>1891.87</td>\n",
       "      <td>1</td>\n",
       "    </tr>\n",
       "    <tr>\n",
       "      <th>2667</th>\n",
       "      <td>2007-01-10</td>\n",
       "      <td>1940.83</td>\n",
       "      <td>1940.832</td>\n",
       "      <td>1896.711</td>\n",
       "      <td>1884.619</td>\n",
       "      <td>4.540634e+09</td>\n",
       "      <td>1940.83</td>\n",
       "      <td>1</td>\n",
       "    </tr>\n",
       "  </tbody>\n",
       "</table>\n",
       "</div>"
      ],
      "text/plain": [
       "           date    close      high      open       low        volume  \\\n",
       "2665 2007-01-04  1723.69  1748.091  1738.929  1719.498  3.212987e+09   \n",
       "2666 2007-01-05  1770.47  1770.483  1719.283  1712.737  2.954547e+09   \n",
       "1723 2007-01-08  1851.96  1851.964  1773.023  1773.023  3.971932e+09   \n",
       "1724 2007-01-09  1891.87  1893.723  1855.347  1853.901  4.284591e+09   \n",
       "2667 2007-01-10  1940.83  1940.832  1896.711  1884.619  4.540634e+09   \n",
       "\n",
       "      adj_close  month  \n",
       "2665    1723.69      1  \n",
       "2666    1770.47      1  \n",
       "1723    1851.96      1  \n",
       "1724    1891.87      1  \n",
       "2667    1940.83      1  "
      ]
     },
     "execution_count": 3,
     "metadata": {},
     "output_type": "execute_result"
    }
   ],
   "source": [
    "df = pd.read_csv(stk_path, sep = \",\")\n",
    "\n",
    "# Convert Date column to datetime\n",
    "df.loc[:, 'Date'] = pd.to_datetime(df['Date'],format='%Y-%m-%d')\n",
    "\n",
    "# Change all column headings to be lower case, and remove spacing\n",
    "df.columns = [str(x).lower().replace(' ', '_') for x in df.columns]\n",
    "\n",
    "# Get month of each sample\n",
    "df['month'] = df['date'].dt.month\n",
    "\n",
    "# Sort by datetime\n",
    "df.sort_values(by='date', inplace=True, ascending=True)\n",
    "\n",
    "df.head()"
   ]
  },
  {
   "cell_type": "code",
   "execution_count": 4,
   "metadata": {
    "pycharm": {
     "is_executing": false
    }
   },
   "outputs": [
    {
     "data": {
      "text/plain": [
       "Text(0, 0.5, 'USD')"
      ]
     },
     "execution_count": 4,
     "metadata": {},
     "output_type": "execute_result"
    },
    {
     "data": {
      "image/png": "[encoded data removed]",
      "text/plain": [
       "<Figure size 720x576 with 1 Axes>"
      ]
     },
     "metadata": {
      "needs_background": "light"
     },
     "output_type": "display_data"
    }
   ],
   "source": [
    "# Plot adjusted close over time\n",
    "rcParams['figure.figsize'] = 10, 8 # width 10, height 8\n",
    "\n",
    "ax = df.plot(x='date', y='adj_close', style='b-', grid=True)\n",
    "ax.set_xlabel(\"date\")\n",
    "ax.set_ylabel(\"USD\")"
   ]
  },
  {
   "cell_type": "markdown",
   "metadata": {},
   "source": [
    "# Feature Engineering"
   ]
  },
  {
   "cell_type": "markdown",
   "metadata": {
    "collapsed": true
   },
   "source": [
    "We will generate the following features:\n",
    "* Mean 'adj_close' of each month\n",
    "* Difference between high and low of each day\n",
    "* Difference between open and close of each day\n",
    "* Mean volume of each month"
   ]
  },
  {
   "cell_type": "code",
   "execution_count": 5,
   "metadata": {
    "pycharm": {
     "is_executing": false
    },
    "scrolled": true
   },
   "outputs": [
    {
     "data": {
      "text/html": [
       "<div>\n",
       "<style scoped>\n",
       "    .dataframe tbody tr th:only-of-type {\n",
       "        vertical-align: middle;\n",
       "    }\n",
       "\n",
       "    .dataframe tbody tr th {\n",
       "        vertical-align: top;\n",
       "    }\n",
       "\n",
       "    .dataframe thead th {\n",
       "        text-align: right;\n",
       "    }\n",
       "</style>\n",
       "<table border=\"1\" class=\"dataframe\">\n",
       "  <thead>\n",
       "    <tr style=\"text-align: right;\">\n",
       "      <th></th>\n",
       "      <th>date</th>\n",
       "      <th>volume</th>\n",
       "      <th>adj_close</th>\n",
       "      <th>month</th>\n",
       "      <th>range_hl</th>\n",
       "      <th>range_oc</th>\n",
       "    </tr>\n",
       "  </thead>\n",
       "  <tbody>\n",
       "    <tr>\n",
       "      <th>2665</th>\n",
       "      <td>2007-01-04</td>\n",
       "      <td>3.212987e+09</td>\n",
       "      <td>1723.69</td>\n",
       "      <td>1</td>\n",
       "      <td>28.593</td>\n",
       "      <td>15.239</td>\n",
       "    </tr>\n",
       "    <tr>\n",
       "      <th>2666</th>\n",
       "      <td>2007-01-05</td>\n",
       "      <td>2.954547e+09</td>\n",
       "      <td>1770.47</td>\n",
       "      <td>1</td>\n",
       "      <td>57.746</td>\n",
       "      <td>-51.187</td>\n",
       "    </tr>\n",
       "    <tr>\n",
       "      <th>1723</th>\n",
       "      <td>2007-01-08</td>\n",
       "      <td>3.971932e+09</td>\n",
       "      <td>1851.96</td>\n",
       "      <td>1</td>\n",
       "      <td>78.941</td>\n",
       "      <td>-78.937</td>\n",
       "    </tr>\n",
       "    <tr>\n",
       "      <th>1724</th>\n",
       "      <td>2007-01-09</td>\n",
       "      <td>4.284591e+09</td>\n",
       "      <td>1891.87</td>\n",
       "      <td>1</td>\n",
       "      <td>39.822</td>\n",
       "      <td>-36.523</td>\n",
       "    </tr>\n",
       "    <tr>\n",
       "      <th>2667</th>\n",
       "      <td>2007-01-10</td>\n",
       "      <td>4.540634e+09</td>\n",
       "      <td>1940.83</td>\n",
       "      <td>1</td>\n",
       "      <td>56.213</td>\n",
       "      <td>-44.119</td>\n",
       "    </tr>\n",
       "  </tbody>\n",
       "</table>\n",
       "</div>"
      ],
      "text/plain": [
       "           date        volume  adj_close  month  range_hl  range_oc\n",
       "2665 2007-01-04  3.212987e+09    1723.69      1    28.593    15.239\n",
       "2666 2007-01-05  2.954547e+09    1770.47      1    57.746   -51.187\n",
       "1723 2007-01-08  3.971932e+09    1851.96      1    78.941   -78.937\n",
       "1724 2007-01-09  4.284591e+09    1891.87      1    39.822   -36.523\n",
       "2667 2007-01-10  4.540634e+09    1940.83      1    56.213   -44.119"
      ]
     },
     "execution_count": 5,
     "metadata": {},
     "output_type": "execute_result"
    }
   ],
   "source": [
    "# Get difference between high and low of each day\n",
    "df['range_hl'] = df['high'] - df['low']\n",
    "df.drop(['high', 'low'], axis=1, inplace=True)\n",
    "\n",
    "# Get difference between open and close of each day\n",
    "df['range_oc'] = df['open'] - df['close']\n",
    "df.drop(['open', 'close'], axis=1, inplace=True)\n",
    "\n",
    "df.head()"
   ]
  },
  {
   "cell_type": "markdown",
   "metadata": {},
   "source": [
    "Now we use lags up to N number of days to use as features."
   ]
  },
  {
   "cell_type": "code",
   "execution_count": 6,
   "metadata": {
    "pycharm": {
     "is_executing": false
    }
   },
   "outputs": [],
   "source": [
    "# Add a column 'order_day' to indicate the order of the rows by date\n",
    "df['order_day'] = [x for x in list(range(len(df)))]\n",
    "\n",
    "# merging_keys\n",
    "merging_keys = ['order_day']\n",
    "\n",
    "# List of columns that we will use to create lags\n",
    "lag_cols = ['adj_close', 'range_hl', 'range_oc', 'volume']\n"
   ]
  },
  {
   "cell_type": "code",
   "execution_count": 7,
   "metadata": {
    "scrolled": true
   },
   "outputs": [
    {
     "data": {
      "text/html": [
       "<div>\n",
       "<style scoped>\n",
       "    .dataframe tbody tr th:only-of-type {\n",
       "        vertical-align: middle;\n",
       "    }\n",
       "\n",
       "    .dataframe tbody tr th {\n",
       "        vertical-align: top;\n",
       "    }\n",
       "\n",
       "    .dataframe thead th {\n",
       "        text-align: right;\n",
       "    }\n",
       "</style>\n",
       "<table border=\"1\" class=\"dataframe\">\n",
       "  <thead>\n",
       "    <tr style=\"text-align: right;\">\n",
       "      <th></th>\n",
       "      <th>date</th>\n",
       "      <th>volume</th>\n",
       "      <th>adj_close</th>\n",
       "      <th>month</th>\n",
       "      <th>range_hl</th>\n",
       "      <th>range_oc</th>\n",
       "      <th>order_day</th>\n",
       "    </tr>\n",
       "  </thead>\n",
       "  <tbody>\n",
       "    <tr>\n",
       "      <th>2665</th>\n",
       "      <td>2007-01-04</td>\n",
       "      <td>3.212987e+09</td>\n",
       "      <td>1723.69</td>\n",
       "      <td>1</td>\n",
       "      <td>28.593</td>\n",
       "      <td>15.239</td>\n",
       "      <td>0</td>\n",
       "    </tr>\n",
       "    <tr>\n",
       "      <th>2666</th>\n",
       "      <td>2007-01-05</td>\n",
       "      <td>2.954547e+09</td>\n",
       "      <td>1770.47</td>\n",
       "      <td>1</td>\n",
       "      <td>57.746</td>\n",
       "      <td>-51.187</td>\n",
       "      <td>1</td>\n",
       "    </tr>\n",
       "    <tr>\n",
       "      <th>1723</th>\n",
       "      <td>2007-01-08</td>\n",
       "      <td>3.971932e+09</td>\n",
       "      <td>1851.96</td>\n",
       "      <td>1</td>\n",
       "      <td>78.941</td>\n",
       "      <td>-78.937</td>\n",
       "      <td>2</td>\n",
       "    </tr>\n",
       "    <tr>\n",
       "      <th>1724</th>\n",
       "      <td>2007-01-09</td>\n",
       "      <td>4.284591e+09</td>\n",
       "      <td>1891.87</td>\n",
       "      <td>1</td>\n",
       "      <td>39.822</td>\n",
       "      <td>-36.523</td>\n",
       "      <td>3</td>\n",
       "    </tr>\n",
       "    <tr>\n",
       "      <th>2667</th>\n",
       "      <td>2007-01-10</td>\n",
       "      <td>4.540634e+09</td>\n",
       "      <td>1940.83</td>\n",
       "      <td>1</td>\n",
       "      <td>56.213</td>\n",
       "      <td>-44.119</td>\n",
       "      <td>4</td>\n",
       "    </tr>\n",
       "  </tbody>\n",
       "</table>\n",
       "</div>"
      ],
      "text/plain": [
       "           date        volume  adj_close  month  range_hl  range_oc  order_day\n",
       "2665 2007-01-04  3.212987e+09    1723.69      1    28.593    15.239          0\n",
       "2666 2007-01-05  2.954547e+09    1770.47      1    57.746   -51.187          1\n",
       "1723 2007-01-08  3.971932e+09    1851.96      1    78.941   -78.937          2\n",
       "1724 2007-01-09  4.284591e+09    1891.87      1    39.822   -36.523          3\n",
       "2667 2007-01-10  4.540634e+09    1940.83      1    56.213   -44.119          4"
      ]
     },
     "execution_count": 7,
     "metadata": {},
     "output_type": "execute_result"
    }
   ],
   "source": [
    "df.head()"
   ]
  },
  {
   "cell_type": "code",
   "execution_count": null,
   "metadata": {
    "pycharm": {
     "is_executing": false
    }
   },
   "outputs": [],
   "source": [
    "shift_range = [x+1 for x in range(N)]\n",
    "\n",
    "for shift in tqdm_notebook(shift_range):\n",
    "    train_shift = df[merging_keys + lag_cols].copy()\n",
    "    \n",
    "    # E.g. order_day of 0 becomes 1, for shift = 1.\n",
    "    # So when this is merged with order_day of 1 in df, this will represent lag of 1.\n",
    "    train_shift['order_day'] = train_shift['order_day'] + shift\n",
    "    \n",
    "    foo = lambda x: '{}_lag_{}'.format(x, shift) if x in lag_cols else x\n",
    "    train_shift = train_shift.rename(columns=foo)\n",
    "\n",
    "    df = pd.merge(df, train_shift, on=merging_keys, how='left') #.fillna(0)\n",
    "    \n",
    "del train_shift\n",
    "\n",
    "# Remove the first N rows which contain NaNs\n",
    "df = df[N:]\n",
    "    \n",
    "df.head()"
   ]
  },
  {
   "cell_type": "code",
   "execution_count": null,
   "metadata": {
    "code_folding": [
     0
    ],
    "pycharm": {
     "is_executing": false
    }
   },
   "outputs": [],
   "source": [
    "# # Get mean of adj_close of each month\n",
    "# df_gb = df.groupby(['month'], as_index=False).agg({'adj_close':'mean'})\n",
    "# df_gb = df_gb.rename(columns={'adj_close':'adj_close_mean'})\n",
    "# df_gb\n",
    "\n",
    "# # Merge to main df\n",
    "# df = df.merge(df_gb, \n",
    "#               left_on=['month'], \n",
    "#               right_on=['month'],\n",
    "#               how='left').fillna(0)\n",
    "\n",
    "# # Merge to main df\n",
    "# shift_range = [x+1 for x in range(2)]\n",
    "\n",
    "# for shift in tqdm_notebook(shift_range):\n",
    "#     train_shift = df[merging_keys + lag_cols].copy()\n",
    "    \n",
    "#     # E.g. order_day of 0 becomes 1, for shift = 1.\n",
    "#     # So when this is merged with order_day of 1 in df, this will represent lag of 1.\n",
    "#     train_shift['order_day'] = train_shift['order_day'] + shift\n",
    "    \n",
    "#     foo = lambda x: '{}_lag_{}'.format(x, shift) if x in lag_cols else x\n",
    "#     train_shift = train_shift.rename(columns=foo)\n",
    "\n",
    "#     df = pd.merge(df, train_shift, on=merging_keys, how='left') #.fillna(0)\n",
    "    \n",
    "# del train_shift\n",
    "    \n",
    "# df"
   ]
  },
  {
   "cell_type": "code",
   "execution_count": null,
   "metadata": {
    "code_folding": [
     0
    ],
    "pycharm": {
     "is_executing": false
    }
   },
   "outputs": [],
   "source": [
    "# # Get mean of volume of each month\n",
    "# df_gb = df.groupby(['month'], as_index=False).agg({'volume':'mean'})\n",
    "# df_gb = df_gb.rename(columns={'volume':'volume_mean'})\n",
    "# df_gb\n",
    "\n",
    "# # Merge to main df\n",
    "# df = df.merge(df_gb, \n",
    "#               left_on=['month'], \n",
    "#               right_on=['month'],\n",
    "#               how='left').fillna(0)\n",
    "\n",
    "# df.head()"
   ]
  },
  {
   "cell_type": "markdown",
   "metadata": {},
   "source": [
    "# Get mean and std dev at timestamp t using values from t-1, ..., t-N"
   ]
  },
  {
   "cell_type": "code",
   "execution_count": null,
   "metadata": {
    "pycharm": {
     "is_executing": false
    }
   },
   "outputs": [],
   "source": [
    "cols_list = [\n",
    "\"adj_close\",\n",
    "\"range_hl\",\n",
    "\"range_oc\",\n",
    "\"volume\"\n",
    "]\n",
    "\n",
    "for col in cols_list:\n",
    "    df = get_mov_avg_std(df, col, N)\n",
    "df.head()"
   ]
  },
  {
   "cell_type": "markdown",
   "metadata": {},
   "source": [
    "# Split into train, dev and test set"
   ]
  },
  {
   "cell_type": "code",
   "execution_count": null,
   "metadata": {
    "pycharm": {
     "is_executing": false
    }
   },
   "outputs": [],
   "source": [
    "# Get sizes of each of the datasets\n",
    "num_cv = int(cv_size*len(df))\n",
    "num_test = int(test_size*len(df))\n",
    "num_train = len(df) - num_cv - num_test\n",
    "print(\"num_train = \" + str(num_train))\n",
    "print(\"num_cv = \" + str(num_cv))\n",
    "print(\"num_test = \" + str(num_test))\n",
    "\n",
    "# Split into train, cv, and test\n",
    "train = df[:num_train]\n",
    "cv = df[num_train:num_train+num_cv]\n",
    "train_cv = df[:num_train+num_cv]\n",
    "test = df[num_train+num_cv:]\n",
    "print(\"train.shape = \" + str(train.shape))\n",
    "print(\"cv.shape = \" + str(cv.shape))\n",
    "print(\"train_cv.shape = \" + str(train_cv.shape))\n",
    "print(\"test.shape = \" + str(test.shape))"
   ]
  },
  {
   "cell_type": "markdown",
   "metadata": {},
   "source": [
    "# Scale the train, dev and test set"
   ]
  },
  {
   "cell_type": "code",
   "execution_count": null,
   "metadata": {
    "pycharm": {
     "is_executing": false
    }
   },
   "outputs": [],
   "source": [
    "cols_to_scale = [\"adj_close\"]\n",
    "\n",
    "for i in range(1, N+1):\n",
    "    cols_to_scale.append(\"adj_close_lag_\"+str(i))\n",
    "    cols_to_scale.append(\"range_hl_lag_\"+str(i))\n",
    "    cols_to_scale.append(\"range_oc_lag_\"+str(i))\n",
    "    cols_to_scale.append(\"volume_lag_\"+str(i))\n",
    "\n",
    "# Do scaling for train set\n",
    "# Here we only scale the train dataset, and not the entire dataset to prevent information leak\n",
    "scaler = StandardScaler()\n",
    "train_scaled = scaler.fit_transform(train[cols_to_scale])\n",
    "print(\"scaler.mean_ = \" + str(scaler.mean_))\n",
    "print(\"scaler.var_ = \" + str(scaler.var_))\n",
    "print(\"train_scaled.shape = \" + str(train_scaled.shape))\n",
    "\n",
    "# Convert the numpy array back into pandas dataframe\n",
    "train_scaled = pd.DataFrame(train_scaled, columns=cols_to_scale)\n",
    "train_scaled[['date', 'month']] = train.reset_index()[['date', 'month']]\n",
    "print(\"train_scaled.shape = \" + str(train_scaled.shape))\n",
    "train_scaled.head()"
   ]
  },
  {
   "cell_type": "code",
   "execution_count": null,
   "metadata": {
    "pycharm": {
     "is_executing": false
    }
   },
   "outputs": [],
   "source": [
    "# Do scaling for train+dev set\n",
    "scaler_train_cv = StandardScaler()\n",
    "train_cv_scaled = scaler_train_cv.fit_transform(train_cv[cols_to_scale])\n",
    "print(\"scaler_train_cv.mean_ = \" + str(scaler_train_cv.mean_))\n",
    "print(\"scaler_train_cv.var_ = \" + str(scaler_train_cv.var_))\n",
    "print(\"train_cv_scaled.shape = \" + str(train_cv_scaled.shape))\n",
    "\n",
    "# Convert the numpy array back into pandas dataframe\n",
    "train_cv_scaled = pd.DataFrame(train_cv_scaled, columns=cols_to_scale)\n",
    "train_cv_scaled[['date', 'month']] = train_cv.reset_index()[['date', 'month']]\n",
    "print(\"train_cv_scaled.shape = \" + str(train_cv_scaled.shape))\n",
    "train_cv_scaled.head()"
   ]
  },
  {
   "cell_type": "code",
   "execution_count": null,
   "metadata": {
    "pycharm": {
     "is_executing": false
    }
   },
   "outputs": [],
   "source": [
    "# Do scaling for dev set\n",
    "cv_scaled = cv[['date']]\n",
    "for col in tqdm_notebook(cols_list):\n",
    "    feat_list = [col + '_lag_' + str(shift) for shift in range(1, N+1)]\n",
    "    temp = cv.apply(lambda row: scale_row(row[feat_list], row[col+'_mean'], row[col+'_std']), axis=1)\n",
    "    cv_scaled = pd.concat([cv_scaled, temp], axis=1)\n",
    "    \n",
    "# Now the entire dev set is scaled\n",
    "cv_scaled.head()"
   ]
  },
  {
   "cell_type": "code",
   "execution_count": null,
   "metadata": {
    "pycharm": {
     "is_executing": false
    }
   },
   "outputs": [],
   "source": [
    "# Do scaling for test set\n",
    "test_scaled = test[['date']]\n",
    "for col in tqdm_notebook(cols_list):\n",
    "    feat_list = [col + '_lag_' + str(shift) for shift in range(1, N+1)]\n",
    "    temp = test.apply(lambda row: scale_row(row[feat_list], row[col+'_mean'], row[col+'_std']), axis=1)\n",
    "    test_scaled = pd.concat([test_scaled, temp], axis=1)\n",
    "    \n",
    "# Now the entire test set is scaled\n",
    "test_scaled.head()"
   ]
  },
  {
   "cell_type": "markdown",
   "metadata": {},
   "source": [
    "# Split into X and y"
   ]
  },
  {
   "cell_type": "code",
   "execution_count": null,
   "metadata": {
    "pycharm": {
     "is_executing": false
    }
   },
   "outputs": [],
   "source": [
    "features = []\n",
    "for i in range(1,N+1):\n",
    "    features.append(\"adj_close_lag_\"+str(i))\n",
    "    features.append(\"range_hl_lag_\"+str(i))\n",
    "    features.append(\"range_oc_lag_\"+str(i))\n",
    "    features.append(\"volume_lag_\"+str(i))\n",
    "\n",
    "target = \"adj_close\"\n",
    "\n",
    "\n",
    "# Split into X and y\n",
    "X_train = train[features]\n",
    "y_train = train[target]\n",
    "X_cv = cv[features]\n",
    "y_cv = cv[target]\n",
    "X_train_cv = train_cv[features]\n",
    "y_train_cv = train_cv[target]\n",
    "X_sample = test[features]\n",
    "y_sample = test[target]\n",
    "print(\"X_train.shape = \" + str(X_train.shape))\n",
    "print(\"y_train.shape = \" + str(y_train.shape))\n",
    "print(\"X_cv.shape = \" + str(X_cv.shape))\n",
    "print(\"y_cv.shape = \" + str(y_cv.shape))\n",
    "print(\"X_train_cv.shape = \" + str(X_train_cv.shape))\n",
    "print(\"y_train_cv.shape = \" + str(y_train_cv.shape))\n",
    "print(\"X_sample.shape = \" + str(X_sample.shape))\n",
    "print(\"y_sample.shape = \" + str(y_sample.shape))"
   ]
  },
  {
   "cell_type": "code",
   "execution_count": null,
   "metadata": {
    "pycharm": {
     "is_executing": false
    }
   },
   "outputs": [],
   "source": [
    "# Split into X and y\n",
    "X_train_scaled = train_scaled[features]\n",
    "y_train_scaled = train_scaled[target]\n",
    "X_cv_scaled = cv_scaled[features]\n",
    "X_train_cv_scaled = train_cv_scaled[features]\n",
    "y_train_cv_scaled = train_cv_scaled[target]\n",
    "X_sample_scaled = test_scaled[features]\n",
    "print(\"X_train_scaled.shape = \" + str(X_train_scaled.shape))\n",
    "print(\"y_train_scaled.shape = \" + str(y_train_scaled.shape))\n",
    "print(\"X_cv_scaled.shape = \" + str(X_cv_scaled.shape))\n",
    "print(\"X_train_cv_scaled.shape = \" + str(X_train_cv_scaled.shape))\n",
    "print(\"y_train_cv_scaled.shape = \" + str(y_train_cv_scaled.shape))\n",
    "print(\"X_sample_scaled.shape = \" + str(X_sample_scaled.shape))"
   ]
  },
  {
   "cell_type": "markdown",
   "metadata": {},
   "source": [
    "# EDA"
   ]
  },
  {
   "cell_type": "code",
   "execution_count": null,
   "metadata": {
    "code_folding": [
     0
    ],
    "pycharm": {
     "is_executing": false
    }
   },
   "outputs": [],
   "source": [
    "# Plot adjusted close over time\n",
    "rcParams['figure.figsize'] = 10, 8 # width 10, height 8\n",
    "\n",
    "ax = train.plot(x='date', y='adj_close', style='b-', grid=True)\n",
    "ax = cv.plot(x='date', y='adj_close', style='y-', grid=True, ax=ax)\n",
    "ax = test.plot(x='date', y='adj_close', style='g-', grid=True, ax=ax)\n",
    "ax.legend(['train', 'dev', 'test'])\n",
    "ax.set_xlabel(\"date\")\n",
    "ax.set_ylabel(\"USD\")\n",
    "ax.set_title(\"Without scaling\")"
   ]
  },
  {
   "cell_type": "code",
   "execution_count": null,
   "metadata": {
    "code_folding": [
     0
    ],
    "pycharm": {
     "is_executing": false
    }
   },
   "outputs": [],
   "source": [
    "# Plot adjusted close over time\n",
    "rcParams['figure.figsize'] = 10, 8 # width 10, height 8\n",
    "\n",
    "ax = train_scaled.plot(x='date', y='adj_close', style='b-', grid=True)\n",
    "ax.legend(['train_scaled'])\n",
    "ax.set_xlabel(\"date\")\n",
    "ax.set_ylabel(\"USD (scaled)\")\n",
    "ax.set_title(\"With scaling\")"
   ]
  },
  {
   "cell_type": "markdown",
   "metadata": {
    "collapsed": true
   },
   "source": [
    "# Train the model using XGBoost"
   ]
  },
  {
   "cell_type": "code",
   "execution_count": null,
   "metadata": {
    "code_folding": [
     13
    ]
   },
   "outputs": [],
   "source": [
    "import sys\n",
    "sys.path.append('../')\n",
    "sys.path.append('../../')\n",
    "sys.path.append('../../../')\n",
    "from src.models.m1_xgb import *\n",
    "from src.conf.configuration import regress_conf\n",
    "\n",
    "# load xgboost regression configuration\n",
    "regress_conf.xgb_config_r()\n",
    "regress_conf.cv_folds = None\n",
    "regress_conf.early_stop_round = 1000\n",
    "regress_conf.max_round = 10000\n",
    "\n",
    "param = {'base_score':0.5, \n",
    "         'booster':'gbtree', \n",
    "         'colsample_bylevel':1,\n",
    "         'colsample_bynode':1, \n",
    "         'colsample_bytree':1, \n",
    "         'gamma':0,\n",
    "         'importance_type':'gain',\n",
    "         'learning_rate':0.1,\n",
    "         'max_delta_step':0,\n",
    "         'max_depth':3,\n",
    "         'min_child_weight':1,\n",
    "         'missing':None,\n",
    "         'n_estimators':100,\n",
    "         'n_jobs':1,\n",
    "         'nthread':4,\n",
    "         'objective':'reg:linear',\n",
    "         'random_state':0,\n",
    "         'reg_alpha':0,\n",
    "         'reg_lambda':1,\n",
    "         'scale_pos_weight':1,\n",
    "         'seed':100,\n",
    "         'subsample':1, \n",
    "         'verbosity':1\n",
    "        }\n",
    "regress_conf.params.update(param)\n",
    "\n",
    "xgb_m = XGBooster(regress_conf)\n",
    "best_score, best_round, best_model = xgb_m.fit(X_train_scaled.values, y_train_scaled.values)\n"
   ]
  },
  {
   "cell_type": "code",
   "execution_count": null,
   "metadata": {
    "scrolled": true
   },
   "outputs": [],
   "source": [
    "# Do prediction on train set\n",
    "est_scaled = xgb_m.predict(best_model ,X_train_scaled.values)\n",
    "est = est_scaled * math.sqrt(scaler.var_[0]) + scaler.mean_[0]\n",
    "\n",
    "# Calculate RMSE\n",
    "print(\"RMSE on train set = %0.3f\" % math.sqrt(mean_squared_error(y_train, est)))\n",
    "\n",
    "# Calculate MAPE\n",
    "print(\"MAPE on train set = %0.3f%%\" % get_mape(y_train, est))"
   ]
  },
  {
   "cell_type": "code",
   "execution_count": null,
   "metadata": {
    "code_folding": [
     0
    ],
    "pycharm": {
     "is_executing": false
    }
   },
   "outputs": [],
   "source": [
    "# # Create the model\n",
    "# from xgboost import XGBRegressor\n",
    "\n",
    "# model = XGBRegressor(seed=model_seed,\n",
    "#                      n_estimators=n_estimators,\n",
    "#                      max_depth=max_depth,\n",
    "#                      learning_rate=learning_rate,\n",
    "#                      min_child_weight=min_child_weight,\n",
    "#                      subsample=subsample,\n",
    "#                      colsample_bytree=colsample_bytree,\n",
    "#                      colsample_bylevel=colsample_bylevel,\n",
    "#                      gamma=gamma)\n",
    "\n",
    "# # Train the regressor\n",
    "# model.fit(X_train_scaled, y_train_scaled)\n"
   ]
  },
  {
   "cell_type": "markdown",
   "metadata": {},
   "source": [
    "# Predict on train set"
   ]
  },
  {
   "cell_type": "code",
   "execution_count": null,
   "metadata": {
    "code_folding": [
     0
    ],
    "pycharm": {
     "is_executing": false
    }
   },
   "outputs": [],
   "source": [
    "# # Do prediction on train set\n",
    "# est_scaled = model.predict(X_train_scaled)\n",
    "# est = est_scaled * math.sqrt(scaler.var_[0]) + scaler.mean_[0]\n",
    "\n",
    "# # Calculate RMSE\n",
    "# print(\"RMSE on train set = %0.3f\" % math.sqrt(mean_squared_error(y_train, est)))\n",
    "\n",
    "# # Calculate MAPE\n",
    "# print(\"MAPE on train set = %0.3f%%\" % get_mape(y_train, est))"
   ]
  },
  {
   "cell_type": "code",
   "execution_count": null,
   "metadata": {
    "code_folding": [],
    "pycharm": {
     "is_executing": false
    }
   },
   "outputs": [],
   "source": [
    "# Plot adjusted close over time\n",
    "rcParams['figure.figsize'] = 10, 8 # width 10, height 8\n",
    "\n",
    "est_df = pd.DataFrame({'est': est, \n",
    "                       'date': train['date']})\n",
    "\n",
    "ax = train.plot(x='date', y='adj_close', style='b-', grid=True)\n",
    "ax = cv.plot(x='date', y='adj_close', style='y-', grid=True, ax=ax)\n",
    "ax = test.plot(x='date', y='adj_close', style='g-', grid=True, ax=ax)\n",
    "ax = est_df.plot(x='date', y='est', style='r-', grid=True, ax=ax)\n",
    "ax.legend(['train', 'dev', 'test', 'predictions'])\n",
    "ax.set_xlabel(\"date\")\n",
    "ax.set_ylabel(\"USD\")\n",
    "ax.set_title('Without scaling')"
   ]
  },
  {
   "cell_type": "markdown",
   "metadata": {},
   "source": [
    "# Predict on dev set"
   ]
  },
  {
   "cell_type": "code",
   "execution_count": null,
   "metadata": {
    "pycharm": {
     "is_executing": false
    }
   },
   "outputs": [],
   "source": [
    "# Do prediction on test set\n",
    "est_scaled = xgb_m.predict(best_model, X_cv_scaled.values)\n",
    "cv['est_scaled'] = est_scaled\n",
    "cv['est'] = cv['est_scaled'] * cv['adj_close_std'] + cv['adj_close_mean']\n",
    "\n",
    "# Calculate RMSE\n",
    "rmse_bef_tuning = math.sqrt(mean_squared_error(y_cv, cv['est']))\n",
    "print(\"RMSE on dev set = %0.3f\" % rmse_bef_tuning)\n",
    "\n",
    "# Calculate MAPE\n",
    "mape_bef_tuning = get_mape(y_cv, cv['est'])\n",
    "print(\"MAPE on dev set = %0.3f%%\" % mape_bef_tuning)"
   ]
  },
  {
   "cell_type": "code",
   "execution_count": null,
   "metadata": {
    "pycharm": {
     "is_executing": false
    },
    "scrolled": false
   },
   "outputs": [],
   "source": [
    "# Plot adjusted close over time\n",
    "rcParams['figure.figsize'] = 10, 8 # width 10, height 8\n",
    "\n",
    "est_df = pd.DataFrame({'est': cv['est'], \n",
    "                       'y_cv': y_cv,\n",
    "                       'date': cv['date']})\n",
    "\n",
    "ax = train.plot(x='date', y='adj_close', style='b-', grid=True)\n",
    "ax = cv.plot(x='date', y='adj_close', style='y-', grid=True, ax=ax)\n",
    "ax = test.plot(x='date', y='adj_close', style='g-', grid=True, ax=ax)\n",
    "ax = est_df.plot(x='date', y='est', style='r-', grid=True, ax=ax)\n",
    "ax.legend(['train', 'dev', 'test', 'predictions'])\n",
    "ax.set_xlabel(\"date\")\n",
    "ax.set_ylabel(\"USD\")"
   ]
  },
  {
   "cell_type": "code",
   "execution_count": null,
   "metadata": {
    "pycharm": {
     "is_executing": false
    },
    "scrolled": false
   },
   "outputs": [],
   "source": [
    "# Plot adjusted close over time, for dev set only\n",
    "rcParams['figure.figsize'] = 10, 8 # width 10, height 8\n",
    "ax = train.plot(x='date', y='adj_close', style='b-', grid=True)\n",
    "ax = cv.plot(x='date', y='adj_close', style='y-', grid=True, ax=ax)\n",
    "ax = test.plot(x='date', y='adj_close', style='g-', grid=True, ax=ax)\n",
    "ax = est_df.plot(x='date', y='est', style='r-', grid=True, ax=ax)\n",
    "ax.legend(['train', 'dev', 'test', 'predictions'])\n",
    "ax.set_xlabel(\"date\")\n",
    "ax.set_ylabel(\"USD\")\n",
    "# ax.set_xlim([date(2018, 4, 20), date(2019, 2, 20)])\n",
    "\n",
    "ax.set_xlim([date(2014, 9, 20), date(2017, 5, 10)])\n",
    "ax.set_title(\"Zoom in to dev set\")"
   ]
  },
  {
   "cell_type": "markdown",
   "metadata": {},
   "source": [
    "The predictions capture the turn in directions with a slight lag"
   ]
  },
  {
   "cell_type": "markdown",
   "metadata": {},
   "source": [
    "Importance features dominated by adj_close and volume"
   ]
  },
  {
   "cell_type": "markdown",
   "metadata": {},
   "source": [
    "# Final model"
   ]
  },
  {
   "cell_type": "code",
   "execution_count": null,
   "metadata": {},
   "outputs": [],
   "source": [
    "# load xgboost regression configuration\n",
    "regress_conf.xgb_config_r()\n",
    "regress_conf.cv_folds = None\n",
    "regress_conf.early_stop_round = 1000\n",
    "regress_conf.max_round = 10000\n",
    "\n",
    "param = {'base_score':0.5, \n",
    "         'booster':'gbtree', \n",
    "         'colsample_bylevel':1,\n",
    "         'colsample_bynode':1, \n",
    "         'colsample_bytree':1, \n",
    "         'gamma':0,\n",
    "         'importance_type':'gain',\n",
    "         'learning_rate':0.1,\n",
    "         'max_delta_step':0,\n",
    "         'max_depth':3,\n",
    "         'min_child_weight':1,\n",
    "         'missing':None,\n",
    "         'n_estimators':100,\n",
    "         'n_jobs':1,\n",
    "         'nthread':4,\n",
    "         'objective':'reg:linear',\n",
    "         'random_state':0,\n",
    "         'reg_alpha':0,\n",
    "         'reg_lambda':1,\n",
    "         'scale_pos_weight':1,\n",
    "         'seed':100,\n",
    "         'subsample':1, \n",
    "         'verbosity':1\n",
    "        }\n",
    "regress_conf.params.update(param)\n",
    "\n",
    "xgb_m = XGBooster(regress_conf)\n",
    "best_score, best_round, best_model = xgb_m.fit(X_train_cv_scaled.values, y_train_cv_scaled.values )"
   ]
  },
  {
   "cell_type": "code",
   "execution_count": null,
   "metadata": {},
   "outputs": [],
   "source": [
    "# Do prediction on train set\n",
    "est_scaled = xgb_m.predict(best_model ,X_train_cv_scaled.values)\n",
    "est = est_scaled * math.sqrt(scaler_train_cv.var_[0]) + scaler_train_cv.mean_[0]\n",
    "\n",
    "# Calculate RMSE\n",
    "print(\"RMSE on train set = %0.3f\" % math.sqrt(mean_squared_error(y_train_cv, est)))\n",
    "\n",
    "# Calculate MAPE\n",
    "print(\"MAPE on train set = %0.3f%%\" % get_mape(y_train_cv, est))"
   ]
  },
  {
   "cell_type": "code",
   "execution_count": null,
   "metadata": {
    "code_folding": [
     0
    ]
   },
   "outputs": [],
   "source": [
    "# Plot adjusted close over time\n",
    "rcParams['figure.figsize'] = 10, 8 # width 10, height 8\n",
    "\n",
    "est_df = pd.DataFrame({'est': est, \n",
    "                       'date': train_cv['date']})\n",
    "\n",
    "ax = train.plot(x='date', y='adj_close', style='b-', grid=True)\n",
    "ax = cv.plot(x='date', y='adj_close', style='y-', grid=True, ax=ax)\n",
    "ax = test.plot(x='date', y='adj_close', style='g-', grid=True, ax=ax)\n",
    "ax = est_df.plot(x='date', y='est', style='r-', grid=True, ax=ax)\n",
    "ax.legend(['train', 'dev', 'test', 'predictions'])\n",
    "ax.set_xlabel(\"date\")\n",
    "ax.set_ylabel(\"USD\")\n",
    "ax.set_title('Without scaling')"
   ]
  },
  {
   "cell_type": "code",
   "execution_count": null,
   "metadata": {
    "code_folding": [],
    "pycharm": {
     "is_executing": false
    }
   },
   "outputs": [],
   "source": [
    "# Do prediction on test set\n",
    "est_scaled = xgb_m.predict(best_model, X_sample_scaled.values)\n",
    "test['est_scaled'] = est_scaled\n",
    "test['est'] = test['est_scaled'] * test['adj_close_std'] + test['adj_close_mean']\n",
    "\n",
    "# Calculate RMSE\n",
    "rmse_bef_tuning = math.sqrt(mean_squared_error(y_sample, test['est']))\n",
    "print(\"RMSE on test set = %0.3f\" % rmse_bef_tuning)\n",
    "\n",
    "# Calculate MAPE\n",
    "mape_bef_tuning = get_mape(y_cv, cv['est'])\n",
    "print(\"MAPE on test set = %0.3f%%\" % mape_bef_tuning)"
   ]
  },
  {
   "cell_type": "code",
   "execution_count": null,
   "metadata": {
    "code_folding": [
     0
    ],
    "pycharm": {
     "is_executing": false
    }
   },
   "outputs": [],
   "source": [
    "# Plot adjusted close over time\n",
    "rcParams['figure.figsize'] = 10, 8 # width 10, height 8\n",
    "\n",
    "est_df = pd.DataFrame({'est': test['est'], \n",
    "                       'y_sample': y_sample,\n",
    "                       'date': test['date']})\n",
    "\n",
    "ax = train.plot(x='date', y='adj_close', style='b-', grid=True)\n",
    "ax = cv.plot(x='date', y='adj_close', style='y-', grid=True, ax=ax)\n",
    "ax = test.plot(x='date', y='adj_close', style='g-', grid=True, ax=ax)\n",
    "ax = est_df.plot(x='date', y='est', style='r-', grid=True, ax=ax)\n",
    "ax.legend(['train', 'dev', 'test', 'predictions'])\n",
    "ax.set_xlabel(\"date\")\n",
    "ax.set_ylabel(\"USD\")"
   ]
  },
  {
   "cell_type": "code",
   "execution_count": null,
   "metadata": {
    "pycharm": {
     "is_executing": false
    }
   },
   "outputs": [],
   "source": [
    "# Plot adjusted close over time, for test set only\n",
    "rcParams['figure.figsize'] = 10, 8 # width 10, height 8\n",
    "ax = train.plot(x='date', y='adj_close', style='b-', grid=True)\n",
    "ax = cv.plot(x='date', y='adj_close', style='y-', grid=True, ax=ax)\n",
    "ax = test.plot(x='date', y='adj_close', style='g-', grid=True, ax=ax)\n",
    "ax = est_df.plot(x='date', y='est', style='r-', grid=True, ax=ax)\n",
    "ax.legend(['train', 'dev', 'test', 'predictions'])\n",
    "ax.set_xlabel(\"date\")\n",
    "ax.set_ylabel(\"USD\")\n",
    "ax.set_xlim([date(2017, 4, 20), date(2019, 11, 29)])\n",
    "ax.set_ylim([4000, 6800])\n",
    "ax.set_title(\"Zoom in to test set\")"
   ]
  },
  {
   "cell_type": "markdown",
   "metadata": {},
   "source": [
    "Similar to dev set, the predictions capture turns in direction with a slight lag"
   ]
  },
  {
   "cell_type": "code",
   "execution_count": null,
   "metadata": {
    "pycharm": {
     "is_executing": false
    }
   },
   "outputs": [],
   "source": [
    "# Plot adjusted close over time, only for test set\n",
    "rcParams['figure.figsize'] = 50, 40 # width 10, height 8\n",
    "matplotlib.rcParams.update({'font.size': 14})\n",
    "\n",
    "ax = test.plot(x='date', y='adj_close', style='gx-', grid=True)\n",
    "ax = est_df.plot(x='date', y='est', style='rx-', grid=True, ax=ax)\n",
    "ax.legend(['test', 'predictions using xgboost'], loc='upper left')\n",
    "ax.set_xlabel(\"date\")\n",
    "ax.set_ylabel(\"USD\")\n",
    "ax.set_xlim([date(2017, 4, 20), date(2019, 11, 29)])\n",
    "ax.set_ylim([3944, 6730])"
   ]
  },
  {
   "cell_type": "code",
   "execution_count": null,
   "metadata": {
    "pycharm": {
     "is_executing": false
    }
   },
   "outputs": [],
   "source": [
    "# # Save as csv\n",
    "# test_xgboost = est_df\n",
    "# test_xgboost.to_csv(\"./out/test_xgboost.csv\")"
   ]
  },
  {
   "cell_type": "markdown",
   "metadata": {
    "collapsed": true
   },
   "source": [
    "# Findings\n",
    "* By scaling the features properly, we can get good results for our predictions\n",
    "* RMSE and MAPE changed very little with hyperparameter tuning\n",
    "* The final RMSE and MAPE for test set are 1.162 and 0.58% respectively"
   ]
  },
  {
   "cell_type": "code",
   "execution_count": null,
   "metadata": {
    "pycharm": {
     "is_executing": false
    }
   },
   "outputs": [],
   "source": []
  }
 ],
 "metadata": {
  "kernelspec": {
   "display_name": "Python 3",
   "language": "python",
   "name": "python3"
  },
  "language_info": {
   "codemirror_mode": {
    "name": "ipython",
    "version": 3
   },
   "file_extension": ".py",
   "mimetype": "text/x-python",
   "name": "python",
   "nbconvert_exporter": "python",
   "pygments_lexer": "ipython3",
   "version": "3.6.7"
  },
  "latex_envs": {
   "LaTeX_envs_menu_present": true,
   "autoclose": false,
   "autocomplete": true,
   "bibliofile": "biblio.bib",
   "cite_by": "apalike",
   "current_citInitial": 1,
   "eqLabelWithNumbers": true,
   "eqNumInitial": 1,
   "hotkeys": {
    "equation": "Ctrl-E",
    "itemize": "Ctrl-I"
   },
   "labels_anchors": false,
   "latex_user_defs": false,
   "report_style_numbering": false,
   "user_envs_cfg": false
  }
 },
 "nbformat": 4,
 "nbformat_minor": 2
}
