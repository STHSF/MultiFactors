{
 "cells": [
  {
   "cell_type": "code",
   "execution_count": 1,
   "metadata": {},
   "outputs": [],
   "source": [
    "%matplotlib inline\n",
    "import os\n",
    "import numpy as np\n",
    "import pandas as pd\n",
    "from alphamind.api import *\n",
    "from PyFin.api import *\n",
    "from config import *\n",
    "from models import *\n",
    "from sqlalchemy import *\n",
    "from matplotlib import rc\n",
    "from matplotlib import pyplot as plt\n",
    "\n",
    "plt.style.use(\"seaborn-poster\")\n",
    "rc('font', **{'family': 'Microsoft Yahei', 'size': 10})\n",
    "rc('mathtext', **{'default': 'regular'})\n",
    "rc('legend', **{'frameon': False})"
   ]
  },
  {
   "cell_type": "code",
   "execution_count": 2,
   "metadata": {},
   "outputs": [
    {
     "name": "stderr",
     "output_type": "stream",
     "text": [
      "/opt/workenv/vision/lib/python3.6/site-packages/psycopg2-2.7.7-py3.6-linux-x86_64.egg/psycopg2/__init__.py:144: UserWarning: The psycopg2 wheel package will be renamed from release 2.8; in order to keep installing from binary please use \"pip install psycopg2-binary\" instead. For details see: <http://initd.org/psycopg/docs/install.html#binary-install-from-pypi>.\n",
      "  \"\"\")\n"
     ]
    }
   ],
   "source": [
    "start_date = '2000-01-01'\n",
    "end_date = '2019-06-01'\n",
    "engine = SqlEngine(alpha_db)\n",
    "\n",
    "universe_name = 'zz500'\n",
    "freq = '2b'\n",
    "freq_1 = '3b'\n",
    "freq_2 = '5b'"
   ]
  },
  {
   "cell_type": "code",
   "execution_count": 3,
   "metadata": {},
   "outputs": [],
   "source": [
    "universe = Universe(universe_name)\n",
    "dates = makeSchedule(start_date, end_date, freq, calendar='china.sse')\n",
    "factor_engine = create_engine(alpha_db)"
   ]
  },
  {
   "cell_type": "code",
   "execution_count": 4,
   "metadata": {},
   "outputs": [],
   "source": [
    "query = select([Alpha191.trade_date,Alpha191.code,Alpha191.alpha_1, Alpha191.alpha_2, \n",
    "                Alpha191.alpha_3, Alpha191.alpha_4, Alpha191.alpha_5, Alpha191.alpha_6,\n",
    "               Alpha191.alpha_7, Alpha191.alpha_8, Alpha191.alpha_9, Alpha191.alpha_10]).where(Alpha191.trade_date.in_(dates))\n",
    "\n",
    "factors = pd.read_sql(query, factor_engine)\n"
   ]
  },
  {
   "cell_type": "code",
   "execution_count": 5,
   "metadata": {},
   "outputs": [],
   "source": [
    "unicode = lambda code: ('%06d.XSHG' % int(code)) if int(code) < 600000 else ('%06d.XSHE' % int(code))"
   ]
  },
  {
   "cell_type": "code",
   "execution_count": 6,
   "metadata": {},
   "outputs": [],
   "source": [
    "factors['code'] = factors['code'].apply(unicode)\n",
    "factors['trade_date'] = factors['trade_date'].apply(lambda x: x.strftime('%Y-%m-%d'))"
   ]
  },
  {
   "cell_type": "code",
   "execution_count": 7,
   "metadata": {},
   "outputs": [
    {
     "data": {
      "text/plain": [
       "573439"
      ]
     },
     "execution_count": 7,
     "metadata": {},
     "output_type": "execute_result"
    }
   ],
   "source": [
    "zz500_df = pd.read_csv(\"return_label.csv\")\n",
    "zz500_df = zz500_df.drop(['Unnamed: 0'], axis=1)\n",
    "len(zz500_df)"
   ]
  },
  {
   "cell_type": "code",
   "execution_count": 8,
   "metadata": {},
   "outputs": [],
   "source": [
    "tmp = pd.merge(factors, zz500_df, on=['trade_date', 'code'])"
   ]
  },
  {
   "cell_type": "code",
   "execution_count": 9,
   "metadata": {},
   "outputs": [],
   "source": [
    "tmp = tmp.dropna(axis=0)"
   ]
  },
  {
   "cell_type": "code",
   "execution_count": 12,
   "metadata": {},
   "outputs": [],
   "source": [
    "tmp = tmp.sort_values(by='trade_date')"
   ]
  },
  {
   "cell_type": "code",
   "execution_count": 16,
   "metadata": {},
   "outputs": [],
   "source": [
    "tmp.to_csv('traning_sample.csv', index=0)"
   ]
  },
  {
   "cell_type": "code",
   "execution_count": null,
   "metadata": {},
   "outputs": [],
   "source": []
  }
 ],
 "metadata": {
  "kernelspec": {
   "display_name": "Python 3",
   "language": "python",
   "name": "python3"
  },
  "language_info": {
   "codemirror_mode": {
    "name": "ipython",
    "version": 3
   },
   "file_extension": ".py",
   "mimetype": "text/x-python",
   "name": "python",
   "nbconvert_exporter": "python",
   "pygments_lexer": "ipython3",
   "version": "3.6.7"
  }
 },
 "nbformat": 4,
 "nbformat_minor": 2
}
