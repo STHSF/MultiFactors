{
 "cells": [
  {
   "cell_type": "code",
   "execution_count": 1,
   "metadata": {},
   "outputs": [],
   "source": [
    "import pandas as pd"
   ]
  },
  {
   "cell_type": "code",
   "execution_count": 2,
   "metadata": {},
   "outputs": [],
   "source": [
    "training_sample = pd.read_csv('traning_sample.csv')"
   ]
  },
  {
   "cell_type": "code",
   "execution_count": 3,
   "metadata": {},
   "outputs": [
    {
     "data": {
      "text/html": [
       "<div>\n",
       "<style scoped>\n",
       "    .dataframe tbody tr th:only-of-type {\n",
       "        vertical-align: middle;\n",
       "    }\n",
       "\n",
       "    .dataframe tbody tr th {\n",
       "        vertical-align: top;\n",
       "    }\n",
       "\n",
       "    .dataframe thead th {\n",
       "        text-align: right;\n",
       "    }\n",
       "</style>\n",
       "<table border=\"1\" class=\"dataframe\">\n",
       "  <thead>\n",
       "    <tr style=\"text-align: right;\">\n",
       "      <th></th>\n",
       "      <th>code</th>\n",
       "      <th>alpha_1</th>\n",
       "      <th>alpha_2</th>\n",
       "      <th>alpha_3</th>\n",
       "      <th>alpha_4</th>\n",
       "      <th>alpha_5</th>\n",
       "      <th>alpha_6</th>\n",
       "      <th>alpha_7</th>\n",
       "      <th>alpha_8</th>\n",
       "      <th>alpha_9</th>\n",
       "      <th>alpha_10</th>\n",
       "      <th>dx_2</th>\n",
       "      <th>dx_3</th>\n",
       "      <th>dx_5</th>\n",
       "    </tr>\n",
       "    <tr>\n",
       "      <th>trade_date</th>\n",
       "      <th></th>\n",
       "      <th></th>\n",
       "      <th></th>\n",
       "      <th></th>\n",
       "      <th></th>\n",
       "      <th></th>\n",
       "      <th></th>\n",
       "      <th></th>\n",
       "      <th></th>\n",
       "      <th></th>\n",
       "      <th></th>\n",
       "      <th></th>\n",
       "      <th></th>\n",
       "      <th></th>\n",
       "    </tr>\n",
       "  </thead>\n",
       "  <tbody>\n",
       "    <tr>\n",
       "      <th>2010-01-05</th>\n",
       "      <td>000987.XSHG</td>\n",
       "      <td>-0.349339</td>\n",
       "      <td>-0.413679</td>\n",
       "      <td>0.722923</td>\n",
       "      <td>1.0</td>\n",
       "      <td>-0.634745</td>\n",
       "      <td>-0.156349</td>\n",
       "      <td>0.389836</td>\n",
       "      <td>-0.006949</td>\n",
       "      <td>4.415957e-10</td>\n",
       "      <td>0.913370</td>\n",
       "      <td>-0.054158</td>\n",
       "      <td>-0.011290</td>\n",
       "      <td>0.002194</td>\n",
       "    </tr>\n",
       "    <tr>\n",
       "      <th>2010-01-05</th>\n",
       "      <td>600607.XSHE</td>\n",
       "      <td>-0.160266</td>\n",
       "      <td>-1.755556</td>\n",
       "      <td>-0.230000</td>\n",
       "      <td>-1.0</td>\n",
       "      <td>-0.839403</td>\n",
       "      <td>-0.656665</td>\n",
       "      <td>0.441638</td>\n",
       "      <td>-0.410613</td>\n",
       "      <td>-3.013363e-08</td>\n",
       "      <td>0.973397</td>\n",
       "      <td>-0.016629</td>\n",
       "      <td>-0.026679</td>\n",
       "      <td>0.000138</td>\n",
       "    </tr>\n",
       "    <tr>\n",
       "      <th>2010-01-05</th>\n",
       "      <td>600482.XSHE</td>\n",
       "      <td>0.653265</td>\n",
       "      <td>-1.881034</td>\n",
       "      <td>0.000000</td>\n",
       "      <td>1.0</td>\n",
       "      <td>0.250000</td>\n",
       "      <td>-0.156349</td>\n",
       "      <td>0.569554</td>\n",
       "      <td>-0.263424</td>\n",
       "      <td>-5.507981e-10</td>\n",
       "      <td>0.811733</td>\n",
       "      <td>-0.032833</td>\n",
       "      <td>-0.038851</td>\n",
       "      <td>-0.022628</td>\n",
       "    </tr>\n",
       "    <tr>\n",
       "      <th>2010-01-05</th>\n",
       "      <td>600488.XSHE</td>\n",
       "      <td>-0.735000</td>\n",
       "      <td>0.409091</td>\n",
       "      <td>-0.198946</td>\n",
       "      <td>-1.0</td>\n",
       "      <td>-0.911765</td>\n",
       "      <td>-0.656665</td>\n",
       "      <td>0.087129</td>\n",
       "      <td>-0.468099</td>\n",
       "      <td>5.379824e-10</td>\n",
       "      <td>0.371078</td>\n",
       "      <td>-0.019961</td>\n",
       "      <td>-0.019961</td>\n",
       "      <td>0.005219</td>\n",
       "    </tr>\n",
       "    <tr>\n",
       "      <th>2010-01-05</th>\n",
       "      <td>600487.XSHE</td>\n",
       "      <td>-0.494135</td>\n",
       "      <td>0.424578</td>\n",
       "      <td>-0.200518</td>\n",
       "      <td>1.0</td>\n",
       "      <td>-0.514496</td>\n",
       "      <td>-0.656665</td>\n",
       "      <td>0.537650</td>\n",
       "      <td>-0.394188</td>\n",
       "      <td>1.738817e-09</td>\n",
       "      <td>0.225784</td>\n",
       "      <td>0.018079</td>\n",
       "      <td>0.068582</td>\n",
       "      <td>0.174109</td>\n",
       "    </tr>\n",
       "  </tbody>\n",
       "</table>\n",
       "</div>"
      ],
      "text/plain": [
       "                   code   alpha_1   alpha_2   alpha_3  alpha_4   alpha_5  \\\n",
       "trade_date                                                                 \n",
       "2010-01-05  000987.XSHG -0.349339 -0.413679  0.722923      1.0 -0.634745   \n",
       "2010-01-05  600607.XSHE -0.160266 -1.755556 -0.230000     -1.0 -0.839403   \n",
       "2010-01-05  600482.XSHE  0.653265 -1.881034  0.000000      1.0  0.250000   \n",
       "2010-01-05  600488.XSHE -0.735000  0.409091 -0.198946     -1.0 -0.911765   \n",
       "2010-01-05  600487.XSHE -0.494135  0.424578 -0.200518      1.0 -0.514496   \n",
       "\n",
       "             alpha_6   alpha_7   alpha_8       alpha_9  alpha_10      dx_2  \\\n",
       "trade_date                                                                   \n",
       "2010-01-05 -0.156349  0.389836 -0.006949  4.415957e-10  0.913370 -0.054158   \n",
       "2010-01-05 -0.656665  0.441638 -0.410613 -3.013363e-08  0.973397 -0.016629   \n",
       "2010-01-05 -0.156349  0.569554 -0.263424 -5.507981e-10  0.811733 -0.032833   \n",
       "2010-01-05 -0.656665  0.087129 -0.468099  5.379824e-10  0.371078 -0.019961   \n",
       "2010-01-05 -0.656665  0.537650 -0.394188  1.738817e-09  0.225784  0.018079   \n",
       "\n",
       "                dx_3      dx_5  \n",
       "trade_date                      \n",
       "2010-01-05 -0.011290  0.002194  \n",
       "2010-01-05 -0.026679  0.000138  \n",
       "2010-01-05 -0.038851 -0.022628  \n",
       "2010-01-05 -0.019961  0.005219  \n",
       "2010-01-05  0.068582  0.174109  "
      ]
     },
     "execution_count": 3,
     "metadata": {},
     "output_type": "execute_result"
    }
   ],
   "source": [
    "training_sample.set_index('trade_date').head()"
   ]
  },
  {
   "cell_type": "code",
   "execution_count": 4,
   "metadata": {},
   "outputs": [
    {
     "data": {
      "text/html": [
       "<div>\n",
       "<style scoped>\n",
       "    .dataframe tbody tr th:only-of-type {\n",
       "        vertical-align: middle;\n",
       "    }\n",
       "\n",
       "    .dataframe tbody tr th {\n",
       "        vertical-align: top;\n",
       "    }\n",
       "\n",
       "    .dataframe thead th {\n",
       "        text-align: right;\n",
       "    }\n",
       "</style>\n",
       "<table border=\"1\" class=\"dataframe\">\n",
       "  <thead>\n",
       "    <tr style=\"text-align: right;\">\n",
       "      <th></th>\n",
       "      <th>alpha_1</th>\n",
       "      <th>alpha_2</th>\n",
       "      <th>alpha_3</th>\n",
       "      <th>alpha_4</th>\n",
       "      <th>alpha_5</th>\n",
       "      <th>alpha_6</th>\n",
       "      <th>alpha_7</th>\n",
       "      <th>alpha_8</th>\n",
       "      <th>alpha_9</th>\n",
       "      <th>alpha_10</th>\n",
       "      <th>dx_2</th>\n",
       "      <th>dx_3</th>\n",
       "      <th>dx_5</th>\n",
       "    </tr>\n",
       "  </thead>\n",
       "  <tbody>\n",
       "    <tr>\n",
       "      <th>count</th>\n",
       "      <td>518023.000000</td>\n",
       "      <td>518023.000000</td>\n",
       "      <td>518023.000000</td>\n",
       "      <td>518023.000000</td>\n",
       "      <td>518023.000000</td>\n",
       "      <td>518023.000000</td>\n",
       "      <td>518023.000000</td>\n",
       "      <td>518023.000000</td>\n",
       "      <td>5.180230e+05</td>\n",
       "      <td>518023.000000</td>\n",
       "      <td>518023.000000</td>\n",
       "      <td>518023.000000</td>\n",
       "      <td>518023.000000</td>\n",
       "    </tr>\n",
       "    <tr>\n",
       "      <th>mean</th>\n",
       "      <td>-0.223767</td>\n",
       "      <td>0.004808</td>\n",
       "      <td>-0.040553</td>\n",
       "      <td>-0.244543</td>\n",
       "      <td>-0.615975</td>\n",
       "      <td>-0.498232</td>\n",
       "      <td>0.485642</td>\n",
       "      <td>-0.499461</td>\n",
       "      <td>-4.549125e-09</td>\n",
       "      <td>0.502619</td>\n",
       "      <td>-0.000173</td>\n",
       "      <td>-0.000060</td>\n",
       "      <td>-0.000208</td>\n",
       "    </tr>\n",
       "    <tr>\n",
       "      <th>std</th>\n",
       "      <td>0.484899</td>\n",
       "      <td>0.866505</td>\n",
       "      <td>0.981564</td>\n",
       "      <td>0.969639</td>\n",
       "      <td>0.395408</td>\n",
       "      <td>0.206193</td>\n",
       "      <td>0.354069</td>\n",
       "      <td>0.280626</td>\n",
       "      <td>4.518381e-07</td>\n",
       "      <td>0.285855</td>\n",
       "      <td>0.040496</td>\n",
       "      <td>0.048509</td>\n",
       "      <td>0.063117</td>\n",
       "    </tr>\n",
       "    <tr>\n",
       "      <th>min</th>\n",
       "      <td>-0.999714</td>\n",
       "      <td>-2.000000</td>\n",
       "      <td>-40.447039</td>\n",
       "      <td>-1.000000</td>\n",
       "      <td>-1.000000</td>\n",
       "      <td>-0.996671</td>\n",
       "      <td>0.000025</td>\n",
       "      <td>-1.000000</td>\n",
       "      <td>-8.109291e-05</td>\n",
       "      <td>0.000281</td>\n",
       "      <td>-0.212277</td>\n",
       "      <td>-0.316859</td>\n",
       "      <td>-0.527692</td>\n",
       "    </tr>\n",
       "    <tr>\n",
       "      <th>25%</th>\n",
       "      <td>-0.627991</td>\n",
       "      <td>-0.620690</td>\n",
       "      <td>-0.274625</td>\n",
       "      <td>-1.000000</td>\n",
       "      <td>-0.912871</td>\n",
       "      <td>-0.645267</td>\n",
       "      <td>0.182020</td>\n",
       "      <td>-0.739699</td>\n",
       "      <td>-2.255999e-09</td>\n",
       "      <td>0.253867</td>\n",
       "      <td>-0.020101</td>\n",
       "      <td>-0.024622</td>\n",
       "      <td>-0.032285</td>\n",
       "    </tr>\n",
       "    <tr>\n",
       "      <th>50%</th>\n",
       "      <td>-0.294634</td>\n",
       "      <td>0.007905</td>\n",
       "      <td>0.000000</td>\n",
       "      <td>-1.000000</td>\n",
       "      <td>-0.763763</td>\n",
       "      <td>-0.508097</td>\n",
       "      <td>0.425353</td>\n",
       "      <td>-0.497666</td>\n",
       "      <td>-9.095194e-11</td>\n",
       "      <td>0.505340</td>\n",
       "      <td>0.000000</td>\n",
       "      <td>0.000016</td>\n",
       "      <td>0.000142</td>\n",
       "    </tr>\n",
       "    <tr>\n",
       "      <th>75%</th>\n",
       "      <td>0.129716</td>\n",
       "      <td>0.632479</td>\n",
       "      <td>0.203439</td>\n",
       "      <td>1.000000</td>\n",
       "      <td>-0.444157</td>\n",
       "      <td>-0.352638</td>\n",
       "      <td>0.738426</td>\n",
       "      <td>-0.260096</td>\n",
       "      <td>9.288028e-10</td>\n",
       "      <td>0.750495</td>\n",
       "      <td>0.020356</td>\n",
       "      <td>0.025136</td>\n",
       "      <td>0.032879</td>\n",
       "    </tr>\n",
       "    <tr>\n",
       "      <th>max</th>\n",
       "      <td>0.998756</td>\n",
       "      <td>2.000000</td>\n",
       "      <td>61.160000</td>\n",
       "      <td>1.000000</td>\n",
       "      <td>1.000000</td>\n",
       "      <td>-0.004754</td>\n",
       "      <td>1.975864</td>\n",
       "      <td>-0.000280</td>\n",
       "      <td>6.979544e-05</td>\n",
       "      <td>1.000000</td>\n",
       "      <td>0.194888</td>\n",
       "      <td>0.289836</td>\n",
       "      <td>0.481638</td>\n",
       "    </tr>\n",
       "  </tbody>\n",
       "</table>\n",
       "</div>"
      ],
      "text/plain": [
       "             alpha_1        alpha_2        alpha_3        alpha_4  \\\n",
       "count  518023.000000  518023.000000  518023.000000  518023.000000   \n",
       "mean       -0.223767       0.004808      -0.040553      -0.244543   \n",
       "std         0.484899       0.866505       0.981564       0.969639   \n",
       "min        -0.999714      -2.000000     -40.447039      -1.000000   \n",
       "25%        -0.627991      -0.620690      -0.274625      -1.000000   \n",
       "50%        -0.294634       0.007905       0.000000      -1.000000   \n",
       "75%         0.129716       0.632479       0.203439       1.000000   \n",
       "max         0.998756       2.000000      61.160000       1.000000   \n",
       "\n",
       "             alpha_5        alpha_6        alpha_7        alpha_8  \\\n",
       "count  518023.000000  518023.000000  518023.000000  518023.000000   \n",
       "mean       -0.615975      -0.498232       0.485642      -0.499461   \n",
       "std         0.395408       0.206193       0.354069       0.280626   \n",
       "min        -1.000000      -0.996671       0.000025      -1.000000   \n",
       "25%        -0.912871      -0.645267       0.182020      -0.739699   \n",
       "50%        -0.763763      -0.508097       0.425353      -0.497666   \n",
       "75%        -0.444157      -0.352638       0.738426      -0.260096   \n",
       "max         1.000000      -0.004754       1.975864      -0.000280   \n",
       "\n",
       "            alpha_9       alpha_10           dx_2           dx_3  \\\n",
       "count  5.180230e+05  518023.000000  518023.000000  518023.000000   \n",
       "mean  -4.549125e-09       0.502619      -0.000173      -0.000060   \n",
       "std    4.518381e-07       0.285855       0.040496       0.048509   \n",
       "min   -8.109291e-05       0.000281      -0.212277      -0.316859   \n",
       "25%   -2.255999e-09       0.253867      -0.020101      -0.024622   \n",
       "50%   -9.095194e-11       0.505340       0.000000       0.000016   \n",
       "75%    9.288028e-10       0.750495       0.020356       0.025136   \n",
       "max    6.979544e-05       1.000000       0.194888       0.289836   \n",
       "\n",
       "                dx_5  \n",
       "count  518023.000000  \n",
       "mean       -0.000208  \n",
       "std         0.063117  \n",
       "min        -0.527692  \n",
       "25%        -0.032285  \n",
       "50%         0.000142  \n",
       "75%         0.032879  \n",
       "max         0.481638  "
      ]
     },
     "execution_count": 4,
     "metadata": {},
     "output_type": "execute_result"
    }
   ],
   "source": [
    "training_sample[['alpha_1', 'alpha_2', 'alpha_3', 'alpha_4', 'alpha_5',\n",
    "                 'alpha_6', 'alpha_7', 'alpha_8', 'alpha_9', 'alpha_10', \n",
    "                 'dx_2', 'dx_3', 'dx_5']].describe()"
   ]
  },
  {
   "cell_type": "code",
   "execution_count": 35,
   "metadata": {},
   "outputs": [
    {
     "data": {
      "text/plain": [
       "Text(0, 0.5, 'y')"
      ]
     },
     "execution_count": 35,
     "metadata": {},
     "output_type": "execute_result"
    },
    {
     "data": {
      "image/png": "[encoded data removed]",
      "text/plain": [
       "<Figure size 1152x288 with 4 Axes>"
      ]
     },
     "metadata": {
      "needs_background": "light"
     },
     "output_type": "display_data"
    }
   ],
   "source": [
    "import matplotlib.pyplot as plt\n",
    "\n",
    "fig2, (ax1, ax2, ax3, ax4) = plt.subplots(1, 4)\n",
    "fig2.set_figwidth(16)\n",
    "\n",
    "ax1.hist(training_sample['alpha_1'].values, bins=500)\n",
    "ax1.set_xlabel('alpha_1')\n",
    "ax1.set_ylabel('y')\n",
    "\n",
    "ax2.hist(training_sample['alpha_2'].values, bins=500)\n",
    "ax2.set_xlabel('alpha_2')\n",
    "ax2.set_ylabel('y')\n",
    "\n",
    "ax3.hist(training_sample['alpha_3'].values, bins=100)\n",
    "ax3.set_xlabel('alpha_3')\n",
    "ax3.set_ylabel('y')\n",
    "\n",
    "ax4.hist(training_sample['alpha_4'].values, bins=5)\n",
    "ax4.set_xlabel('alpha_4')\n",
    "ax4.set_ylabel('y')"
   ]
  },
  {
   "cell_type": "code",
   "execution_count": 30,
   "metadata": {},
   "outputs": [
    {
     "data": {
      "text/plain": [
       "Text(0, 0.5, 'y')"
      ]
     },
     "execution_count": 30,
     "metadata": {},
     "output_type": "execute_result"
    },
    {
     "data": {
      "image/png": "[encoded data removed]",
      "text/plain": [
       "<Figure size 1152x288 with 4 Axes>"
      ]
     },
     "metadata": {
      "needs_background": "light"
     },
     "output_type": "display_data"
    }
   ],
   "source": [
    "fig3, (ax1, ax2, ax3, ax4) = plt.subplots(1, 4)\n",
    "fig3.set_figwidth(16)\n",
    "ax1.hist(training_sample['alpha_5'].values, bins=100)\n",
    "ax1.set_xlabel('alpha_5')\n",
    "ax1.set_ylabel('y')\n",
    "\n",
    "ax2.hist(training_sample['alpha_6'].values, bins=100)\n",
    "ax2.set_xlabel('alpha_6')\n",
    "ax2.set_ylabel('y')\n",
    "\n",
    "ax3.hist(training_sample['alpha_7'].values, bins=500)\n",
    "ax3.set_xlabel('alpha_7')\n",
    "ax3.set_ylabel('y')\n",
    "\n",
    "ax4.hist(training_sample['alpha_8'].values, bins=5000)\n",
    "ax4.set_xlabel('alpha_8')\n",
    "ax4.set_ylabel('y')"
   ]
  },
  {
   "cell_type": "code",
   "execution_count": 47,
   "metadata": {},
   "outputs": [
    {
     "data": {
      "text/plain": [
       "Text(0, 0.5, 'y')"
      ]
     },
     "execution_count": 47,
     "metadata": {},
     "output_type": "execute_result"
    },
    {
     "data": {
      "image/png": "[encoded data removed]",
      "text/plain": [
       "<Figure size 1152x288 with 2 Axes>"
      ]
     },
     "metadata": {
      "needs_background": "light"
     },
     "output_type": "display_data"
    }
   ],
   "source": [
    "fig4, (ax1, ax2) = plt.subplots(1, 2)\n",
    "fig4.set_figwidth(16)\n",
    "ax1.hist(training_sample['alpha_9'].values, bins=10)\n",
    "ax1.set_xlabel('alpha_9')\n",
    "ax1.set_ylabel('y')\n",
    "\n",
    "ax2.hist(training_sample['alpha_10'].values, bins=500)\n",
    "ax2.set_xlabel('alpha_10')\n",
    "ax2.set_ylabel('y')"
   ]
  },
  {
   "cell_type": "code",
   "execution_count": 39,
   "metadata": {},
   "outputs": [
    {
     "data": {
      "text/plain": [
       "Text(0, 0.5, 'y')"
      ]
     },
     "execution_count": 39,
     "metadata": {},
     "output_type": "execute_result"
    },
    {
     "data": {
      "image/png": "[encoded data removed]",
      "text/plain": [
       "<Figure size 1152x288 with 3 Axes>"
      ]
     },
     "metadata": {
      "needs_background": "light"
     },
     "output_type": "display_data"
    }
   ],
   "source": [
    "fig4, (ax1, ax2, ax3) = plt.subplots(1, 3)\n",
    "fig4.set_figwidth(16)\n",
    "ax1.hist(training_sample['dx_2'].values, bins=500)\n",
    "ax1.set_xlabel('dx_2')\n",
    "ax1.set_ylabel('y')\n",
    "\n",
    "ax2.hist(training_sample['dx_3'].values, bins=500)\n",
    "ax2.set_xlabel('dx_3')\n",
    "ax2.set_ylabel('y')\n",
    "\n",
    "ax3.hist(training_sample['dx_5'].values, bins=500)\n",
    "ax3.set_xlabel('dx_5')\n",
    "ax3.set_ylabel('y')\n"
   ]
  },
  {
   "cell_type": "code",
   "execution_count": null,
   "metadata": {},
   "outputs": [],
   "source": []
  }
 ],
 "metadata": {
  "kernelspec": {
   "display_name": "Python 3",
   "language": "python",
   "name": "python3"
  },
  "language_info": {
   "codemirror_mode": {
    "name": "ipython",
    "version": 3
   },
   "file_extension": ".py",
   "mimetype": "text/x-python",
   "name": "python",
   "nbconvert_exporter": "python",
   "pygments_lexer": "ipython3",
   "version": "3.6.7"
  }
 },
 "nbformat": 4,
 "nbformat_minor": 2
}
